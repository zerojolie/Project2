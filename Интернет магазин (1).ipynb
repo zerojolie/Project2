{
 "cells": [
  {
   "cell_type": "markdown",
   "metadata": {},
   "source": [
    "# Исследование и анализ данных интернет-магазина \"Стримчик\"."
   ]
  },
  {
   "cell_type": "markdown",
   "metadata": {},
   "source": [
    " Из открытых источников доступны исторические данные о продажах игр, оценки пользователей и экспертов, жанры и платформы (например, Xbox или PlayStation). Нужно выявить определяющие успешность игры закономерности. Это позволит сделать ставку на потенциально популярный продукт и спланировать рекламные кампании."
   ]
  },
  {
   "cell_type": "markdown",
   "metadata": {},
   "source": [
    "# Импорт библиотек\n"
   ]
  },
  {
   "cell_type": "code",
   "execution_count": 1,
   "metadata": {},
   "outputs": [],
   "source": [
    "import pandas as pd\n",
    "from matplotlib import pyplot as plt\n",
    "import seaborn as sns\n",
    "import numpy as np\n",
    "from scipy import stats as st\n",
    "#импорт библиотек"
   ]
  },
  {
   "cell_type": "markdown",
   "metadata": {},
   "source": [
    "## Импорт данных и их общая информация."
   ]
  },
  {
   "cell_type": "code",
   "execution_count": 2,
   "metadata": {},
   "outputs": [
    {
     "name": "stdout",
     "output_type": "stream",
     "text": [
      "<class 'pandas.core.frame.DataFrame'>\n",
      "RangeIndex: 16715 entries, 0 to 16714\n",
      "Data columns (total 11 columns):\n",
      " #   Column           Non-Null Count  Dtype  \n",
      "---  ------           --------------  -----  \n",
      " 0   Name             16713 non-null  object \n",
      " 1   Platform         16715 non-null  object \n",
      " 2   Year_of_Release  16446 non-null  float64\n",
      " 3   Genre            16713 non-null  object \n",
      " 4   NA_sales         16715 non-null  float64\n",
      " 5   EU_sales         16715 non-null  float64\n",
      " 6   JP_sales         16715 non-null  float64\n",
      " 7   Other_sales      16715 non-null  float64\n",
      " 8   Critic_Score     8137 non-null   float64\n",
      " 9   User_Score       10014 non-null  object \n",
      " 10  Rating           9949 non-null   object \n",
      "dtypes: float64(6), object(5)\n",
      "memory usage: 1.4+ MB\n"
     ]
    }
   ],
   "source": [
    "df = pd.read_csv('/datasets/games.csv')\n",
    "df.info()"
   ]
  },
  {
   "cell_type": "code",
   "execution_count": 3,
   "metadata": {},
   "outputs": [
    {
     "data": {
      "text/plain": [
       "Index(['Name', 'Platform', 'Year_of_Release', 'Genre', 'NA_sales', 'EU_sales',\n",
       "       'JP_sales', 'Other_sales', 'Critic_Score', 'User_Score', 'Rating'],\n",
       "      dtype='object')"
      ]
     },
     "execution_count": 3,
     "metadata": {},
     "output_type": "execute_result"
    }
   ],
   "source": [
    "df.columns"
   ]
  },
  {
   "cell_type": "code",
   "execution_count": 4,
   "metadata": {},
   "outputs": [
    {
     "data": {
      "text/html": [
       "<div>\n",
       "<style scoped>\n",
       "    .dataframe tbody tr th:only-of-type {\n",
       "        vertical-align: middle;\n",
       "    }\n",
       "\n",
       "    .dataframe tbody tr th {\n",
       "        vertical-align: top;\n",
       "    }\n",
       "\n",
       "    .dataframe thead th {\n",
       "        text-align: right;\n",
       "    }\n",
       "</style>\n",
       "<table border=\"1\" class=\"dataframe\">\n",
       "  <thead>\n",
       "    <tr style=\"text-align: right;\">\n",
       "      <th></th>\n",
       "      <th>Name</th>\n",
       "      <th>Platform</th>\n",
       "      <th>Year_of_Release</th>\n",
       "      <th>Genre</th>\n",
       "      <th>NA_sales</th>\n",
       "      <th>EU_sales</th>\n",
       "      <th>JP_sales</th>\n",
       "      <th>Other_sales</th>\n",
       "      <th>Critic_Score</th>\n",
       "      <th>User_Score</th>\n",
       "      <th>Rating</th>\n",
       "    </tr>\n",
       "  </thead>\n",
       "  <tbody>\n",
       "    <tr>\n",
       "      <th>0</th>\n",
       "      <td>Wii Sports</td>\n",
       "      <td>Wii</td>\n",
       "      <td>2006.0</td>\n",
       "      <td>Sports</td>\n",
       "      <td>41.36</td>\n",
       "      <td>28.96</td>\n",
       "      <td>3.77</td>\n",
       "      <td>8.45</td>\n",
       "      <td>76.0</td>\n",
       "      <td>8</td>\n",
       "      <td>E</td>\n",
       "    </tr>\n",
       "    <tr>\n",
       "      <th>1</th>\n",
       "      <td>Super Mario Bros.</td>\n",
       "      <td>NES</td>\n",
       "      <td>1985.0</td>\n",
       "      <td>Platform</td>\n",
       "      <td>29.08</td>\n",
       "      <td>3.58</td>\n",
       "      <td>6.81</td>\n",
       "      <td>0.77</td>\n",
       "      <td>NaN</td>\n",
       "      <td>NaN</td>\n",
       "      <td>NaN</td>\n",
       "    </tr>\n",
       "    <tr>\n",
       "      <th>2</th>\n",
       "      <td>Mario Kart Wii</td>\n",
       "      <td>Wii</td>\n",
       "      <td>2008.0</td>\n",
       "      <td>Racing</td>\n",
       "      <td>15.68</td>\n",
       "      <td>12.76</td>\n",
       "      <td>3.79</td>\n",
       "      <td>3.29</td>\n",
       "      <td>82.0</td>\n",
       "      <td>8.3</td>\n",
       "      <td>E</td>\n",
       "    </tr>\n",
       "    <tr>\n",
       "      <th>3</th>\n",
       "      <td>Wii Sports Resort</td>\n",
       "      <td>Wii</td>\n",
       "      <td>2009.0</td>\n",
       "      <td>Sports</td>\n",
       "      <td>15.61</td>\n",
       "      <td>10.93</td>\n",
       "      <td>3.28</td>\n",
       "      <td>2.95</td>\n",
       "      <td>80.0</td>\n",
       "      <td>8</td>\n",
       "      <td>E</td>\n",
       "    </tr>\n",
       "    <tr>\n",
       "      <th>4</th>\n",
       "      <td>Pokemon Red/Pokemon Blue</td>\n",
       "      <td>GB</td>\n",
       "      <td>1996.0</td>\n",
       "      <td>Role-Playing</td>\n",
       "      <td>11.27</td>\n",
       "      <td>8.89</td>\n",
       "      <td>10.22</td>\n",
       "      <td>1.00</td>\n",
       "      <td>NaN</td>\n",
       "      <td>NaN</td>\n",
       "      <td>NaN</td>\n",
       "    </tr>\n",
       "    <tr>\n",
       "      <th>5</th>\n",
       "      <td>Tetris</td>\n",
       "      <td>GB</td>\n",
       "      <td>1989.0</td>\n",
       "      <td>Puzzle</td>\n",
       "      <td>23.20</td>\n",
       "      <td>2.26</td>\n",
       "      <td>4.22</td>\n",
       "      <td>0.58</td>\n",
       "      <td>NaN</td>\n",
       "      <td>NaN</td>\n",
       "      <td>NaN</td>\n",
       "    </tr>\n",
       "    <tr>\n",
       "      <th>6</th>\n",
       "      <td>New Super Mario Bros.</td>\n",
       "      <td>DS</td>\n",
       "      <td>2006.0</td>\n",
       "      <td>Platform</td>\n",
       "      <td>11.28</td>\n",
       "      <td>9.14</td>\n",
       "      <td>6.50</td>\n",
       "      <td>2.88</td>\n",
       "      <td>89.0</td>\n",
       "      <td>8.5</td>\n",
       "      <td>E</td>\n",
       "    </tr>\n",
       "    <tr>\n",
       "      <th>7</th>\n",
       "      <td>Wii Play</td>\n",
       "      <td>Wii</td>\n",
       "      <td>2006.0</td>\n",
       "      <td>Misc</td>\n",
       "      <td>13.96</td>\n",
       "      <td>9.18</td>\n",
       "      <td>2.93</td>\n",
       "      <td>2.84</td>\n",
       "      <td>58.0</td>\n",
       "      <td>6.6</td>\n",
       "      <td>E</td>\n",
       "    </tr>\n",
       "    <tr>\n",
       "      <th>8</th>\n",
       "      <td>New Super Mario Bros. Wii</td>\n",
       "      <td>Wii</td>\n",
       "      <td>2009.0</td>\n",
       "      <td>Platform</td>\n",
       "      <td>14.44</td>\n",
       "      <td>6.94</td>\n",
       "      <td>4.70</td>\n",
       "      <td>2.24</td>\n",
       "      <td>87.0</td>\n",
       "      <td>8.4</td>\n",
       "      <td>E</td>\n",
       "    </tr>\n",
       "    <tr>\n",
       "      <th>9</th>\n",
       "      <td>Duck Hunt</td>\n",
       "      <td>NES</td>\n",
       "      <td>1984.0</td>\n",
       "      <td>Shooter</td>\n",
       "      <td>26.93</td>\n",
       "      <td>0.63</td>\n",
       "      <td>0.28</td>\n",
       "      <td>0.47</td>\n",
       "      <td>NaN</td>\n",
       "      <td>NaN</td>\n",
       "      <td>NaN</td>\n",
       "    </tr>\n",
       "  </tbody>\n",
       "</table>\n",
       "</div>"
      ],
      "text/plain": [
       "                        Name Platform  Year_of_Release         Genre  \\\n",
       "0                 Wii Sports      Wii           2006.0        Sports   \n",
       "1          Super Mario Bros.      NES           1985.0      Platform   \n",
       "2             Mario Kart Wii      Wii           2008.0        Racing   \n",
       "3          Wii Sports Resort      Wii           2009.0        Sports   \n",
       "4   Pokemon Red/Pokemon Blue       GB           1996.0  Role-Playing   \n",
       "5                     Tetris       GB           1989.0        Puzzle   \n",
       "6      New Super Mario Bros.       DS           2006.0      Platform   \n",
       "7                   Wii Play      Wii           2006.0          Misc   \n",
       "8  New Super Mario Bros. Wii      Wii           2009.0      Platform   \n",
       "9                  Duck Hunt      NES           1984.0       Shooter   \n",
       "\n",
       "   NA_sales  EU_sales  JP_sales  Other_sales  Critic_Score User_Score Rating  \n",
       "0     41.36     28.96      3.77         8.45          76.0          8      E  \n",
       "1     29.08      3.58      6.81         0.77           NaN        NaN    NaN  \n",
       "2     15.68     12.76      3.79         3.29          82.0        8.3      E  \n",
       "3     15.61     10.93      3.28         2.95          80.0          8      E  \n",
       "4     11.27      8.89     10.22         1.00           NaN        NaN    NaN  \n",
       "5     23.20      2.26      4.22         0.58           NaN        NaN    NaN  \n",
       "6     11.28      9.14      6.50         2.88          89.0        8.5      E  \n",
       "7     13.96      9.18      2.93         2.84          58.0        6.6      E  \n",
       "8     14.44      6.94      4.70         2.24          87.0        8.4      E  \n",
       "9     26.93      0.63      0.28         0.47           NaN        NaN    NaN  "
      ]
     },
     "execution_count": 4,
     "metadata": {},
     "output_type": "execute_result"
    }
   ],
   "source": [
    "df.head(10)"
   ]
  },
  {
   "cell_type": "code",
   "execution_count": 5,
   "metadata": {},
   "outputs": [
    {
     "data": {
      "text/plain": [
       "(16715, 11)"
      ]
     },
     "execution_count": 5,
     "metadata": {},
     "output_type": "execute_result"
    }
   ],
   "source": [
    "df.shape"
   ]
  },
  {
   "cell_type": "code",
   "execution_count": 6,
   "metadata": {},
   "outputs": [
    {
     "data": {
      "text/plain": [
       "0"
      ]
     },
     "execution_count": 6,
     "metadata": {},
     "output_type": "execute_result"
    }
   ],
   "source": [
    "df.duplicated().sum()\n",
    "#сумма явных дубликатов"
   ]
  },
  {
   "cell_type": "code",
   "execution_count": 7,
   "metadata": {},
   "outputs": [
    {
     "data": {
      "text/plain": [
       "Name                  2\n",
       "Platform              0\n",
       "Year_of_Release     269\n",
       "Genre                 2\n",
       "NA_sales              0\n",
       "EU_sales              0\n",
       "JP_sales              0\n",
       "Other_sales           0\n",
       "Critic_Score       8578\n",
       "User_Score         6701\n",
       "Rating             6766\n",
       "dtype: int64"
      ]
     },
     "execution_count": 7,
     "metadata": {},
     "output_type": "execute_result"
    }
   ],
   "source": [
    "df.isna().sum()\n",
    "#проверка пропусков"
   ]
  },
  {
   "cell_type": "code",
   "execution_count": 8,
   "metadata": {},
   "outputs": [
    {
     "data": {
      "text/plain": [
       "PS2     2161\n",
       "DS      2151\n",
       "PS3     1331\n",
       "Wii     1320\n",
       "X360    1262\n",
       "PSP     1209\n",
       "PS      1197\n",
       "PC       974\n",
       "XB       824\n",
       "GBA      822\n",
       "GC       556\n",
       "3DS      520\n",
       "PSV      430\n",
       "PS4      392\n",
       "N64      319\n",
       "XOne     247\n",
       "SNES     239\n",
       "SAT      173\n",
       "WiiU     147\n",
       "2600     133\n",
       "NES       98\n",
       "GB        98\n",
       "DC        52\n",
       "GEN       29\n",
       "NG        12\n",
       "WS         6\n",
       "SCD        6\n",
       "3DO        3\n",
       "TG16       2\n",
       "GG         1\n",
       "PCFX       1\n",
       "Name: Platform, dtype: int64"
      ]
     },
     "execution_count": 8,
     "metadata": {},
     "output_type": "execute_result"
    }
   ],
   "source": [
    "df['Platform'].value_counts()\n",
    "#Смотрим список платформ, на количество уникальных имен"
   ]
  },
  {
   "cell_type": "code",
   "execution_count": 9,
   "metadata": {},
   "outputs": [
    {
     "data": {
      "text/plain": [
       "Action          3369\n",
       "Sports          2348\n",
       "Misc            1750\n",
       "Role-Playing    1498\n",
       "Shooter         1323\n",
       "Adventure       1303\n",
       "Racing          1249\n",
       "Platform         888\n",
       "Simulation       873\n",
       "Fighting         849\n",
       "Strategy         683\n",
       "Puzzle           580\n",
       "Name: Genre, dtype: int64"
      ]
     },
     "execution_count": 9,
     "metadata": {},
     "output_type": "execute_result"
    }
   ],
   "source": [
    "df['Genre'].value_counts()\n",
    "#Смотрим список жанров, на количество уникальных имен"
   ]
  },
  {
   "cell_type": "markdown",
   "metadata": {},
   "source": [
    "**Вывод**:\n",
    "Импортировали данные, в датафрейм df. Явных дубликатов не имеется , есть пропуски в столбцах 'Year_of_Release' , 'Critic_Score', 'User_Score', 'Rating'. Надо будет иззменить тип данных в \"year_of_release\" и \"user_score\".\n"
   ]
  },
  {
   "cell_type": "markdown",
   "metadata": {},
   "source": [
    "## Предобработка данных."
   ]
  },
  {
   "cell_type": "code",
   "execution_count": 10,
   "metadata": {},
   "outputs": [
    {
     "data": {
      "text/plain": [
       "Index(['name', 'platform', 'year_of_release', 'genre', 'na_sales', 'eu_sales',\n",
       "       'jp_sales', 'other_sales', 'critic_score', 'user_score', 'rating'],\n",
       "      dtype='object')"
      ]
     },
     "execution_count": 10,
     "metadata": {},
     "output_type": "execute_result"
    }
   ],
   "source": [
    "df.columns = df.columns.str.lower()\n",
    "df.columns"
   ]
  },
  {
   "cell_type": "markdown",
   "metadata": {},
   "source": [
    "Замена названия столбцов, на нижний регистр."
   ]
  },
  {
   "cell_type": "code",
   "execution_count": 11,
   "metadata": {},
   "outputs": [
    {
     "data": {
      "text/plain": [
       "name                object\n",
       "platform            object\n",
       "year_of_release      Int64\n",
       "genre               object\n",
       "na_sales           float64\n",
       "eu_sales           float64\n",
       "jp_sales           float64\n",
       "other_sales        float64\n",
       "critic_score       float64\n",
       "user_score          object\n",
       "rating              object\n",
       "dtype: object"
      ]
     },
     "execution_count": 11,
     "metadata": {},
     "output_type": "execute_result"
    }
   ],
   "source": [
    "df['year_of_release'] = df['year_of_release'].astype('Int64')\n",
    "df.dtypes"
   ]
  },
  {
   "cell_type": "markdown",
   "metadata": {},
   "source": [
    "Меняем тип данных в столбце \"year_of_release\", потому что год имеет целое число."
   ]
  },
  {
   "cell_type": "markdown",
   "metadata": {},
   "source": [
    "### Работа с пропусками."
   ]
  },
  {
   "cell_type": "code",
   "execution_count": 12,
   "metadata": {},
   "outputs": [
    {
     "data": {
      "text/html": [
       "<div>\n",
       "<style scoped>\n",
       "    .dataframe tbody tr th:only-of-type {\n",
       "        vertical-align: middle;\n",
       "    }\n",
       "\n",
       "    .dataframe tbody tr th {\n",
       "        vertical-align: top;\n",
       "    }\n",
       "\n",
       "    .dataframe thead th {\n",
       "        text-align: right;\n",
       "    }\n",
       "</style>\n",
       "<table border=\"1\" class=\"dataframe\">\n",
       "  <thead>\n",
       "    <tr style=\"text-align: right;\">\n",
       "      <th></th>\n",
       "      <th>name</th>\n",
       "      <th>platform</th>\n",
       "      <th>year_of_release</th>\n",
       "      <th>genre</th>\n",
       "      <th>na_sales</th>\n",
       "      <th>eu_sales</th>\n",
       "      <th>jp_sales</th>\n",
       "      <th>other_sales</th>\n",
       "      <th>critic_score</th>\n",
       "      <th>user_score</th>\n",
       "      <th>rating</th>\n",
       "    </tr>\n",
       "  </thead>\n",
       "  <tbody>\n",
       "    <tr>\n",
       "      <th>659</th>\n",
       "      <td>NaN</td>\n",
       "      <td>GEN</td>\n",
       "      <td>1993</td>\n",
       "      <td>NaN</td>\n",
       "      <td>1.78</td>\n",
       "      <td>0.53</td>\n",
       "      <td>0.00</td>\n",
       "      <td>0.08</td>\n",
       "      <td>NaN</td>\n",
       "      <td>NaN</td>\n",
       "      <td>NaN</td>\n",
       "    </tr>\n",
       "    <tr>\n",
       "      <th>14244</th>\n",
       "      <td>NaN</td>\n",
       "      <td>GEN</td>\n",
       "      <td>1993</td>\n",
       "      <td>NaN</td>\n",
       "      <td>0.00</td>\n",
       "      <td>0.00</td>\n",
       "      <td>0.03</td>\n",
       "      <td>0.00</td>\n",
       "      <td>NaN</td>\n",
       "      <td>NaN</td>\n",
       "      <td>NaN</td>\n",
       "    </tr>\n",
       "  </tbody>\n",
       "</table>\n",
       "</div>"
      ],
      "text/plain": [
       "      name platform  year_of_release genre  na_sales  eu_sales  jp_sales  \\\n",
       "659    NaN      GEN             1993   NaN      1.78      0.53      0.00   \n",
       "14244  NaN      GEN             1993   NaN      0.00      0.00      0.03   \n",
       "\n",
       "       other_sales  critic_score user_score rating  \n",
       "659           0.08           NaN        NaN    NaN  \n",
       "14244         0.00           NaN        NaN    NaN  "
      ]
     },
     "execution_count": 12,
     "metadata": {},
     "output_type": "execute_result"
    }
   ],
   "source": [
    "df[df['name'].isna()]"
   ]
  },
  {
   "cell_type": "code",
   "execution_count": 13,
   "metadata": {},
   "outputs": [],
   "source": [
    "df = df.dropna(subset=['name'])"
   ]
  },
  {
   "cell_type": "code",
   "execution_count": 14,
   "metadata": {},
   "outputs": [
    {
     "data": {
      "text/html": [
       "<div>\n",
       "<style scoped>\n",
       "    .dataframe tbody tr th:only-of-type {\n",
       "        vertical-align: middle;\n",
       "    }\n",
       "\n",
       "    .dataframe tbody tr th {\n",
       "        vertical-align: top;\n",
       "    }\n",
       "\n",
       "    .dataframe thead th {\n",
       "        text-align: right;\n",
       "    }\n",
       "</style>\n",
       "<table border=\"1\" class=\"dataframe\">\n",
       "  <thead>\n",
       "    <tr style=\"text-align: right;\">\n",
       "      <th></th>\n",
       "      <th>name</th>\n",
       "      <th>platform</th>\n",
       "      <th>year_of_release</th>\n",
       "      <th>genre</th>\n",
       "      <th>na_sales</th>\n",
       "      <th>eu_sales</th>\n",
       "      <th>jp_sales</th>\n",
       "      <th>other_sales</th>\n",
       "      <th>critic_score</th>\n",
       "      <th>user_score</th>\n",
       "      <th>rating</th>\n",
       "    </tr>\n",
       "  </thead>\n",
       "  <tbody>\n",
       "    <tr>\n",
       "      <th>183</th>\n",
       "      <td>Madden NFL 2004</td>\n",
       "      <td>PS2</td>\n",
       "      <td>&lt;NA&gt;</td>\n",
       "      <td>Sports</td>\n",
       "      <td>4.26</td>\n",
       "      <td>0.26</td>\n",
       "      <td>0.01</td>\n",
       "      <td>0.71</td>\n",
       "      <td>94.0</td>\n",
       "      <td>8.5</td>\n",
       "      <td>E</td>\n",
       "    </tr>\n",
       "    <tr>\n",
       "      <th>377</th>\n",
       "      <td>FIFA Soccer 2004</td>\n",
       "      <td>PS2</td>\n",
       "      <td>&lt;NA&gt;</td>\n",
       "      <td>Sports</td>\n",
       "      <td>0.59</td>\n",
       "      <td>2.36</td>\n",
       "      <td>0.04</td>\n",
       "      <td>0.51</td>\n",
       "      <td>84.0</td>\n",
       "      <td>6.4</td>\n",
       "      <td>E</td>\n",
       "    </tr>\n",
       "    <tr>\n",
       "      <th>456</th>\n",
       "      <td>LEGO Batman: The Videogame</td>\n",
       "      <td>Wii</td>\n",
       "      <td>&lt;NA&gt;</td>\n",
       "      <td>Action</td>\n",
       "      <td>1.80</td>\n",
       "      <td>0.97</td>\n",
       "      <td>0.00</td>\n",
       "      <td>0.29</td>\n",
       "      <td>74.0</td>\n",
       "      <td>7.9</td>\n",
       "      <td>E10+</td>\n",
       "    </tr>\n",
       "    <tr>\n",
       "      <th>475</th>\n",
       "      <td>wwe Smackdown vs. Raw 2006</td>\n",
       "      <td>PS2</td>\n",
       "      <td>&lt;NA&gt;</td>\n",
       "      <td>Fighting</td>\n",
       "      <td>1.57</td>\n",
       "      <td>1.02</td>\n",
       "      <td>0.00</td>\n",
       "      <td>0.41</td>\n",
       "      <td>NaN</td>\n",
       "      <td>NaN</td>\n",
       "      <td>NaN</td>\n",
       "    </tr>\n",
       "    <tr>\n",
       "      <th>609</th>\n",
       "      <td>Space Invaders</td>\n",
       "      <td>2600</td>\n",
       "      <td>&lt;NA&gt;</td>\n",
       "      <td>Shooter</td>\n",
       "      <td>2.36</td>\n",
       "      <td>0.14</td>\n",
       "      <td>0.00</td>\n",
       "      <td>0.03</td>\n",
       "      <td>NaN</td>\n",
       "      <td>NaN</td>\n",
       "      <td>NaN</td>\n",
       "    </tr>\n",
       "    <tr>\n",
       "      <th>627</th>\n",
       "      <td>Rock Band</td>\n",
       "      <td>X360</td>\n",
       "      <td>&lt;NA&gt;</td>\n",
       "      <td>Misc</td>\n",
       "      <td>1.93</td>\n",
       "      <td>0.33</td>\n",
       "      <td>0.00</td>\n",
       "      <td>0.21</td>\n",
       "      <td>92.0</td>\n",
       "      <td>8.2</td>\n",
       "      <td>T</td>\n",
       "    </tr>\n",
       "    <tr>\n",
       "      <th>657</th>\n",
       "      <td>Frogger's Adventures: Temple of the Frog</td>\n",
       "      <td>GBA</td>\n",
       "      <td>&lt;NA&gt;</td>\n",
       "      <td>Adventure</td>\n",
       "      <td>2.15</td>\n",
       "      <td>0.18</td>\n",
       "      <td>0.00</td>\n",
       "      <td>0.07</td>\n",
       "      <td>73.0</td>\n",
       "      <td>tbd</td>\n",
       "      <td>E</td>\n",
       "    </tr>\n",
       "    <tr>\n",
       "      <th>678</th>\n",
       "      <td>LEGO Indiana Jones: The Original Adventures</td>\n",
       "      <td>Wii</td>\n",
       "      <td>&lt;NA&gt;</td>\n",
       "      <td>Action</td>\n",
       "      <td>1.51</td>\n",
       "      <td>0.61</td>\n",
       "      <td>0.00</td>\n",
       "      <td>0.21</td>\n",
       "      <td>78.0</td>\n",
       "      <td>6.6</td>\n",
       "      <td>E10+</td>\n",
       "    </tr>\n",
       "    <tr>\n",
       "      <th>719</th>\n",
       "      <td>Call of Duty 3</td>\n",
       "      <td>Wii</td>\n",
       "      <td>&lt;NA&gt;</td>\n",
       "      <td>Shooter</td>\n",
       "      <td>1.17</td>\n",
       "      <td>0.84</td>\n",
       "      <td>0.00</td>\n",
       "      <td>0.23</td>\n",
       "      <td>69.0</td>\n",
       "      <td>6.7</td>\n",
       "      <td>T</td>\n",
       "    </tr>\n",
       "    <tr>\n",
       "      <th>805</th>\n",
       "      <td>Rock Band</td>\n",
       "      <td>Wii</td>\n",
       "      <td>&lt;NA&gt;</td>\n",
       "      <td>Misc</td>\n",
       "      <td>1.33</td>\n",
       "      <td>0.56</td>\n",
       "      <td>0.00</td>\n",
       "      <td>0.20</td>\n",
       "      <td>80.0</td>\n",
       "      <td>6.3</td>\n",
       "      <td>T</td>\n",
       "    </tr>\n",
       "    <tr>\n",
       "      <th>1131</th>\n",
       "      <td>Call of Duty: Black Ops</td>\n",
       "      <td>PC</td>\n",
       "      <td>&lt;NA&gt;</td>\n",
       "      <td>Shooter</td>\n",
       "      <td>0.58</td>\n",
       "      <td>0.81</td>\n",
       "      <td>0.00</td>\n",
       "      <td>0.23</td>\n",
       "      <td>81.0</td>\n",
       "      <td>5.2</td>\n",
       "      <td>M</td>\n",
       "    </tr>\n",
       "    <tr>\n",
       "      <th>1142</th>\n",
       "      <td>Rock Band</td>\n",
       "      <td>PS3</td>\n",
       "      <td>&lt;NA&gt;</td>\n",
       "      <td>Misc</td>\n",
       "      <td>0.99</td>\n",
       "      <td>0.41</td>\n",
       "      <td>0.00</td>\n",
       "      <td>0.22</td>\n",
       "      <td>92.0</td>\n",
       "      <td>8.4</td>\n",
       "      <td>T</td>\n",
       "    </tr>\n",
       "    <tr>\n",
       "      <th>1301</th>\n",
       "      <td>Triple Play 99</td>\n",
       "      <td>PS</td>\n",
       "      <td>&lt;NA&gt;</td>\n",
       "      <td>Sports</td>\n",
       "      <td>0.81</td>\n",
       "      <td>0.55</td>\n",
       "      <td>0.00</td>\n",
       "      <td>0.10</td>\n",
       "      <td>NaN</td>\n",
       "      <td>NaN</td>\n",
       "      <td>NaN</td>\n",
       "    </tr>\n",
       "    <tr>\n",
       "      <th>1506</th>\n",
       "      <td>Adventure</td>\n",
       "      <td>2600</td>\n",
       "      <td>&lt;NA&gt;</td>\n",
       "      <td>Adventure</td>\n",
       "      <td>1.21</td>\n",
       "      <td>0.08</td>\n",
       "      <td>0.00</td>\n",
       "      <td>0.01</td>\n",
       "      <td>NaN</td>\n",
       "      <td>NaN</td>\n",
       "      <td>NaN</td>\n",
       "    </tr>\n",
       "    <tr>\n",
       "      <th>1538</th>\n",
       "      <td>LEGO Batman: The Videogame</td>\n",
       "      <td>PSP</td>\n",
       "      <td>&lt;NA&gt;</td>\n",
       "      <td>Action</td>\n",
       "      <td>0.57</td>\n",
       "      <td>0.44</td>\n",
       "      <td>0.00</td>\n",
       "      <td>0.27</td>\n",
       "      <td>73.0</td>\n",
       "      <td>7.4</td>\n",
       "      <td>E10+</td>\n",
       "    </tr>\n",
       "    <tr>\n",
       "      <th>1585</th>\n",
       "      <td>Combat</td>\n",
       "      <td>2600</td>\n",
       "      <td>&lt;NA&gt;</td>\n",
       "      <td>Action</td>\n",
       "      <td>1.17</td>\n",
       "      <td>0.07</td>\n",
       "      <td>0.00</td>\n",
       "      <td>0.01</td>\n",
       "      <td>NaN</td>\n",
       "      <td>NaN</td>\n",
       "      <td>NaN</td>\n",
       "    </tr>\n",
       "    <tr>\n",
       "      <th>1609</th>\n",
       "      <td>LEGO Harry Potter: Years 5-7</td>\n",
       "      <td>Wii</td>\n",
       "      <td>&lt;NA&gt;</td>\n",
       "      <td>Action</td>\n",
       "      <td>0.69</td>\n",
       "      <td>0.42</td>\n",
       "      <td>0.00</td>\n",
       "      <td>0.12</td>\n",
       "      <td>76.0</td>\n",
       "      <td>7.8</td>\n",
       "      <td>E10+</td>\n",
       "    </tr>\n",
       "    <tr>\n",
       "      <th>1650</th>\n",
       "      <td>NASCAR Thunder 2003</td>\n",
       "      <td>PS2</td>\n",
       "      <td>&lt;NA&gt;</td>\n",
       "      <td>Racing</td>\n",
       "      <td>0.60</td>\n",
       "      <td>0.46</td>\n",
       "      <td>0.00</td>\n",
       "      <td>0.16</td>\n",
       "      <td>84.0</td>\n",
       "      <td>8.7</td>\n",
       "      <td>E</td>\n",
       "    </tr>\n",
       "    <tr>\n",
       "      <th>1699</th>\n",
       "      <td>Hitman 2: Silent Assassin</td>\n",
       "      <td>XB</td>\n",
       "      <td>&lt;NA&gt;</td>\n",
       "      <td>Action</td>\n",
       "      <td>0.76</td>\n",
       "      <td>0.38</td>\n",
       "      <td>0.00</td>\n",
       "      <td>0.05</td>\n",
       "      <td>84.0</td>\n",
       "      <td>8</td>\n",
       "      <td>M</td>\n",
       "    </tr>\n",
       "    <tr>\n",
       "      <th>1840</th>\n",
       "      <td>Rock Band</td>\n",
       "      <td>PS2</td>\n",
       "      <td>&lt;NA&gt;</td>\n",
       "      <td>Misc</td>\n",
       "      <td>0.71</td>\n",
       "      <td>0.06</td>\n",
       "      <td>0.00</td>\n",
       "      <td>0.35</td>\n",
       "      <td>82.0</td>\n",
       "      <td>6.8</td>\n",
       "      <td>T</td>\n",
       "    </tr>\n",
       "    <tr>\n",
       "      <th>1984</th>\n",
       "      <td>Legacy of Kain: Soul Reaver</td>\n",
       "      <td>PS</td>\n",
       "      <td>&lt;NA&gt;</td>\n",
       "      <td>Action</td>\n",
       "      <td>0.58</td>\n",
       "      <td>0.40</td>\n",
       "      <td>0.00</td>\n",
       "      <td>0.07</td>\n",
       "      <td>91.0</td>\n",
       "      <td>9</td>\n",
       "      <td>T</td>\n",
       "    </tr>\n",
       "    <tr>\n",
       "      <th>2010</th>\n",
       "      <td>Donkey Kong Land III</td>\n",
       "      <td>GB</td>\n",
       "      <td>&lt;NA&gt;</td>\n",
       "      <td>Platform</td>\n",
       "      <td>0.68</td>\n",
       "      <td>0.31</td>\n",
       "      <td>0.00</td>\n",
       "      <td>0.04</td>\n",
       "      <td>NaN</td>\n",
       "      <td>NaN</td>\n",
       "      <td>NaN</td>\n",
       "    </tr>\n",
       "    <tr>\n",
       "      <th>2106</th>\n",
       "      <td>Air-Sea Battle</td>\n",
       "      <td>2600</td>\n",
       "      <td>&lt;NA&gt;</td>\n",
       "      <td>Shooter</td>\n",
       "      <td>0.91</td>\n",
       "      <td>0.06</td>\n",
       "      <td>0.00</td>\n",
       "      <td>0.01</td>\n",
       "      <td>NaN</td>\n",
       "      <td>NaN</td>\n",
       "      <td>NaN</td>\n",
       "    </tr>\n",
       "    <tr>\n",
       "      <th>2108</th>\n",
       "      <td>Suikoden III</td>\n",
       "      <td>PS2</td>\n",
       "      <td>&lt;NA&gt;</td>\n",
       "      <td>Role-Playing</td>\n",
       "      <td>0.29</td>\n",
       "      <td>0.23</td>\n",
       "      <td>0.38</td>\n",
       "      <td>0.08</td>\n",
       "      <td>86.0</td>\n",
       "      <td>7.7</td>\n",
       "      <td>T</td>\n",
       "    </tr>\n",
       "    <tr>\n",
       "      <th>2132</th>\n",
       "      <td>LEGO Harry Potter: Years 5-7</td>\n",
       "      <td>X360</td>\n",
       "      <td>&lt;NA&gt;</td>\n",
       "      <td>Action</td>\n",
       "      <td>0.51</td>\n",
       "      <td>0.37</td>\n",
       "      <td>0.00</td>\n",
       "      <td>0.09</td>\n",
       "      <td>77.0</td>\n",
       "      <td>7.9</td>\n",
       "      <td>E10+</td>\n",
       "    </tr>\n",
       "    <tr>\n",
       "      <th>2157</th>\n",
       "      <td>Wheel of Fortune</td>\n",
       "      <td>PS2</td>\n",
       "      <td>&lt;NA&gt;</td>\n",
       "      <td>Misc</td>\n",
       "      <td>0.47</td>\n",
       "      <td>0.36</td>\n",
       "      <td>0.00</td>\n",
       "      <td>0.12</td>\n",
       "      <td>NaN</td>\n",
       "      <td>tbd</td>\n",
       "      <td>E</td>\n",
       "    </tr>\n",
       "    <tr>\n",
       "      <th>2169</th>\n",
       "      <td>Yakuza 4</td>\n",
       "      <td>PS3</td>\n",
       "      <td>&lt;NA&gt;</td>\n",
       "      <td>Action</td>\n",
       "      <td>0.15</td>\n",
       "      <td>0.13</td>\n",
       "      <td>0.63</td>\n",
       "      <td>0.05</td>\n",
       "      <td>78.0</td>\n",
       "      <td>8</td>\n",
       "      <td>M</td>\n",
       "    </tr>\n",
       "    <tr>\n",
       "      <th>2273</th>\n",
       "      <td>LEGO Harry Potter: Years 5-7</td>\n",
       "      <td>PS3</td>\n",
       "      <td>&lt;NA&gt;</td>\n",
       "      <td>Action</td>\n",
       "      <td>0.36</td>\n",
       "      <td>0.41</td>\n",
       "      <td>0.00</td>\n",
       "      <td>0.15</td>\n",
       "      <td>76.0</td>\n",
       "      <td>8.3</td>\n",
       "      <td>E10+</td>\n",
       "    </tr>\n",
       "    <tr>\n",
       "      <th>2281</th>\n",
       "      <td>Namco Museum</td>\n",
       "      <td>XB</td>\n",
       "      <td>&lt;NA&gt;</td>\n",
       "      <td>Misc</td>\n",
       "      <td>0.77</td>\n",
       "      <td>0.11</td>\n",
       "      <td>0.00</td>\n",
       "      <td>0.04</td>\n",
       "      <td>59.0</td>\n",
       "      <td>tbd</td>\n",
       "      <td>E</td>\n",
       "    </tr>\n",
       "    <tr>\n",
       "      <th>2361</th>\n",
       "      <td>Rhythm Heaven</td>\n",
       "      <td>Wii</td>\n",
       "      <td>&lt;NA&gt;</td>\n",
       "      <td>Misc</td>\n",
       "      <td>0.11</td>\n",
       "      <td>0.00</td>\n",
       "      <td>0.77</td>\n",
       "      <td>0.01</td>\n",
       "      <td>NaN</td>\n",
       "      <td>NaN</td>\n",
       "      <td>NaN</td>\n",
       "    </tr>\n",
       "  </tbody>\n",
       "</table>\n",
       "</div>"
      ],
      "text/plain": [
       "                                             name platform  year_of_release  \\\n",
       "183                               Madden NFL 2004      PS2             <NA>   \n",
       "377                              FIFA Soccer 2004      PS2             <NA>   \n",
       "456                    LEGO Batman: The Videogame      Wii             <NA>   \n",
       "475                    wwe Smackdown vs. Raw 2006      PS2             <NA>   \n",
       "609                                Space Invaders     2600             <NA>   \n",
       "627                                     Rock Band     X360             <NA>   \n",
       "657      Frogger's Adventures: Temple of the Frog      GBA             <NA>   \n",
       "678   LEGO Indiana Jones: The Original Adventures      Wii             <NA>   \n",
       "719                                Call of Duty 3      Wii             <NA>   \n",
       "805                                     Rock Band      Wii             <NA>   \n",
       "1131                      Call of Duty: Black Ops       PC             <NA>   \n",
       "1142                                    Rock Band      PS3             <NA>   \n",
       "1301                               Triple Play 99       PS             <NA>   \n",
       "1506                                    Adventure     2600             <NA>   \n",
       "1538                   LEGO Batman: The Videogame      PSP             <NA>   \n",
       "1585                                       Combat     2600             <NA>   \n",
       "1609                 LEGO Harry Potter: Years 5-7      Wii             <NA>   \n",
       "1650                          NASCAR Thunder 2003      PS2             <NA>   \n",
       "1699                    Hitman 2: Silent Assassin       XB             <NA>   \n",
       "1840                                    Rock Band      PS2             <NA>   \n",
       "1984                  Legacy of Kain: Soul Reaver       PS             <NA>   \n",
       "2010                         Donkey Kong Land III       GB             <NA>   \n",
       "2106                               Air-Sea Battle     2600             <NA>   \n",
       "2108                                 Suikoden III      PS2             <NA>   \n",
       "2132                 LEGO Harry Potter: Years 5-7     X360             <NA>   \n",
       "2157                             Wheel of Fortune      PS2             <NA>   \n",
       "2169                                     Yakuza 4      PS3             <NA>   \n",
       "2273                 LEGO Harry Potter: Years 5-7      PS3             <NA>   \n",
       "2281                                 Namco Museum       XB             <NA>   \n",
       "2361                                Rhythm Heaven      Wii             <NA>   \n",
       "\n",
       "             genre  na_sales  eu_sales  jp_sales  other_sales  critic_score  \\\n",
       "183         Sports      4.26      0.26      0.01         0.71          94.0   \n",
       "377         Sports      0.59      2.36      0.04         0.51          84.0   \n",
       "456         Action      1.80      0.97      0.00         0.29          74.0   \n",
       "475       Fighting      1.57      1.02      0.00         0.41           NaN   \n",
       "609        Shooter      2.36      0.14      0.00         0.03           NaN   \n",
       "627           Misc      1.93      0.33      0.00         0.21          92.0   \n",
       "657      Adventure      2.15      0.18      0.00         0.07          73.0   \n",
       "678         Action      1.51      0.61      0.00         0.21          78.0   \n",
       "719        Shooter      1.17      0.84      0.00         0.23          69.0   \n",
       "805           Misc      1.33      0.56      0.00         0.20          80.0   \n",
       "1131       Shooter      0.58      0.81      0.00         0.23          81.0   \n",
       "1142          Misc      0.99      0.41      0.00         0.22          92.0   \n",
       "1301        Sports      0.81      0.55      0.00         0.10           NaN   \n",
       "1506     Adventure      1.21      0.08      0.00         0.01           NaN   \n",
       "1538        Action      0.57      0.44      0.00         0.27          73.0   \n",
       "1585        Action      1.17      0.07      0.00         0.01           NaN   \n",
       "1609        Action      0.69      0.42      0.00         0.12          76.0   \n",
       "1650        Racing      0.60      0.46      0.00         0.16          84.0   \n",
       "1699        Action      0.76      0.38      0.00         0.05          84.0   \n",
       "1840          Misc      0.71      0.06      0.00         0.35          82.0   \n",
       "1984        Action      0.58      0.40      0.00         0.07          91.0   \n",
       "2010      Platform      0.68      0.31      0.00         0.04           NaN   \n",
       "2106       Shooter      0.91      0.06      0.00         0.01           NaN   \n",
       "2108  Role-Playing      0.29      0.23      0.38         0.08          86.0   \n",
       "2132        Action      0.51      0.37      0.00         0.09          77.0   \n",
       "2157          Misc      0.47      0.36      0.00         0.12           NaN   \n",
       "2169        Action      0.15      0.13      0.63         0.05          78.0   \n",
       "2273        Action      0.36      0.41      0.00         0.15          76.0   \n",
       "2281          Misc      0.77      0.11      0.00         0.04          59.0   \n",
       "2361          Misc      0.11      0.00      0.77         0.01           NaN   \n",
       "\n",
       "     user_score rating  \n",
       "183         8.5      E  \n",
       "377         6.4      E  \n",
       "456         7.9   E10+  \n",
       "475         NaN    NaN  \n",
       "609         NaN    NaN  \n",
       "627         8.2      T  \n",
       "657         tbd      E  \n",
       "678         6.6   E10+  \n",
       "719         6.7      T  \n",
       "805         6.3      T  \n",
       "1131        5.2      M  \n",
       "1142        8.4      T  \n",
       "1301        NaN    NaN  \n",
       "1506        NaN    NaN  \n",
       "1538        7.4   E10+  \n",
       "1585        NaN    NaN  \n",
       "1609        7.8   E10+  \n",
       "1650        8.7      E  \n",
       "1699          8      M  \n",
       "1840        6.8      T  \n",
       "1984          9      T  \n",
       "2010        NaN    NaN  \n",
       "2106        NaN    NaN  \n",
       "2108        7.7      T  \n",
       "2132        7.9   E10+  \n",
       "2157        tbd      E  \n",
       "2169          8      M  \n",
       "2273        8.3   E10+  \n",
       "2281        tbd      E  \n",
       "2361        NaN    NaN  "
      ]
     },
     "execution_count": 14,
     "metadata": {},
     "output_type": "execute_result"
    }
   ],
   "source": [
    "df[df['year_of_release'].isna()].head(30)"
   ]
  },
  {
   "cell_type": "code",
   "execution_count": 15,
   "metadata": {},
   "outputs": [
    {
     "data": {
      "text/html": [
       "<div>\n",
       "<style scoped>\n",
       "    .dataframe tbody tr th:only-of-type {\n",
       "        vertical-align: middle;\n",
       "    }\n",
       "\n",
       "    .dataframe tbody tr th {\n",
       "        vertical-align: top;\n",
       "    }\n",
       "\n",
       "    .dataframe thead th {\n",
       "        text-align: right;\n",
       "    }\n",
       "</style>\n",
       "<table border=\"1\" class=\"dataframe\">\n",
       "  <thead>\n",
       "    <tr style=\"text-align: right;\">\n",
       "      <th></th>\n",
       "      <th>name</th>\n",
       "      <th>platform</th>\n",
       "      <th>year_of_release</th>\n",
       "      <th>genre</th>\n",
       "      <th>na_sales</th>\n",
       "      <th>eu_sales</th>\n",
       "      <th>jp_sales</th>\n",
       "      <th>other_sales</th>\n",
       "      <th>critic_score</th>\n",
       "      <th>user_score</th>\n",
       "      <th>rating</th>\n",
       "    </tr>\n",
       "  </thead>\n",
       "  <tbody>\n",
       "    <tr>\n",
       "      <th>377</th>\n",
       "      <td>FIFA Soccer 2004</td>\n",
       "      <td>PS2</td>\n",
       "      <td>&lt;NA&gt;</td>\n",
       "      <td>Sports</td>\n",
       "      <td>0.59</td>\n",
       "      <td>2.36</td>\n",
       "      <td>0.04</td>\n",
       "      <td>0.51</td>\n",
       "      <td>84.0</td>\n",
       "      <td>6.4</td>\n",
       "      <td>E</td>\n",
       "    </tr>\n",
       "    <tr>\n",
       "      <th>2606</th>\n",
       "      <td>FIFA Soccer 2004</td>\n",
       "      <td>XB</td>\n",
       "      <td>2003</td>\n",
       "      <td>Sports</td>\n",
       "      <td>0.24</td>\n",
       "      <td>0.49</td>\n",
       "      <td>0.00</td>\n",
       "      <td>0.05</td>\n",
       "      <td>82.0</td>\n",
       "      <td>8.2</td>\n",
       "      <td>E</td>\n",
       "    </tr>\n",
       "    <tr>\n",
       "      <th>12029</th>\n",
       "      <td>FIFA Soccer 2004</td>\n",
       "      <td>GC</td>\n",
       "      <td>2003</td>\n",
       "      <td>Sports</td>\n",
       "      <td>0.05</td>\n",
       "      <td>0.01</td>\n",
       "      <td>0.00</td>\n",
       "      <td>0.00</td>\n",
       "      <td>83.0</td>\n",
       "      <td>6.2</td>\n",
       "      <td>E</td>\n",
       "    </tr>\n",
       "    <tr>\n",
       "      <th>13086</th>\n",
       "      <td>FIFA Soccer 2004</td>\n",
       "      <td>GBA</td>\n",
       "      <td>2003</td>\n",
       "      <td>Sports</td>\n",
       "      <td>0.04</td>\n",
       "      <td>0.01</td>\n",
       "      <td>0.00</td>\n",
       "      <td>0.00</td>\n",
       "      <td>82.0</td>\n",
       "      <td>7.9</td>\n",
       "      <td>E</td>\n",
       "    </tr>\n",
       "  </tbody>\n",
       "</table>\n",
       "</div>"
      ],
      "text/plain": [
       "                   name platform  year_of_release   genre  na_sales  eu_sales  \\\n",
       "377    FIFA Soccer 2004      PS2             <NA>  Sports      0.59      2.36   \n",
       "2606   FIFA Soccer 2004       XB             2003  Sports      0.24      0.49   \n",
       "12029  FIFA Soccer 2004       GC             2003  Sports      0.05      0.01   \n",
       "13086  FIFA Soccer 2004      GBA             2003  Sports      0.04      0.01   \n",
       "\n",
       "       jp_sales  other_sales  critic_score user_score rating  \n",
       "377        0.04         0.51          84.0        6.4      E  \n",
       "2606       0.00         0.05          82.0        8.2      E  \n",
       "12029      0.00         0.00          83.0        6.2      E  \n",
       "13086      0.00         0.00          82.0        7.9      E  "
      ]
     },
     "execution_count": 15,
     "metadata": {},
     "output_type": "execute_result"
    }
   ],
   "source": [
    "df.query('name == \"FIFA Soccer 2004\"')"
   ]
  },
  {
   "cell_type": "code",
   "execution_count": 16,
   "metadata": {},
   "outputs": [
    {
     "data": {
      "text/html": [
       "<div>\n",
       "<style scoped>\n",
       "    .dataframe tbody tr th:only-of-type {\n",
       "        vertical-align: middle;\n",
       "    }\n",
       "\n",
       "    .dataframe tbody tr th {\n",
       "        vertical-align: top;\n",
       "    }\n",
       "\n",
       "    .dataframe thead th {\n",
       "        text-align: right;\n",
       "    }\n",
       "</style>\n",
       "<table border=\"1\" class=\"dataframe\">\n",
       "  <thead>\n",
       "    <tr style=\"text-align: right;\">\n",
       "      <th></th>\n",
       "      <th>min</th>\n",
       "      <th>max</th>\n",
       "      <th>years_of_life</th>\n",
       "    </tr>\n",
       "    <tr>\n",
       "      <th>platform</th>\n",
       "      <th></th>\n",
       "      <th></th>\n",
       "      <th></th>\n",
       "    </tr>\n",
       "  </thead>\n",
       "  <tbody>\n",
       "    <tr>\n",
       "      <th>2600</th>\n",
       "      <td>1980</td>\n",
       "      <td>1989</td>\n",
       "      <td>9</td>\n",
       "    </tr>\n",
       "    <tr>\n",
       "      <th>3DO</th>\n",
       "      <td>1994</td>\n",
       "      <td>1995</td>\n",
       "      <td>1</td>\n",
       "    </tr>\n",
       "    <tr>\n",
       "      <th>3DS</th>\n",
       "      <td>2011</td>\n",
       "      <td>2016</td>\n",
       "      <td>5</td>\n",
       "    </tr>\n",
       "    <tr>\n",
       "      <th>DC</th>\n",
       "      <td>1998</td>\n",
       "      <td>2008</td>\n",
       "      <td>10</td>\n",
       "    </tr>\n",
       "    <tr>\n",
       "      <th>DS</th>\n",
       "      <td>1985</td>\n",
       "      <td>2013</td>\n",
       "      <td>28</td>\n",
       "    </tr>\n",
       "    <tr>\n",
       "      <th>GB</th>\n",
       "      <td>1988</td>\n",
       "      <td>2001</td>\n",
       "      <td>13</td>\n",
       "    </tr>\n",
       "    <tr>\n",
       "      <th>GBA</th>\n",
       "      <td>2000</td>\n",
       "      <td>2007</td>\n",
       "      <td>7</td>\n",
       "    </tr>\n",
       "    <tr>\n",
       "      <th>GC</th>\n",
       "      <td>2001</td>\n",
       "      <td>2007</td>\n",
       "      <td>6</td>\n",
       "    </tr>\n",
       "    <tr>\n",
       "      <th>GEN</th>\n",
       "      <td>1990</td>\n",
       "      <td>1994</td>\n",
       "      <td>4</td>\n",
       "    </tr>\n",
       "    <tr>\n",
       "      <th>GG</th>\n",
       "      <td>1992</td>\n",
       "      <td>1992</td>\n",
       "      <td>0</td>\n",
       "    </tr>\n",
       "    <tr>\n",
       "      <th>N64</th>\n",
       "      <td>1996</td>\n",
       "      <td>2002</td>\n",
       "      <td>6</td>\n",
       "    </tr>\n",
       "    <tr>\n",
       "      <th>NES</th>\n",
       "      <td>1983</td>\n",
       "      <td>1994</td>\n",
       "      <td>11</td>\n",
       "    </tr>\n",
       "    <tr>\n",
       "      <th>NG</th>\n",
       "      <td>1993</td>\n",
       "      <td>1996</td>\n",
       "      <td>3</td>\n",
       "    </tr>\n",
       "    <tr>\n",
       "      <th>PC</th>\n",
       "      <td>1985</td>\n",
       "      <td>2016</td>\n",
       "      <td>31</td>\n",
       "    </tr>\n",
       "    <tr>\n",
       "      <th>PCFX</th>\n",
       "      <td>1996</td>\n",
       "      <td>1996</td>\n",
       "      <td>0</td>\n",
       "    </tr>\n",
       "    <tr>\n",
       "      <th>PS</th>\n",
       "      <td>1994</td>\n",
       "      <td>2003</td>\n",
       "      <td>9</td>\n",
       "    </tr>\n",
       "    <tr>\n",
       "      <th>PS2</th>\n",
       "      <td>2000</td>\n",
       "      <td>2011</td>\n",
       "      <td>11</td>\n",
       "    </tr>\n",
       "    <tr>\n",
       "      <th>PS3</th>\n",
       "      <td>2006</td>\n",
       "      <td>2016</td>\n",
       "      <td>10</td>\n",
       "    </tr>\n",
       "    <tr>\n",
       "      <th>PS4</th>\n",
       "      <td>2013</td>\n",
       "      <td>2016</td>\n",
       "      <td>3</td>\n",
       "    </tr>\n",
       "    <tr>\n",
       "      <th>PSP</th>\n",
       "      <td>2004</td>\n",
       "      <td>2015</td>\n",
       "      <td>11</td>\n",
       "    </tr>\n",
       "    <tr>\n",
       "      <th>PSV</th>\n",
       "      <td>2011</td>\n",
       "      <td>2016</td>\n",
       "      <td>5</td>\n",
       "    </tr>\n",
       "    <tr>\n",
       "      <th>SAT</th>\n",
       "      <td>1994</td>\n",
       "      <td>1999</td>\n",
       "      <td>5</td>\n",
       "    </tr>\n",
       "    <tr>\n",
       "      <th>SCD</th>\n",
       "      <td>1993</td>\n",
       "      <td>1994</td>\n",
       "      <td>1</td>\n",
       "    </tr>\n",
       "    <tr>\n",
       "      <th>SNES</th>\n",
       "      <td>1990</td>\n",
       "      <td>1999</td>\n",
       "      <td>9</td>\n",
       "    </tr>\n",
       "    <tr>\n",
       "      <th>TG16</th>\n",
       "      <td>1995</td>\n",
       "      <td>1995</td>\n",
       "      <td>0</td>\n",
       "    </tr>\n",
       "    <tr>\n",
       "      <th>WS</th>\n",
       "      <td>1999</td>\n",
       "      <td>2001</td>\n",
       "      <td>2</td>\n",
       "    </tr>\n",
       "    <tr>\n",
       "      <th>Wii</th>\n",
       "      <td>2006</td>\n",
       "      <td>2016</td>\n",
       "      <td>10</td>\n",
       "    </tr>\n",
       "    <tr>\n",
       "      <th>WiiU</th>\n",
       "      <td>2012</td>\n",
       "      <td>2016</td>\n",
       "      <td>4</td>\n",
       "    </tr>\n",
       "    <tr>\n",
       "      <th>X360</th>\n",
       "      <td>2005</td>\n",
       "      <td>2016</td>\n",
       "      <td>11</td>\n",
       "    </tr>\n",
       "    <tr>\n",
       "      <th>XB</th>\n",
       "      <td>2000</td>\n",
       "      <td>2008</td>\n",
       "      <td>8</td>\n",
       "    </tr>\n",
       "    <tr>\n",
       "      <th>XOne</th>\n",
       "      <td>2013</td>\n",
       "      <td>2016</td>\n",
       "      <td>3</td>\n",
       "    </tr>\n",
       "  </tbody>\n",
       "</table>\n",
       "</div>"
      ],
      "text/plain": [
       "           min   max  years_of_life\n",
       "platform                           \n",
       "2600      1980  1989              9\n",
       "3DO       1994  1995              1\n",
       "3DS       2011  2016              5\n",
       "DC        1998  2008             10\n",
       "DS        1985  2013             28\n",
       "GB        1988  2001             13\n",
       "GBA       2000  2007              7\n",
       "GC        2001  2007              6\n",
       "GEN       1990  1994              4\n",
       "GG        1992  1992              0\n",
       "N64       1996  2002              6\n",
       "NES       1983  1994             11\n",
       "NG        1993  1996              3\n",
       "PC        1985  2016             31\n",
       "PCFX      1996  1996              0\n",
       "PS        1994  2003              9\n",
       "PS2       2000  2011             11\n",
       "PS3       2006  2016             10\n",
       "PS4       2013  2016              3\n",
       "PSP       2004  2015             11\n",
       "PSV       2011  2016              5\n",
       "SAT       1994  1999              5\n",
       "SCD       1993  1994              1\n",
       "SNES      1990  1999              9\n",
       "TG16      1995  1995              0\n",
       "WS        1999  2001              2\n",
       "Wii       2006  2016             10\n",
       "WiiU      2012  2016              4\n",
       "X360      2005  2016             11\n",
       "XB        2000  2008              8\n",
       "XOne      2013  2016              3"
      ]
     },
     "execution_count": 16,
     "metadata": {},
     "output_type": "execute_result"
    }
   ],
   "source": [
    "# жизненный срок платформы\n",
    "\n",
    "years_of_life = df.pivot_table(index='platform',values='year_of_release',aggfunc=['min','max'])\n",
    "years_of_life.columns=['min','max']\n",
    "years_of_life['years_of_life']=years_of_life['max']-years_of_life['min']\n",
    "years_of_life\n",
    "\n",
    "# years_of_life.sort_values(by = 'years_of_life', ascending = False)"
   ]
  },
  {
   "cell_type": "code",
   "execution_count": 17,
   "metadata": {},
   "outputs": [
    {
     "data": {
      "text/plain": [
       "name                  0\n",
       "platform              0\n",
       "year_of_release       0\n",
       "genre                 0\n",
       "na_sales              0\n",
       "eu_sales              0\n",
       "jp_sales              0\n",
       "other_sales           0\n",
       "critic_score       8461\n",
       "user_score         6605\n",
       "rating             6676\n",
       "dtype: int64"
      ]
     },
     "execution_count": 17,
     "metadata": {},
     "output_type": "execute_result"
    }
   ],
   "source": [
    "df= df.dropna(subset=['year_of_release'])\n",
    "df.isna().sum()"
   ]
  },
  {
   "cell_type": "markdown",
   "metadata": {},
   "source": [
    "Удалили пропуски в столбце years_of_release."
   ]
  },
  {
   "cell_type": "code",
   "execution_count": 18,
   "metadata": {
    "scrolled": true
   },
   "outputs": [
    {
     "data": {
      "text/plain": [
       "0"
      ]
     },
     "execution_count": 18,
     "metadata": {},
     "output_type": "execute_result"
    }
   ],
   "source": [
    "df['year_of_release'].isna().sum()"
   ]
  },
  {
   "cell_type": "code",
   "execution_count": 19,
   "metadata": {},
   "outputs": [
    {
     "data": {
      "text/html": [
       "<div>\n",
       "<style scoped>\n",
       "    .dataframe tbody tr th:only-of-type {\n",
       "        vertical-align: middle;\n",
       "    }\n",
       "\n",
       "    .dataframe tbody tr th {\n",
       "        vertical-align: top;\n",
       "    }\n",
       "\n",
       "    .dataframe thead th {\n",
       "        text-align: right;\n",
       "    }\n",
       "</style>\n",
       "<table border=\"1\" class=\"dataframe\">\n",
       "  <thead>\n",
       "    <tr style=\"text-align: right;\">\n",
       "      <th></th>\n",
       "      <th>min</th>\n",
       "      <th>max</th>\n",
       "      <th>years_of_life</th>\n",
       "    </tr>\n",
       "    <tr>\n",
       "      <th>platform</th>\n",
       "      <th></th>\n",
       "      <th></th>\n",
       "      <th></th>\n",
       "    </tr>\n",
       "  </thead>\n",
       "  <tbody>\n",
       "    <tr>\n",
       "      <th>2600</th>\n",
       "      <td>1980</td>\n",
       "      <td>1989</td>\n",
       "      <td>9</td>\n",
       "    </tr>\n",
       "    <tr>\n",
       "      <th>3DO</th>\n",
       "      <td>1994</td>\n",
       "      <td>1995</td>\n",
       "      <td>1</td>\n",
       "    </tr>\n",
       "    <tr>\n",
       "      <th>3DS</th>\n",
       "      <td>2011</td>\n",
       "      <td>2016</td>\n",
       "      <td>5</td>\n",
       "    </tr>\n",
       "    <tr>\n",
       "      <th>DC</th>\n",
       "      <td>1998</td>\n",
       "      <td>2008</td>\n",
       "      <td>10</td>\n",
       "    </tr>\n",
       "    <tr>\n",
       "      <th>DS</th>\n",
       "      <td>1985</td>\n",
       "      <td>2013</td>\n",
       "      <td>28</td>\n",
       "    </tr>\n",
       "    <tr>\n",
       "      <th>GB</th>\n",
       "      <td>1988</td>\n",
       "      <td>2001</td>\n",
       "      <td>13</td>\n",
       "    </tr>\n",
       "    <tr>\n",
       "      <th>GBA</th>\n",
       "      <td>2000</td>\n",
       "      <td>2007</td>\n",
       "      <td>7</td>\n",
       "    </tr>\n",
       "    <tr>\n",
       "      <th>GC</th>\n",
       "      <td>2001</td>\n",
       "      <td>2007</td>\n",
       "      <td>6</td>\n",
       "    </tr>\n",
       "    <tr>\n",
       "      <th>GEN</th>\n",
       "      <td>1990</td>\n",
       "      <td>1994</td>\n",
       "      <td>4</td>\n",
       "    </tr>\n",
       "    <tr>\n",
       "      <th>GG</th>\n",
       "      <td>1992</td>\n",
       "      <td>1992</td>\n",
       "      <td>0</td>\n",
       "    </tr>\n",
       "    <tr>\n",
       "      <th>N64</th>\n",
       "      <td>1996</td>\n",
       "      <td>2002</td>\n",
       "      <td>6</td>\n",
       "    </tr>\n",
       "    <tr>\n",
       "      <th>NES</th>\n",
       "      <td>1983</td>\n",
       "      <td>1994</td>\n",
       "      <td>11</td>\n",
       "    </tr>\n",
       "    <tr>\n",
       "      <th>NG</th>\n",
       "      <td>1993</td>\n",
       "      <td>1996</td>\n",
       "      <td>3</td>\n",
       "    </tr>\n",
       "    <tr>\n",
       "      <th>PC</th>\n",
       "      <td>1985</td>\n",
       "      <td>2016</td>\n",
       "      <td>31</td>\n",
       "    </tr>\n",
       "    <tr>\n",
       "      <th>PCFX</th>\n",
       "      <td>1996</td>\n",
       "      <td>1996</td>\n",
       "      <td>0</td>\n",
       "    </tr>\n",
       "    <tr>\n",
       "      <th>PS</th>\n",
       "      <td>1994</td>\n",
       "      <td>2003</td>\n",
       "      <td>9</td>\n",
       "    </tr>\n",
       "    <tr>\n",
       "      <th>PS2</th>\n",
       "      <td>2000</td>\n",
       "      <td>2011</td>\n",
       "      <td>11</td>\n",
       "    </tr>\n",
       "    <tr>\n",
       "      <th>PS3</th>\n",
       "      <td>2006</td>\n",
       "      <td>2016</td>\n",
       "      <td>10</td>\n",
       "    </tr>\n",
       "    <tr>\n",
       "      <th>PS4</th>\n",
       "      <td>2013</td>\n",
       "      <td>2016</td>\n",
       "      <td>3</td>\n",
       "    </tr>\n",
       "    <tr>\n",
       "      <th>PSP</th>\n",
       "      <td>2004</td>\n",
       "      <td>2015</td>\n",
       "      <td>11</td>\n",
       "    </tr>\n",
       "    <tr>\n",
       "      <th>PSV</th>\n",
       "      <td>2011</td>\n",
       "      <td>2016</td>\n",
       "      <td>5</td>\n",
       "    </tr>\n",
       "    <tr>\n",
       "      <th>SAT</th>\n",
       "      <td>1994</td>\n",
       "      <td>1999</td>\n",
       "      <td>5</td>\n",
       "    </tr>\n",
       "    <tr>\n",
       "      <th>SCD</th>\n",
       "      <td>1993</td>\n",
       "      <td>1994</td>\n",
       "      <td>1</td>\n",
       "    </tr>\n",
       "    <tr>\n",
       "      <th>SNES</th>\n",
       "      <td>1990</td>\n",
       "      <td>1999</td>\n",
       "      <td>9</td>\n",
       "    </tr>\n",
       "    <tr>\n",
       "      <th>TG16</th>\n",
       "      <td>1995</td>\n",
       "      <td>1995</td>\n",
       "      <td>0</td>\n",
       "    </tr>\n",
       "    <tr>\n",
       "      <th>WS</th>\n",
       "      <td>1999</td>\n",
       "      <td>2001</td>\n",
       "      <td>2</td>\n",
       "    </tr>\n",
       "    <tr>\n",
       "      <th>Wii</th>\n",
       "      <td>2006</td>\n",
       "      <td>2016</td>\n",
       "      <td>10</td>\n",
       "    </tr>\n",
       "    <tr>\n",
       "      <th>WiiU</th>\n",
       "      <td>2012</td>\n",
       "      <td>2016</td>\n",
       "      <td>4</td>\n",
       "    </tr>\n",
       "    <tr>\n",
       "      <th>X360</th>\n",
       "      <td>2005</td>\n",
       "      <td>2016</td>\n",
       "      <td>11</td>\n",
       "    </tr>\n",
       "    <tr>\n",
       "      <th>XB</th>\n",
       "      <td>2000</td>\n",
       "      <td>2008</td>\n",
       "      <td>8</td>\n",
       "    </tr>\n",
       "    <tr>\n",
       "      <th>XOne</th>\n",
       "      <td>2013</td>\n",
       "      <td>2016</td>\n",
       "      <td>3</td>\n",
       "    </tr>\n",
       "  </tbody>\n",
       "</table>\n",
       "</div>"
      ],
      "text/plain": [
       "           min   max  years_of_life\n",
       "platform                           \n",
       "2600      1980  1989              9\n",
       "3DO       1994  1995              1\n",
       "3DS       2011  2016              5\n",
       "DC        1998  2008             10\n",
       "DS        1985  2013             28\n",
       "GB        1988  2001             13\n",
       "GBA       2000  2007              7\n",
       "GC        2001  2007              6\n",
       "GEN       1990  1994              4\n",
       "GG        1992  1992              0\n",
       "N64       1996  2002              6\n",
       "NES       1983  1994             11\n",
       "NG        1993  1996              3\n",
       "PC        1985  2016             31\n",
       "PCFX      1996  1996              0\n",
       "PS        1994  2003              9\n",
       "PS2       2000  2011             11\n",
       "PS3       2006  2016             10\n",
       "PS4       2013  2016              3\n",
       "PSP       2004  2015             11\n",
       "PSV       2011  2016              5\n",
       "SAT       1994  1999              5\n",
       "SCD       1993  1994              1\n",
       "SNES      1990  1999              9\n",
       "TG16      1995  1995              0\n",
       "WS        1999  2001              2\n",
       "Wii       2006  2016             10\n",
       "WiiU      2012  2016              4\n",
       "X360      2005  2016             11\n",
       "XB        2000  2008              8\n",
       "XOne      2013  2016              3"
      ]
     },
     "execution_count": 19,
     "metadata": {},
     "output_type": "execute_result"
    }
   ],
   "source": [
    "# жизненный срок платформы\n",
    "\n",
    "years_of_life = df.pivot_table(index='platform',values='year_of_release',aggfunc=['min','max'])\n",
    "years_of_life.columns=['min','max']\n",
    "years_of_life['years_of_life']=years_of_life['max']-years_of_life['min']\n",
    "years_of_life\n",
    "\n",
    "# years_of_life.sort_values(by = 'years_of_life', ascending = False)"
   ]
  },
  {
   "cell_type": "markdown",
   "metadata": {},
   "source": [
    "Обратим внимание на аббревиатуру 'tbd' в столбце с оценкой пользователей. TBD - значит что подлежит определению, значит еще предстоит, получается можно заменить значение на NaN."
   ]
  },
  {
   "cell_type": "code",
   "execution_count": 20,
   "metadata": {},
   "outputs": [
    {
     "name": "stdout",
     "output_type": "stream",
     "text": [
      "<class 'pandas.core.frame.DataFrame'>\n",
      "Int64Index: 16444 entries, 0 to 16714\n",
      "Data columns (total 11 columns):\n",
      " #   Column           Non-Null Count  Dtype  \n",
      "---  ------           --------------  -----  \n",
      " 0   name             16444 non-null  object \n",
      " 1   platform         16444 non-null  object \n",
      " 2   year_of_release  16444 non-null  Int64  \n",
      " 3   genre            16444 non-null  object \n",
      " 4   na_sales         16444 non-null  float64\n",
      " 5   eu_sales         16444 non-null  float64\n",
      " 6   jp_sales         16444 non-null  float64\n",
      " 7   other_sales      16444 non-null  float64\n",
      " 8   critic_score     7983 non-null   float64\n",
      " 9   user_score       9839 non-null   object \n",
      " 10  rating           9768 non-null   object \n",
      "dtypes: Int64(1), float64(5), object(5)\n",
      "memory usage: 1.5+ MB\n"
     ]
    }
   ],
   "source": [
    "df.info()"
   ]
  },
  {
   "cell_type": "code",
   "execution_count": 21,
   "metadata": {},
   "outputs": [],
   "source": [
    "df.loc[df['user_score']=='tbd', 'user_score'] = np.nan"
   ]
  },
  {
   "cell_type": "code",
   "execution_count": 22,
   "metadata": {},
   "outputs": [
    {
     "data": {
      "text/plain": [
       "8981"
      ]
     },
     "execution_count": 22,
     "metadata": {},
     "output_type": "execute_result"
    }
   ],
   "source": [
    "df['user_score'].isna().sum()"
   ]
  },
  {
   "cell_type": "code",
   "execution_count": 23,
   "metadata": {},
   "outputs": [],
   "source": [
    "df['user_score'] = df['user_score'].astype('float')"
   ]
  },
  {
   "cell_type": "code",
   "execution_count": 24,
   "metadata": {},
   "outputs": [
    {
     "data": {
      "text/plain": [
       "name                object\n",
       "platform            object\n",
       "year_of_release      Int64\n",
       "genre               object\n",
       "na_sales           float64\n",
       "eu_sales           float64\n",
       "jp_sales           float64\n",
       "other_sales        float64\n",
       "critic_score       float64\n",
       "user_score         float64\n",
       "rating              object\n",
       "dtype: object"
      ]
     },
     "execution_count": 24,
     "metadata": {},
     "output_type": "execute_result"
    }
   ],
   "source": [
    "df.dtypes"
   ]
  },
  {
   "cell_type": "markdown",
   "metadata": {},
   "source": [
    "### Сумма продаж во всех регионах."
   ]
  },
  {
   "cell_type": "code",
   "execution_count": 25,
   "metadata": {},
   "outputs": [],
   "source": [
    "df['total_sales'] = df['na_sales'] + df['eu_sales'] + df['jp_sales'] + df['other_sales']"
   ]
  },
  {
   "cell_type": "code",
   "execution_count": 26,
   "metadata": {},
   "outputs": [
    {
     "data": {
      "text/html": [
       "<div>\n",
       "<style scoped>\n",
       "    .dataframe tbody tr th:only-of-type {\n",
       "        vertical-align: middle;\n",
       "    }\n",
       "\n",
       "    .dataframe tbody tr th {\n",
       "        vertical-align: top;\n",
       "    }\n",
       "\n",
       "    .dataframe thead th {\n",
       "        text-align: right;\n",
       "    }\n",
       "</style>\n",
       "<table border=\"1\" class=\"dataframe\">\n",
       "  <thead>\n",
       "    <tr style=\"text-align: right;\">\n",
       "      <th></th>\n",
       "      <th>name</th>\n",
       "      <th>platform</th>\n",
       "      <th>year_of_release</th>\n",
       "      <th>genre</th>\n",
       "      <th>na_sales</th>\n",
       "      <th>eu_sales</th>\n",
       "      <th>jp_sales</th>\n",
       "      <th>other_sales</th>\n",
       "      <th>critic_score</th>\n",
       "      <th>user_score</th>\n",
       "      <th>rating</th>\n",
       "      <th>total_sales</th>\n",
       "    </tr>\n",
       "  </thead>\n",
       "  <tbody>\n",
       "    <tr>\n",
       "      <th>0</th>\n",
       "      <td>Wii Sports</td>\n",
       "      <td>Wii</td>\n",
       "      <td>2006</td>\n",
       "      <td>Sports</td>\n",
       "      <td>41.36</td>\n",
       "      <td>28.96</td>\n",
       "      <td>3.77</td>\n",
       "      <td>8.45</td>\n",
       "      <td>76.0</td>\n",
       "      <td>8.0</td>\n",
       "      <td>E</td>\n",
       "      <td>82.54</td>\n",
       "    </tr>\n",
       "    <tr>\n",
       "      <th>1</th>\n",
       "      <td>Super Mario Bros.</td>\n",
       "      <td>NES</td>\n",
       "      <td>1985</td>\n",
       "      <td>Platform</td>\n",
       "      <td>29.08</td>\n",
       "      <td>3.58</td>\n",
       "      <td>6.81</td>\n",
       "      <td>0.77</td>\n",
       "      <td>NaN</td>\n",
       "      <td>NaN</td>\n",
       "      <td>NaN</td>\n",
       "      <td>40.24</td>\n",
       "    </tr>\n",
       "    <tr>\n",
       "      <th>2</th>\n",
       "      <td>Mario Kart Wii</td>\n",
       "      <td>Wii</td>\n",
       "      <td>2008</td>\n",
       "      <td>Racing</td>\n",
       "      <td>15.68</td>\n",
       "      <td>12.76</td>\n",
       "      <td>3.79</td>\n",
       "      <td>3.29</td>\n",
       "      <td>82.0</td>\n",
       "      <td>8.3</td>\n",
       "      <td>E</td>\n",
       "      <td>35.52</td>\n",
       "    </tr>\n",
       "    <tr>\n",
       "      <th>3</th>\n",
       "      <td>Wii Sports Resort</td>\n",
       "      <td>Wii</td>\n",
       "      <td>2009</td>\n",
       "      <td>Sports</td>\n",
       "      <td>15.61</td>\n",
       "      <td>10.93</td>\n",
       "      <td>3.28</td>\n",
       "      <td>2.95</td>\n",
       "      <td>80.0</td>\n",
       "      <td>8.0</td>\n",
       "      <td>E</td>\n",
       "      <td>32.77</td>\n",
       "    </tr>\n",
       "    <tr>\n",
       "      <th>4</th>\n",
       "      <td>Pokemon Red/Pokemon Blue</td>\n",
       "      <td>GB</td>\n",
       "      <td>1996</td>\n",
       "      <td>Role-Playing</td>\n",
       "      <td>11.27</td>\n",
       "      <td>8.89</td>\n",
       "      <td>10.22</td>\n",
       "      <td>1.00</td>\n",
       "      <td>NaN</td>\n",
       "      <td>NaN</td>\n",
       "      <td>NaN</td>\n",
       "      <td>31.38</td>\n",
       "    </tr>\n",
       "    <tr>\n",
       "      <th>5</th>\n",
       "      <td>Tetris</td>\n",
       "      <td>GB</td>\n",
       "      <td>1989</td>\n",
       "      <td>Puzzle</td>\n",
       "      <td>23.20</td>\n",
       "      <td>2.26</td>\n",
       "      <td>4.22</td>\n",
       "      <td>0.58</td>\n",
       "      <td>NaN</td>\n",
       "      <td>NaN</td>\n",
       "      <td>NaN</td>\n",
       "      <td>30.26</td>\n",
       "    </tr>\n",
       "    <tr>\n",
       "      <th>6</th>\n",
       "      <td>New Super Mario Bros.</td>\n",
       "      <td>DS</td>\n",
       "      <td>2006</td>\n",
       "      <td>Platform</td>\n",
       "      <td>11.28</td>\n",
       "      <td>9.14</td>\n",
       "      <td>6.50</td>\n",
       "      <td>2.88</td>\n",
       "      <td>89.0</td>\n",
       "      <td>8.5</td>\n",
       "      <td>E</td>\n",
       "      <td>29.80</td>\n",
       "    </tr>\n",
       "    <tr>\n",
       "      <th>7</th>\n",
       "      <td>Wii Play</td>\n",
       "      <td>Wii</td>\n",
       "      <td>2006</td>\n",
       "      <td>Misc</td>\n",
       "      <td>13.96</td>\n",
       "      <td>9.18</td>\n",
       "      <td>2.93</td>\n",
       "      <td>2.84</td>\n",
       "      <td>58.0</td>\n",
       "      <td>6.6</td>\n",
       "      <td>E</td>\n",
       "      <td>28.91</td>\n",
       "    </tr>\n",
       "    <tr>\n",
       "      <th>8</th>\n",
       "      <td>New Super Mario Bros. Wii</td>\n",
       "      <td>Wii</td>\n",
       "      <td>2009</td>\n",
       "      <td>Platform</td>\n",
       "      <td>14.44</td>\n",
       "      <td>6.94</td>\n",
       "      <td>4.70</td>\n",
       "      <td>2.24</td>\n",
       "      <td>87.0</td>\n",
       "      <td>8.4</td>\n",
       "      <td>E</td>\n",
       "      <td>28.32</td>\n",
       "    </tr>\n",
       "    <tr>\n",
       "      <th>9</th>\n",
       "      <td>Duck Hunt</td>\n",
       "      <td>NES</td>\n",
       "      <td>1984</td>\n",
       "      <td>Shooter</td>\n",
       "      <td>26.93</td>\n",
       "      <td>0.63</td>\n",
       "      <td>0.28</td>\n",
       "      <td>0.47</td>\n",
       "      <td>NaN</td>\n",
       "      <td>NaN</td>\n",
       "      <td>NaN</td>\n",
       "      <td>28.31</td>\n",
       "    </tr>\n",
       "  </tbody>\n",
       "</table>\n",
       "</div>"
      ],
      "text/plain": [
       "                        name platform  year_of_release         genre  \\\n",
       "0                 Wii Sports      Wii             2006        Sports   \n",
       "1          Super Mario Bros.      NES             1985      Platform   \n",
       "2             Mario Kart Wii      Wii             2008        Racing   \n",
       "3          Wii Sports Resort      Wii             2009        Sports   \n",
       "4   Pokemon Red/Pokemon Blue       GB             1996  Role-Playing   \n",
       "5                     Tetris       GB             1989        Puzzle   \n",
       "6      New Super Mario Bros.       DS             2006      Platform   \n",
       "7                   Wii Play      Wii             2006          Misc   \n",
       "8  New Super Mario Bros. Wii      Wii             2009      Platform   \n",
       "9                  Duck Hunt      NES             1984       Shooter   \n",
       "\n",
       "   na_sales  eu_sales  jp_sales  other_sales  critic_score  user_score rating  \\\n",
       "0     41.36     28.96      3.77         8.45          76.0         8.0      E   \n",
       "1     29.08      3.58      6.81         0.77           NaN         NaN    NaN   \n",
       "2     15.68     12.76      3.79         3.29          82.0         8.3      E   \n",
       "3     15.61     10.93      3.28         2.95          80.0         8.0      E   \n",
       "4     11.27      8.89     10.22         1.00           NaN         NaN    NaN   \n",
       "5     23.20      2.26      4.22         0.58           NaN         NaN    NaN   \n",
       "6     11.28      9.14      6.50         2.88          89.0         8.5      E   \n",
       "7     13.96      9.18      2.93         2.84          58.0         6.6      E   \n",
       "8     14.44      6.94      4.70         2.24          87.0         8.4      E   \n",
       "9     26.93      0.63      0.28         0.47           NaN         NaN    NaN   \n",
       "\n",
       "   total_sales  \n",
       "0        82.54  \n",
       "1        40.24  \n",
       "2        35.52  \n",
       "3        32.77  \n",
       "4        31.38  \n",
       "5        30.26  \n",
       "6        29.80  \n",
       "7        28.91  \n",
       "8        28.32  \n",
       "9        28.31  "
      ]
     },
     "execution_count": 26,
     "metadata": {},
     "output_type": "execute_result"
    }
   ],
   "source": [
    "df.head(10)"
   ]
  },
  {
   "cell_type": "code",
   "execution_count": 27,
   "metadata": {},
   "outputs": [],
   "source": [
    "df['rating'] = df['rating'].fillna('unknown')"
   ]
  },
  {
   "cell_type": "markdown",
   "metadata": {},
   "source": [
    "**Вывод**:\n",
    "* Привели к нижнему регистру название столбцов.\n",
    "* Изменили тип данных в столбцах с датой релиза и в пользовательской оценке.\n",
    "* Удалили пропуски в дате релиза\n",
    "* Заменили пропуски в рейтинг на 'unknown'\n",
    "* Добавили столбец с суммой продаж по всем регионам."
   ]
  },
  {
   "cell_type": "code",
   "execution_count": 28,
   "metadata": {},
   "outputs": [
    {
     "data": {
      "text/plain": [
       "unknown    6676\n",
       "E          3921\n",
       "T          2905\n",
       "M          1536\n",
       "E10+       1393\n",
       "EC            8\n",
       "K-A           3\n",
       "AO            1\n",
       "RP            1\n",
       "Name: rating, dtype: int64"
      ]
     },
     "execution_count": 28,
     "metadata": {},
     "output_type": "execute_result"
    }
   ],
   "source": [
    "# check\n",
    "df['rating'].value_counts()"
   ]
  },
  {
   "cell_type": "markdown",
   "metadata": {},
   "source": [
    "## Исследовательский анализ данных."
   ]
  },
  {
   "cell_type": "markdown",
   "metadata": {},
   "source": [
    "###  Выпуск игр в разные годы."
   ]
  },
  {
   "cell_type": "code",
   "execution_count": 29,
   "metadata": {},
   "outputs": [
    {
     "data": {
      "image/png": "[encoded data removed]",
      "text/plain": [
       "<Figure size 1440x576 with 1 Axes>"
      ]
     },
     "metadata": {
      "needs_background": "light"
     },
     "output_type": "display_data"
    }
   ],
   "source": [
    "games_years = df.pivot_table(index='year_of_release', values='name', aggfunc='count')\n",
    "games_years = games_years.reset_index()\n",
    "games_years.plot(x='year_of_release', y='name', kind='bar',figsize=(20,8), legend=False)\n",
    "plt.title('Выпуск игр по годам')\n",
    "plt.xlabel('Год релиза')\n",
    "plt.ylabel('Количество игр')\n",
    "plt.show()\n"
   ]
  },
  {
   "cell_type": "markdown",
   "metadata": {},
   "source": [
    "На графике видно, что рост выпущенных игр начинается с 1991 года и достигает пика в 2008, далее уже идет спад."
   ]
  },
  {
   "cell_type": "markdown",
   "metadata": {},
   "source": [
    "### Продажи по платформам."
   ]
  },
  {
   "cell_type": "code",
   "execution_count": 30,
   "metadata": {},
   "outputs": [
    {
     "data": {
      "image/png": "[encoded data removed]",
      "text/plain": [
       "<Figure size 1080x432 with 1 Axes>"
      ]
     },
     "metadata": {
      "needs_background": "light"
     },
     "output_type": "display_data"
    }
   ],
   "source": [
    "platform_sales = df.pivot_table(index='platform', values='total_sales', aggfunc='sum')\n",
    "platform_sales = platform_sales.reset_index()\n",
    "platform_sales = platform_sales.sort_values(by='total_sales',ascending=False)\n",
    "platform_sales.plot(x='platform', y='total_sales', kind='bar',figsize=(15,6), legend=False)\n",
    "plt.xlabel('Платформы')\n",
    "plt.ylabel('Сумма продаж')\n",
    "plt.title('Продажи по платформам')\n",
    "plt.show()"
   ]
  },
  {
   "cell_type": "markdown",
   "metadata": {},
   "source": [
    "На графике видны, что самые большие продажи у PS2, X360 , PS3, Wii, DS, PS."
   ]
  },
  {
   "cell_type": "code",
   "execution_count": 31,
   "metadata": {},
   "outputs": [
    {
     "data": {
      "text/html": [
       "<div>\n",
       "<style scoped>\n",
       "    .dataframe tbody tr th:only-of-type {\n",
       "        vertical-align: middle;\n",
       "    }\n",
       "\n",
       "    .dataframe tbody tr th {\n",
       "        vertical-align: top;\n",
       "    }\n",
       "\n",
       "    .dataframe thead th {\n",
       "        text-align: right;\n",
       "    }\n",
       "</style>\n",
       "<table border=\"1\" class=\"dataframe\">\n",
       "  <thead>\n",
       "    <tr style=\"text-align: right;\">\n",
       "      <th></th>\n",
       "      <th>platform</th>\n",
       "      <th>total_sales</th>\n",
       "    </tr>\n",
       "  </thead>\n",
       "  <tbody>\n",
       "    <tr>\n",
       "      <th>0</th>\n",
       "      <td>PS3</td>\n",
       "      <td>445.57</td>\n",
       "    </tr>\n",
       "    <tr>\n",
       "      <th>1</th>\n",
       "      <td>X360</td>\n",
       "      <td>380.38</td>\n",
       "    </tr>\n",
       "    <tr>\n",
       "      <th>2</th>\n",
       "      <td>PS4</td>\n",
       "      <td>314.14</td>\n",
       "    </tr>\n",
       "    <tr>\n",
       "      <th>3</th>\n",
       "      <td>3DS</td>\n",
       "      <td>257.81</td>\n",
       "    </tr>\n",
       "    <tr>\n",
       "      <th>4</th>\n",
       "      <td>XOne</td>\n",
       "      <td>159.32</td>\n",
       "    </tr>\n",
       "    <tr>\n",
       "      <th>5</th>\n",
       "      <td>PC</td>\n",
       "      <td>97.68</td>\n",
       "    </tr>\n",
       "  </tbody>\n",
       "</table>\n",
       "</div>"
      ],
      "text/plain": [
       "  platform  total_sales\n",
       "0      PS3       445.57\n",
       "1     X360       380.38\n",
       "2      PS4       314.14\n",
       "3      3DS       257.81\n",
       "4     XOne       159.32\n",
       "5       PC        97.68"
      ]
     },
     "execution_count": 31,
     "metadata": {},
     "output_type": "execute_result"
    }
   ],
   "source": [
    "df2010 = df.query('year_of_release > 2010')\n",
    "top_platforms = df2010.pivot_table(index='platform', values='total_sales', aggfunc='sum').sort_values(by='total_sales', ascending=False).head(6)\n",
    "top_platforms = top_platforms.reset_index()\n",
    "top_platforms"
   ]
  },
  {
   "cell_type": "code",
   "execution_count": 32,
   "metadata": {},
   "outputs": [],
   "source": [
    "def total_year_sales_platform(name, data):\n",
    "    x = data[data['platform']==name]\n",
    "    y = x.pivot_table(index='year_of_release', values='total_sales', aggfunc='sum')\n",
    "    return y"
   ]
  },
  {
   "cell_type": "code",
   "execution_count": 33,
   "metadata": {},
   "outputs": [
    {
     "data": {
      "image/png": "[encoded data removed]",
      "text/plain": [
       "<Figure size 432x288 with 1 Axes>"
      ]
     },
     "metadata": {
      "needs_background": "light"
     },
     "output_type": "display_data"
    },
    {
     "data": {
      "image/png": "[encoded data removed]",
      "text/plain": [
       "<Figure size 432x288 with 1 Axes>"
      ]
     },
     "metadata": {
      "needs_background": "light"
     },
     "output_type": "display_data"
    },
    {
     "data": {
      "image/png": "[encoded data removed]",
      "text/plain": [
       "<Figure size 432x288 with 1 Axes>"
      ]
     },
     "metadata": {
      "needs_background": "light"
     },
     "output_type": "display_data"
    },
    {
     "data": {
      "image/png": "[encoded data removed]",
      "text/plain": [
       "<Figure size 432x288 with 1 Axes>"
      ]
     },
     "metadata": {
      "needs_background": "light"
     },
     "output_type": "display_data"
    },
    {
     "data": {
      "image/png": "[encoded data removed]",
      "text/plain": [
       "<Figure size 432x288 with 1 Axes>"
      ]
     },
     "metadata": {
      "needs_background": "light"
     },
     "output_type": "display_data"
    },
    {
     "data": {
      "image/png": "[encoded data removed]",
      "text/plain": [
       "<Figure size 432x288 with 1 Axes>"
      ]
     },
     "metadata": {
      "needs_background": "light"
     },
     "output_type": "display_data"
    }
   ],
   "source": [
    "for i in list(top_platforms['platform']):\n",
    "    total_year_sales_platform(i,df).plot(y='total_sales',label=i)\n",
    "    \n",
    "    "
   ]
  },
  {
   "cell_type": "markdown",
   "metadata": {},
   "source": [
    "На графиках видно , что игры обычно выходят в течении 10ти лет, изменим функцию, чтобы выдавала последние 5 лет. Возьмём за актуальный период с 2005ого года и не будем рассматривать значения платформы PS, ибо не подойдет под актуальный период."
   ]
  },
  {
   "cell_type": "code",
   "execution_count": 34,
   "metadata": {},
   "outputs": [],
   "source": [
    "def total_year_sales_platform_change(name, data):\n",
    "    gg = data[(data['platform']==name) & (data['year_of_release']>2010)]\n",
    "    wp = gg.pivot_table(index='year_of_release', values='total_sales', aggfunc='sum')\n",
    "    return wp"
   ]
  },
  {
   "cell_type": "code",
   "execution_count": 35,
   "metadata": {},
   "outputs": [
    {
     "data": {
      "text/html": [
       "<div>\n",
       "<style scoped>\n",
       "    .dataframe tbody tr th:only-of-type {\n",
       "        vertical-align: middle;\n",
       "    }\n",
       "\n",
       "    .dataframe tbody tr th {\n",
       "        vertical-align: top;\n",
       "    }\n",
       "\n",
       "    .dataframe thead th {\n",
       "        text-align: right;\n",
       "    }\n",
       "</style>\n",
       "<table border=\"1\" class=\"dataframe\">\n",
       "  <thead>\n",
       "    <tr style=\"text-align: right;\">\n",
       "      <th></th>\n",
       "      <th>platform</th>\n",
       "      <th>total_sales</th>\n",
       "    </tr>\n",
       "  </thead>\n",
       "  <tbody>\n",
       "    <tr>\n",
       "      <th>0</th>\n",
       "      <td>PS3</td>\n",
       "      <td>445.57</td>\n",
       "    </tr>\n",
       "    <tr>\n",
       "      <th>1</th>\n",
       "      <td>X360</td>\n",
       "      <td>380.38</td>\n",
       "    </tr>\n",
       "    <tr>\n",
       "      <th>2</th>\n",
       "      <td>PS4</td>\n",
       "      <td>314.14</td>\n",
       "    </tr>\n",
       "    <tr>\n",
       "      <th>3</th>\n",
       "      <td>3DS</td>\n",
       "      <td>257.81</td>\n",
       "    </tr>\n",
       "    <tr>\n",
       "      <th>4</th>\n",
       "      <td>XOne</td>\n",
       "      <td>159.32</td>\n",
       "    </tr>\n",
       "  </tbody>\n",
       "</table>\n",
       "</div>"
      ],
      "text/plain": [
       "  platform  total_sales\n",
       "0      PS3       445.57\n",
       "1     X360       380.38\n",
       "2      PS4       314.14\n",
       "3      3DS       257.81\n",
       "4     XOne       159.32"
      ]
     },
     "execution_count": 35,
     "metadata": {},
     "output_type": "execute_result"
    }
   ],
   "source": [
    "top_platforms = top_platforms.head(5)\n",
    "top_platforms"
   ]
  },
  {
   "cell_type": "code",
   "execution_count": 36,
   "metadata": {},
   "outputs": [
    {
     "data": {
      "image/png": "[encoded data removed]",
      "text/plain": [
       "<Figure size 1080x576 with 1 Axes>"
      ]
     },
     "metadata": {
      "needs_background": "light"
     },
     "output_type": "display_data"
    }
   ],
   "source": [
    "plt.figure(figsize=(15,8))\n",
    "plt.xlabel('Год релиза')\n",
    "plt.ylabel('Сумма продаж')\n",
    "for i in list(top_platforms['platform']):\n",
    "    sns.lineplot(data=total_year_sales_platform_change(i,df)['total_sales'],label=i)\n"
   ]
  },
  {
   "cell_type": "markdown",
   "metadata": {},
   "source": [
    "Лидируют по продажа это PS и XBOX. Самый большой пик приходился на Wii, но по графику видно , что после резкого скачка произошел резкий спад. В общем платформы 'живут' около 10ти лет. Поэтому взяли за актуальный период 5 лет."
   ]
  },
  {
   "cell_type": "code",
   "execution_count": 37,
   "metadata": {},
   "outputs": [],
   "source": [
    "top_platforms_data = df[df['platform'].isin(['PS3','X360','PS4','3DS','XOne'])]"
   ]
  },
  {
   "cell_type": "code",
   "execution_count": 38,
   "metadata": {},
   "outputs": [
    {
     "data": {
      "image/png": "[encoded data removed]",
      "text/plain": [
       "<Figure size 1080x432 with 1 Axes>"
      ]
     },
     "metadata": {
      "needs_background": "light"
     },
     "output_type": "display_data"
    }
   ],
   "source": [
    "plt.figure(figsize=(15,6))\n",
    "sns.boxplot(data=top_platforms_data,x='platform', y ='total_sales')\n",
    "plt.ylim(0, 2)\n",
    "plt.xlabel('Платформа')\n",
    "plt.ylabel('Глобальные продажи')\n",
    "plt.show()"
   ]
  },
  {
   "cell_type": "markdown",
   "metadata": {},
   "source": [
    "### Отзывы и продажи."
   ]
  },
  {
   "cell_type": "markdown",
   "metadata": {},
   "source": [
    "Рассмотрим, как влияют на продажи внутри одной популярной платформы отзывы пользователей и критиков. Построим диаграмму рассеяния и посчитаем корреляцию между отзывами и продажами."
   ]
  },
  {
   "cell_type": "code",
   "execution_count": 39,
   "metadata": {},
   "outputs": [],
   "source": [
    "sony_ps3_data = df.query('platform==\"PS3\"')"
   ]
  },
  {
   "cell_type": "code",
   "execution_count": 40,
   "metadata": {},
   "outputs": [
    {
     "data": {
      "text/plain": [
       "0.12841562938563006"
      ]
     },
     "execution_count": 40,
     "metadata": {},
     "output_type": "execute_result"
    }
   ],
   "source": [
    "sony_ps3_data['user_score'].corr(sony_ps3_data['total_sales'])\n"
   ]
  },
  {
   "cell_type": "code",
   "execution_count": 41,
   "metadata": {},
   "outputs": [
    {
     "data": {
      "text/plain": [
       "0.4327589578997135"
      ]
     },
     "execution_count": 41,
     "metadata": {},
     "output_type": "execute_result"
    }
   ],
   "source": [
    "sony_ps3_data['critic_score'].corr(sony_ps3_data['total_sales'])"
   ]
  },
  {
   "cell_type": "code",
   "execution_count": 42,
   "metadata": {},
   "outputs": [
    {
     "data": {
      "image/png": "[encoded data removed]",
      "text/plain": [
       "<Figure size 1080x432 with 1 Axes>"
      ]
     },
     "metadata": {
      "needs_background": "light"
     },
     "output_type": "display_data"
    }
   ],
   "source": [
    "sony_ps3_data.plot(x='user_score',y='total_sales', kind='scatter', alpha=0.6 , figsize=(15,6))\n",
    "plt.xlabel('Оценка пользователя')\n",
    "plt.ylabel('Продажи')\n",
    "plt.show()"
   ]
  },
  {
   "cell_type": "code",
   "execution_count": 43,
   "metadata": {},
   "outputs": [
    {
     "data": {
      "image/png": "[encoded data removed]",
      "text/plain": [
       "<Figure size 1080x432 with 1 Axes>"
      ]
     },
     "metadata": {
      "needs_background": "light"
     },
     "output_type": "display_data"
    }
   ],
   "source": [
    "sony_ps3_data.plot(x='critic_score',y='total_sales', kind='scatter', alpha=0.6 , figsize=(15,6))\n",
    "plt.xlabel('Оценка критиков')\n",
    "plt.ylabel('Продажи')\n",
    "plt.show()"
   ]
  },
  {
   "cell_type": "markdown",
   "metadata": {},
   "source": [
    "Соотнесем выводы с продажами игр на других платформах."
   ]
  },
  {
   "cell_type": "code",
   "execution_count": 44,
   "metadata": {},
   "outputs": [],
   "source": [
    "def score_conclusion(platform_name):\n",
    "    platform_data = df[df['platform']==platform_name]\n",
    "    fig, ax = plt.subplots(1,2, figsize=(15,6))\n",
    "    platform_data.plot(x='user_score', y ='total_sales', kind='scatter', figsize=(15,6), alpha=0.6, ax=ax[0])\n",
    "    platform_data.plot(x='critic_score', y ='total_sales', kind='scatter', figsize=(15,6),alpha=0.6, ax=ax[1])\n",
    "    fig.suptitle(platform_name)\n",
    "    plt.show()\n",
    "    corr_user = platform_data['user_score'].corr(platform_data['total_sales'])\n",
    "    corr_critic = platform_data['critic_score'].corr(platform_data['total_sales'])\n",
    "    print('Корреляция между отзывами пользователей и игровой платформой:', corr_user)\n",
    "    print('Корреляция между отзывами критиков и игровой платформой:', corr_critic)\n",
    "    "
   ]
  },
  {
   "cell_type": "code",
   "execution_count": 45,
   "metadata": {},
   "outputs": [
    {
     "data": {
      "text/plain": [
       "array(['X360', 'PS3', 'PS4', '3DS', 'XOne'], dtype=object)"
      ]
     },
     "execution_count": 45,
     "metadata": {},
     "output_type": "execute_result"
    }
   ],
   "source": [
    "top_platforms_data['platform'].unique()"
   ]
  },
  {
   "cell_type": "code",
   "execution_count": 46,
   "metadata": {},
   "outputs": [],
   "source": [
    "top_list = ['X360', 'PS3', 'PS4', '3DS', 'XOne']"
   ]
  },
  {
   "cell_type": "code",
   "execution_count": 47,
   "metadata": {
    "scrolled": false
   },
   "outputs": [
    {
     "data": {
      "image/png": "[encoded data removed]",
      "text/plain": [
       "<Figure size 1080x432 with 2 Axes>"
      ]
     },
     "metadata": {
      "needs_background": "light"
     },
     "output_type": "display_data"
    },
    {
     "name": "stdout",
     "output_type": "stream",
     "text": [
      "Корреляция между отзывами пользователей и игровой платформой: 0.11418661214018049\n",
      "Корреляция между отзывами критиков и игровой платформой: 0.39286589254006954\n"
     ]
    },
    {
     "data": {
      "image/png": "[encoded data removed]",
      "text/plain": [
       "<Figure size 1080x432 with 2 Axes>"
      ]
     },
     "metadata": {
      "needs_background": "light"
     },
     "output_type": "display_data"
    },
    {
     "name": "stdout",
     "output_type": "stream",
     "text": [
      "Корреляция между отзывами пользователей и игровой платформой: 0.12841562938563006\n",
      "Корреляция между отзывами критиков и игровой платформой: 0.4327589578997135\n"
     ]
    },
    {
     "data": {
      "image/png": "[encoded data removed]",
      "text/plain": [
       "<Figure size 1080x432 with 2 Axes>"
      ]
     },
     "metadata": {
      "needs_background": "light"
     },
     "output_type": "display_data"
    },
    {
     "name": "stdout",
     "output_type": "stream",
     "text": [
      "Корреляция между отзывами пользователей и игровой платформой: -0.031957110204556376\n",
      "Корреляция между отзывами критиков и игровой платформой: 0.40656790206178095\n"
     ]
    },
    {
     "data": {
      "image/png": "[encoded data removed]",
      "text/plain": [
       "<Figure size 1080x432 with 2 Axes>"
      ]
     },
     "metadata": {
      "needs_background": "light"
     },
     "output_type": "display_data"
    },
    {
     "name": "stdout",
     "output_type": "stream",
     "text": [
      "Корреляция между отзывами пользователей и игровой платформой: 0.22207843643390882\n",
      "Корреляция между отзывами критиков и игровой платформой: 0.3487397305984834\n"
     ]
    },
    {
     "data": {
      "image/png": "[encoded data removed]",
      "text/plain": [
       "<Figure size 1080x432 with 2 Axes>"
      ]
     },
     "metadata": {
      "needs_background": "light"
     },
     "output_type": "display_data"
    },
    {
     "name": "stdout",
     "output_type": "stream",
     "text": [
      "Корреляция между отзывами пользователей и игровой платформой: -0.06892505328279414\n",
      "Корреляция между отзывами критиков и игровой платформой: 0.4169983280084017\n"
     ]
    }
   ],
   "source": [
    "for i in top_list:\n",
    "    score_conclusion(i)"
   ]
  },
  {
   "cell_type": "markdown",
   "metadata": {},
   "source": [
    "Корреляция между отзывами критиков и продажами на игровых платформах больше чем между отзывами пользователей."
   ]
  },
  {
   "cell_type": "markdown",
   "metadata": {},
   "source": [
    "### Жанры."
   ]
  },
  {
   "cell_type": "markdown",
   "metadata": {},
   "source": [
    "Посмотрим на общее распределение игр по жанрам. Что можно сказать о самых прибыльных жанрах? Выделяются ли жанры с высокими и низкими продажами?"
   ]
  },
  {
   "cell_type": "code",
   "execution_count": 48,
   "metadata": {},
   "outputs": [
    {
     "data": {
      "text/html": [
       "<div>\n",
       "<style scoped>\n",
       "    .dataframe tbody tr th:only-of-type {\n",
       "        vertical-align: middle;\n",
       "    }\n",
       "\n",
       "    .dataframe tbody tr th {\n",
       "        vertical-align: top;\n",
       "    }\n",
       "\n",
       "    .dataframe thead th {\n",
       "        text-align: right;\n",
       "    }\n",
       "</style>\n",
       "<table border=\"1\" class=\"dataframe\">\n",
       "  <thead>\n",
       "    <tr style=\"text-align: right;\">\n",
       "      <th></th>\n",
       "      <th>genre</th>\n",
       "      <th>total_sales</th>\n",
       "    </tr>\n",
       "  </thead>\n",
       "  <tbody>\n",
       "    <tr>\n",
       "      <th>0</th>\n",
       "      <td>Action</td>\n",
       "      <td>557.80</td>\n",
       "    </tr>\n",
       "    <tr>\n",
       "      <th>8</th>\n",
       "      <td>Shooter</td>\n",
       "      <td>402.91</td>\n",
       "    </tr>\n",
       "    <tr>\n",
       "      <th>7</th>\n",
       "      <td>Role-Playing</td>\n",
       "      <td>245.63</td>\n",
       "    </tr>\n",
       "    <tr>\n",
       "      <th>10</th>\n",
       "      <td>Sports</td>\n",
       "      <td>237.15</td>\n",
       "    </tr>\n",
       "    <tr>\n",
       "      <th>3</th>\n",
       "      <td>Misc</td>\n",
       "      <td>139.42</td>\n",
       "    </tr>\n",
       "    <tr>\n",
       "      <th>4</th>\n",
       "      <td>Platform</td>\n",
       "      <td>88.68</td>\n",
       "    </tr>\n",
       "    <tr>\n",
       "      <th>6</th>\n",
       "      <td>Racing</td>\n",
       "      <td>88.31</td>\n",
       "    </tr>\n",
       "    <tr>\n",
       "      <th>2</th>\n",
       "      <td>Fighting</td>\n",
       "      <td>66.90</td>\n",
       "    </tr>\n",
       "    <tr>\n",
       "      <th>9</th>\n",
       "      <td>Simulation</td>\n",
       "      <td>50.26</td>\n",
       "    </tr>\n",
       "    <tr>\n",
       "      <th>1</th>\n",
       "      <td>Adventure</td>\n",
       "      <td>45.04</td>\n",
       "    </tr>\n",
       "    <tr>\n",
       "      <th>11</th>\n",
       "      <td>Strategy</td>\n",
       "      <td>22.16</td>\n",
       "    </tr>\n",
       "    <tr>\n",
       "      <th>5</th>\n",
       "      <td>Puzzle</td>\n",
       "      <td>9.85</td>\n",
       "    </tr>\n",
       "  </tbody>\n",
       "</table>\n",
       "</div>"
      ],
      "text/plain": [
       "           genre  total_sales\n",
       "0         Action       557.80\n",
       "8        Shooter       402.91\n",
       "7   Role-Playing       245.63\n",
       "10        Sports       237.15\n",
       "3           Misc       139.42\n",
       "4       Platform        88.68\n",
       "6         Racing        88.31\n",
       "2       Fighting        66.90\n",
       "9     Simulation        50.26\n",
       "1      Adventure        45.04\n",
       "11      Strategy        22.16\n",
       "5         Puzzle         9.85"
      ]
     },
     "execution_count": 48,
     "metadata": {},
     "output_type": "execute_result"
    }
   ],
   "source": [
    "genre_sales = df2010.pivot_table(index=\"genre\", values='total_sales',aggfunc='sum')\n",
    "genre_sales = genre_sales.reset_index()\n",
    "genre_sales = genre_sales.sort_values(by='total_sales',ascending=False)\n",
    "genre_sales"
   ]
  },
  {
   "cell_type": "code",
   "execution_count": 49,
   "metadata": {},
   "outputs": [
    {
     "data": {
      "image/png": "[encoded data removed]",
      "text/plain": [
       "<Figure size 1080x432 with 1 Axes>"
      ]
     },
     "metadata": {
      "needs_background": "light"
     },
     "output_type": "display_data"
    }
   ],
   "source": [
    "genre_sales.plot(x='genre',y='total_sales', kind='bar',figsize=(15,6),legend=False)\n",
    "plt.show()"
   ]
  },
  {
   "cell_type": "code",
   "execution_count": 50,
   "metadata": {
    "scrolled": false
   },
   "outputs": [
    {
     "data": {
      "image/png": "[encoded data removed]",
      "text/plain": [
       "<Figure size 1080x432 with 1 Axes>"
      ]
     },
     "metadata": {
      "needs_background": "light"
     },
     "output_type": "display_data"
    }
   ],
   "source": [
    "plt.figure(figsize=(15,6))\n",
    "sns.boxplot(data=df2010,x='genre', y ='total_sales')\n",
    "plt.xlabel('Жанр')\n",
    "plt.ylabel('Глобальные продажи')\n",
    "plt.show()"
   ]
  },
  {
   "cell_type": "code",
   "execution_count": 51,
   "metadata": {},
   "outputs": [
    {
     "data": {
      "image/png": "[encoded data removed]",
      "text/plain": [
       "<Figure size 1080x432 with 1 Axes>"
      ]
     },
     "metadata": {
      "needs_background": "light"
     },
     "output_type": "display_data"
    }
   ],
   "source": [
    "plt.figure(figsize=(15,6))\n",
    "sns.boxplot(data=df2010,x='genre', y ='total_sales')\n",
    "plt.ylim(0, 3.5)\n",
    "plt.xlabel('Жанр')\n",
    "plt.ylabel('Глобальные продажи')\n",
    "plt.show()"
   ]
  },
  {
   "cell_type": "markdown",
   "metadata": {},
   "source": [
    "**Вывод**\n",
    "* Самое большое количество продаж игр приходится на платформу PS3\n",
    "* Топ 5 платформ по продажам это PS3 , X360, PS4, 3DS , Xone, PS\n",
    "* В среднем платформы популярны около 10ти лет.\n",
    "* Оценка критиков больше зависит , чем оценка пользователя при покупке игр.\n",
    "* Топ жанр по продажам это экшн, самый низкий результат приходится на пазл."
   ]
  },
  {
   "cell_type": "markdown",
   "metadata": {},
   "source": [
    "## Портрет пользователя каждого региона."
   ]
  },
  {
   "cell_type": "markdown",
   "metadata": {},
   "source": [
    "Самые популярные платформы (топ-5). Опишем различия в долях продаж.\n",
    "Самые популярные жанры (топ-5). Поясним разницу.\n",
    "Влияет ли рейтинг ESRB на продажи в отдельном регионе?"
   ]
  },
  {
   "cell_type": "markdown",
   "metadata": {},
   "source": [
    "Рассмотрим регион NA."
   ]
  },
  {
   "cell_type": "code",
   "execution_count": 52,
   "metadata": {},
   "outputs": [
    {
     "data": {
      "text/html": [
       "<div>\n",
       "<style scoped>\n",
       "    .dataframe tbody tr th:only-of-type {\n",
       "        vertical-align: middle;\n",
       "    }\n",
       "\n",
       "    .dataframe tbody tr th {\n",
       "        vertical-align: top;\n",
       "    }\n",
       "\n",
       "    .dataframe thead th {\n",
       "        text-align: right;\n",
       "    }\n",
       "</style>\n",
       "<table border=\"1\" class=\"dataframe\">\n",
       "  <thead>\n",
       "    <tr style=\"text-align: right;\">\n",
       "      <th></th>\n",
       "      <th>platform</th>\n",
       "      <th>na_sales</th>\n",
       "    </tr>\n",
       "  </thead>\n",
       "  <tbody>\n",
       "    <tr>\n",
       "      <th>10</th>\n",
       "      <td>X360</td>\n",
       "      <td>226.80</td>\n",
       "    </tr>\n",
       "    <tr>\n",
       "      <th>4</th>\n",
       "      <td>PS3</td>\n",
       "      <td>168.26</td>\n",
       "    </tr>\n",
       "    <tr>\n",
       "      <th>5</th>\n",
       "      <td>PS4</td>\n",
       "      <td>108.74</td>\n",
       "    </tr>\n",
       "    <tr>\n",
       "      <th>11</th>\n",
       "      <td>XOne</td>\n",
       "      <td>93.12</td>\n",
       "    </tr>\n",
       "    <tr>\n",
       "      <th>0</th>\n",
       "      <td>3DS</td>\n",
       "      <td>82.65</td>\n",
       "    </tr>\n",
       "  </tbody>\n",
       "</table>\n",
       "</div>"
      ],
      "text/plain": [
       "   platform  na_sales\n",
       "10     X360    226.80\n",
       "4       PS3    168.26\n",
       "5       PS4    108.74\n",
       "11     XOne     93.12\n",
       "0       3DS     82.65"
      ]
     },
     "execution_count": 52,
     "metadata": {},
     "output_type": "execute_result"
    }
   ],
   "source": [
    "platform_na = df2010.pivot_table(index='platform', values='na_sales', aggfunc=('sum'))\n",
    "platform_na = platform_na.reset_index()\n",
    "platform_na = platform_na.sort_values(by='na_sales', ascending=False).head(5)\n",
    "platform_na"
   ]
  },
  {
   "cell_type": "code",
   "execution_count": 53,
   "metadata": {},
   "outputs": [
    {
     "data": {
      "text/html": [
       "<div>\n",
       "<style scoped>\n",
       "    .dataframe tbody tr th:only-of-type {\n",
       "        vertical-align: middle;\n",
       "    }\n",
       "\n",
       "    .dataframe tbody tr th {\n",
       "        vertical-align: top;\n",
       "    }\n",
       "\n",
       "    .dataframe thead th {\n",
       "        text-align: right;\n",
       "    }\n",
       "</style>\n",
       "<table border=\"1\" class=\"dataframe\">\n",
       "  <thead>\n",
       "    <tr style=\"text-align: right;\">\n",
       "      <th></th>\n",
       "      <th>genre</th>\n",
       "      <th>na_sales</th>\n",
       "    </tr>\n",
       "  </thead>\n",
       "  <tbody>\n",
       "    <tr>\n",
       "      <th>0</th>\n",
       "      <td>Action</td>\n",
       "      <td>230.92</td>\n",
       "    </tr>\n",
       "    <tr>\n",
       "      <th>8</th>\n",
       "      <td>Shooter</td>\n",
       "      <td>194.43</td>\n",
       "    </tr>\n",
       "    <tr>\n",
       "      <th>10</th>\n",
       "      <td>Sports</td>\n",
       "      <td>108.70</td>\n",
       "    </tr>\n",
       "    <tr>\n",
       "      <th>7</th>\n",
       "      <td>Role-Playing</td>\n",
       "      <td>83.78</td>\n",
       "    </tr>\n",
       "    <tr>\n",
       "      <th>3</th>\n",
       "      <td>Misc</td>\n",
       "      <td>69.69</td>\n",
       "    </tr>\n",
       "  </tbody>\n",
       "</table>\n",
       "</div>"
      ],
      "text/plain": [
       "           genre  na_sales\n",
       "0         Action    230.92\n",
       "8        Shooter    194.43\n",
       "10        Sports    108.70\n",
       "7   Role-Playing     83.78\n",
       "3           Misc     69.69"
      ]
     },
     "execution_count": 53,
     "metadata": {},
     "output_type": "execute_result"
    }
   ],
   "source": [
    "genre_na = df2010.pivot_table(index='genre', values='na_sales', aggfunc=('sum'))\n",
    "genre_na = genre_na.reset_index()\n",
    "genre_na = genre_na.sort_values(by='na_sales', ascending=False).head(5)\n",
    "genre_na"
   ]
  },
  {
   "cell_type": "code",
   "execution_count": 54,
   "metadata": {},
   "outputs": [
    {
     "data": {
      "text/html": [
       "<div>\n",
       "<style scoped>\n",
       "    .dataframe tbody tr th:only-of-type {\n",
       "        vertical-align: middle;\n",
       "    }\n",
       "\n",
       "    .dataframe tbody tr th {\n",
       "        vertical-align: top;\n",
       "    }\n",
       "\n",
       "    .dataframe thead th {\n",
       "        text-align: right;\n",
       "    }\n",
       "</style>\n",
       "<table border=\"1\" class=\"dataframe\">\n",
       "  <thead>\n",
       "    <tr style=\"text-align: right;\">\n",
       "      <th></th>\n",
       "      <th>rating</th>\n",
       "      <th>na_sales</th>\n",
       "    </tr>\n",
       "  </thead>\n",
       "  <tbody>\n",
       "    <tr>\n",
       "      <th>3</th>\n",
       "      <td>M</td>\n",
       "      <td>308.45</td>\n",
       "    </tr>\n",
       "    <tr>\n",
       "      <th>0</th>\n",
       "      <td>E</td>\n",
       "      <td>170.17</td>\n",
       "    </tr>\n",
       "    <tr>\n",
       "      <th>6</th>\n",
       "      <td>unknown</td>\n",
       "      <td>123.69</td>\n",
       "    </tr>\n",
       "    <tr>\n",
       "      <th>1</th>\n",
       "      <td>E10+</td>\n",
       "      <td>117.72</td>\n",
       "    </tr>\n",
       "    <tr>\n",
       "      <th>5</th>\n",
       "      <td>T</td>\n",
       "      <td>109.31</td>\n",
       "    </tr>\n",
       "  </tbody>\n",
       "</table>\n",
       "</div>"
      ],
      "text/plain": [
       "    rating  na_sales\n",
       "3        M    308.45\n",
       "0        E    170.17\n",
       "6  unknown    123.69\n",
       "1     E10+    117.72\n",
       "5        T    109.31"
      ]
     },
     "execution_count": 54,
     "metadata": {},
     "output_type": "execute_result"
    }
   ],
   "source": [
    "rating_na = df2010.pivot_table(index='rating', values='na_sales', aggfunc=('sum'))\n",
    "rating_na = rating_na.reset_index()\n",
    "rating_na = rating_na.sort_values(by='na_sales', ascending=False).head(5)\n",
    "rating_na"
   ]
  },
  {
   "cell_type": "code",
   "execution_count": 55,
   "metadata": {},
   "outputs": [
    {
     "data": {
      "image/png": "[encoded data removed]",
      "text/plain": [
       "<Figure size 1080x432 with 3 Axes>"
      ]
     },
     "metadata": {
      "needs_background": "light"
     },
     "output_type": "display_data"
    }
   ],
   "source": [
    "fig, ax = plt.subplots(1,3, figsize=(15,6))\n",
    "platform_na.plot(x='platform', y='na_sales', kind='bar', legend=False, ax=ax[0])\n",
    "genre_na.plot(x='genre', y='na_sales', kind='bar', legend=False, ax=ax[1])\n",
    "rating_na.plot(x='rating', y='na_sales', kind='bar', legend=False, ax=ax[2])\n",
    "plt.show()"
   ]
  },
  {
   "cell_type": "markdown",
   "metadata": {},
   "source": [
    "Видим, что популяные продажи в этом региона приходятся на X360. Экшн самый популярный жанр в NA.  Самый популярный рейтинг 17+, "
   ]
  },
  {
   "cell_type": "code",
   "execution_count": 56,
   "metadata": {},
   "outputs": [
    {
     "data": {
      "text/html": [
       "<div>\n",
       "<style scoped>\n",
       "    .dataframe tbody tr th:only-of-type {\n",
       "        vertical-align: middle;\n",
       "    }\n",
       "\n",
       "    .dataframe tbody tr th {\n",
       "        vertical-align: top;\n",
       "    }\n",
       "\n",
       "    .dataframe thead th {\n",
       "        text-align: right;\n",
       "    }\n",
       "</style>\n",
       "<table border=\"1\" class=\"dataframe\">\n",
       "  <thead>\n",
       "    <tr style=\"text-align: right;\">\n",
       "      <th></th>\n",
       "      <th>platform</th>\n",
       "      <th>eu_sales</th>\n",
       "    </tr>\n",
       "  </thead>\n",
       "  <tbody>\n",
       "    <tr>\n",
       "      <th>4</th>\n",
       "      <td>PS3</td>\n",
       "      <td>163.10</td>\n",
       "    </tr>\n",
       "    <tr>\n",
       "      <th>5</th>\n",
       "      <td>PS4</td>\n",
       "      <td>141.09</td>\n",
       "    </tr>\n",
       "    <tr>\n",
       "      <th>10</th>\n",
       "      <td>X360</td>\n",
       "      <td>117.10</td>\n",
       "    </tr>\n",
       "    <tr>\n",
       "      <th>0</th>\n",
       "      <td>3DS</td>\n",
       "      <td>61.27</td>\n",
       "    </tr>\n",
       "    <tr>\n",
       "      <th>2</th>\n",
       "      <td>PC</td>\n",
       "      <td>56.70</td>\n",
       "    </tr>\n",
       "  </tbody>\n",
       "</table>\n",
       "</div>"
      ],
      "text/plain": [
       "   platform  eu_sales\n",
       "4       PS3    163.10\n",
       "5       PS4    141.09\n",
       "10     X360    117.10\n",
       "0       3DS     61.27\n",
       "2        PC     56.70"
      ]
     },
     "execution_count": 56,
     "metadata": {},
     "output_type": "execute_result"
    }
   ],
   "source": [
    "platform_eu = df2010.pivot_table(index='platform', values='eu_sales', aggfunc=('sum'))\n",
    "platform_eu = platform_eu.reset_index()\n",
    "platform_eu = platform_eu.sort_values(by='eu_sales', ascending=False).head(5)\n",
    "platform_eu"
   ]
  },
  {
   "cell_type": "code",
   "execution_count": 57,
   "metadata": {},
   "outputs": [
    {
     "data": {
      "text/html": [
       "<div>\n",
       "<style scoped>\n",
       "    .dataframe tbody tr th:only-of-type {\n",
       "        vertical-align: middle;\n",
       "    }\n",
       "\n",
       "    .dataframe tbody tr th {\n",
       "        vertical-align: top;\n",
       "    }\n",
       "\n",
       "    .dataframe thead th {\n",
       "        text-align: right;\n",
       "    }\n",
       "</style>\n",
       "<table border=\"1\" class=\"dataframe\">\n",
       "  <thead>\n",
       "    <tr style=\"text-align: right;\">\n",
       "      <th></th>\n",
       "      <th>genre</th>\n",
       "      <th>eu_sales</th>\n",
       "    </tr>\n",
       "  </thead>\n",
       "  <tbody>\n",
       "    <tr>\n",
       "      <th>0</th>\n",
       "      <td>Action</td>\n",
       "      <td>199.12</td>\n",
       "    </tr>\n",
       "    <tr>\n",
       "      <th>8</th>\n",
       "      <td>Shooter</td>\n",
       "      <td>148.02</td>\n",
       "    </tr>\n",
       "    <tr>\n",
       "      <th>10</th>\n",
       "      <td>Sports</td>\n",
       "      <td>88.48</td>\n",
       "    </tr>\n",
       "    <tr>\n",
       "      <th>7</th>\n",
       "      <td>Role-Playing</td>\n",
       "      <td>62.30</td>\n",
       "    </tr>\n",
       "    <tr>\n",
       "      <th>6</th>\n",
       "      <td>Racing</td>\n",
       "      <td>40.58</td>\n",
       "    </tr>\n",
       "  </tbody>\n",
       "</table>\n",
       "</div>"
      ],
      "text/plain": [
       "           genre  eu_sales\n",
       "0         Action    199.12\n",
       "8        Shooter    148.02\n",
       "10        Sports     88.48\n",
       "7   Role-Playing     62.30\n",
       "6         Racing     40.58"
      ]
     },
     "execution_count": 57,
     "metadata": {},
     "output_type": "execute_result"
    }
   ],
   "source": [
    "genre_eu = df2010.pivot_table(index='genre', values='eu_sales', aggfunc=('sum'))\n",
    "genre_eu = genre_eu.reset_index()\n",
    "genre_eu = genre_eu.sort_values(by='eu_sales', ascending=False).head(5)\n",
    "genre_eu"
   ]
  },
  {
   "cell_type": "code",
   "execution_count": 58,
   "metadata": {},
   "outputs": [
    {
     "data": {
      "text/html": [
       "<div>\n",
       "<style scoped>\n",
       "    .dataframe tbody tr th:only-of-type {\n",
       "        vertical-align: middle;\n",
       "    }\n",
       "\n",
       "    .dataframe tbody tr th {\n",
       "        vertical-align: top;\n",
       "    }\n",
       "\n",
       "    .dataframe thead th {\n",
       "        text-align: right;\n",
       "    }\n",
       "</style>\n",
       "<table border=\"1\" class=\"dataframe\">\n",
       "  <thead>\n",
       "    <tr style=\"text-align: right;\">\n",
       "      <th></th>\n",
       "      <th>rating</th>\n",
       "      <th>eu_sales</th>\n",
       "    </tr>\n",
       "  </thead>\n",
       "  <tbody>\n",
       "    <tr>\n",
       "      <th>3</th>\n",
       "      <td>M</td>\n",
       "      <td>250.26</td>\n",
       "    </tr>\n",
       "    <tr>\n",
       "      <th>0</th>\n",
       "      <td>E</td>\n",
       "      <td>141.73</td>\n",
       "    </tr>\n",
       "    <tr>\n",
       "      <th>6</th>\n",
       "      <td>unknown</td>\n",
       "      <td>116.61</td>\n",
       "    </tr>\n",
       "    <tr>\n",
       "      <th>5</th>\n",
       "      <td>T</td>\n",
       "      <td>83.16</td>\n",
       "    </tr>\n",
       "    <tr>\n",
       "      <th>1</th>\n",
       "      <td>E10+</td>\n",
       "      <td>78.00</td>\n",
       "    </tr>\n",
       "  </tbody>\n",
       "</table>\n",
       "</div>"
      ],
      "text/plain": [
       "    rating  eu_sales\n",
       "3        M    250.26\n",
       "0        E    141.73\n",
       "6  unknown    116.61\n",
       "5        T     83.16\n",
       "1     E10+     78.00"
      ]
     },
     "execution_count": 58,
     "metadata": {},
     "output_type": "execute_result"
    }
   ],
   "source": [
    "rating_eu = df2010.pivot_table(index='rating', values='eu_sales', aggfunc=('sum'))\n",
    "rating_eu = rating_eu.reset_index()\n",
    "rating_eu = rating_eu.sort_values(by='eu_sales', ascending=False).head(5)\n",
    "rating_eu"
   ]
  },
  {
   "cell_type": "code",
   "execution_count": 59,
   "metadata": {},
   "outputs": [
    {
     "data": {
      "image/png": "[encoded data removed]",
      "text/plain": [
       "<Figure size 1080x432 with 3 Axes>"
      ]
     },
     "metadata": {
      "needs_background": "light"
     },
     "output_type": "display_data"
    }
   ],
   "source": [
    "fig, ax = plt.subplots(1,3, figsize=(15,6))\n",
    "platform_eu.plot(x='platform', y='eu_sales', kind='bar', legend=False, ax=ax[0])\n",
    "genre_eu.plot(x='genre', y='eu_sales', kind='bar', legend=False, ax=ax[1])\n",
    "rating_eu.plot(x='rating', y='eu_sales', kind='bar', legend=False, ax=ax[2])\n",
    "plt.show()"
   ]
  },
  {
   "cell_type": "markdown",
   "metadata": {},
   "source": [
    "В Европе хбокс отстает от sony playstation по продажам. В топ жанре и рейтинге остаются все те же , что и в NA."
   ]
  },
  {
   "cell_type": "code",
   "execution_count": 60,
   "metadata": {},
   "outputs": [
    {
     "data": {
      "text/html": [
       "<div>\n",
       "<style scoped>\n",
       "    .dataframe tbody tr th:only-of-type {\n",
       "        vertical-align: middle;\n",
       "    }\n",
       "\n",
       "    .dataframe tbody tr th {\n",
       "        vertical-align: top;\n",
       "    }\n",
       "\n",
       "    .dataframe thead th {\n",
       "        text-align: right;\n",
       "    }\n",
       "</style>\n",
       "<table border=\"1\" class=\"dataframe\">\n",
       "  <thead>\n",
       "    <tr style=\"text-align: right;\">\n",
       "      <th></th>\n",
       "      <th>platform</th>\n",
       "      <th>jp_sales</th>\n",
       "    </tr>\n",
       "  </thead>\n",
       "  <tbody>\n",
       "    <tr>\n",
       "      <th>0</th>\n",
       "      <td>3DS</td>\n",
       "      <td>100.62</td>\n",
       "    </tr>\n",
       "    <tr>\n",
       "      <th>4</th>\n",
       "      <td>PS3</td>\n",
       "      <td>49.39</td>\n",
       "    </tr>\n",
       "    <tr>\n",
       "      <th>6</th>\n",
       "      <td>PSP</td>\n",
       "      <td>24.04</td>\n",
       "    </tr>\n",
       "    <tr>\n",
       "      <th>7</th>\n",
       "      <td>PSV</td>\n",
       "      <td>21.84</td>\n",
       "    </tr>\n",
       "    <tr>\n",
       "      <th>5</th>\n",
       "      <td>PS4</td>\n",
       "      <td>15.96</td>\n",
       "    </tr>\n",
       "  </tbody>\n",
       "</table>\n",
       "</div>"
      ],
      "text/plain": [
       "  platform  jp_sales\n",
       "0      3DS    100.62\n",
       "4      PS3     49.39\n",
       "6      PSP     24.04\n",
       "7      PSV     21.84\n",
       "5      PS4     15.96"
      ]
     },
     "execution_count": 60,
     "metadata": {},
     "output_type": "execute_result"
    }
   ],
   "source": [
    "platform_jp = df2010.pivot_table(index='platform', values='jp_sales', aggfunc=('sum'))\n",
    "platform_jp = platform_jp.reset_index()\n",
    "platform_jp = platform_jp.sort_values(by='jp_sales', ascending=False).head(5)\n",
    "platform_jp"
   ]
  },
  {
   "cell_type": "code",
   "execution_count": 61,
   "metadata": {},
   "outputs": [
    {
     "data": {
      "text/html": [
       "<div>\n",
       "<style scoped>\n",
       "    .dataframe tbody tr th:only-of-type {\n",
       "        vertical-align: middle;\n",
       "    }\n",
       "\n",
       "    .dataframe tbody tr th {\n",
       "        vertical-align: top;\n",
       "    }\n",
       "\n",
       "    .dataframe thead th {\n",
       "        text-align: right;\n",
       "    }\n",
       "</style>\n",
       "<table border=\"1\" class=\"dataframe\">\n",
       "  <thead>\n",
       "    <tr style=\"text-align: right;\">\n",
       "      <th></th>\n",
       "      <th>genre</th>\n",
       "      <th>jp_sales</th>\n",
       "    </tr>\n",
       "  </thead>\n",
       "  <tbody>\n",
       "    <tr>\n",
       "      <th>7</th>\n",
       "      <td>Role-Playing</td>\n",
       "      <td>79.87</td>\n",
       "    </tr>\n",
       "    <tr>\n",
       "      <th>0</th>\n",
       "      <td>Action</td>\n",
       "      <td>63.62</td>\n",
       "    </tr>\n",
       "    <tr>\n",
       "      <th>3</th>\n",
       "      <td>Misc</td>\n",
       "      <td>17.60</td>\n",
       "    </tr>\n",
       "    <tr>\n",
       "      <th>2</th>\n",
       "      <td>Fighting</td>\n",
       "      <td>12.38</td>\n",
       "    </tr>\n",
       "    <tr>\n",
       "      <th>4</th>\n",
       "      <td>Platform</td>\n",
       "      <td>12.13</td>\n",
       "    </tr>\n",
       "  </tbody>\n",
       "</table>\n",
       "</div>"
      ],
      "text/plain": [
       "          genre  jp_sales\n",
       "7  Role-Playing     79.87\n",
       "0        Action     63.62\n",
       "3          Misc     17.60\n",
       "2      Fighting     12.38\n",
       "4      Platform     12.13"
      ]
     },
     "execution_count": 61,
     "metadata": {},
     "output_type": "execute_result"
    }
   ],
   "source": [
    "genre_jp = df2010.pivot_table(index='genre', values='jp_sales', aggfunc=('sum'))\n",
    "genre_jp = genre_jp.reset_index()\n",
    "genre_jp = genre_jp.sort_values(by='jp_sales', ascending=False).head(5)\n",
    "genre_jp"
   ]
  },
  {
   "cell_type": "code",
   "execution_count": 62,
   "metadata": {},
   "outputs": [
    {
     "data": {
      "text/html": [
       "<div>\n",
       "<style scoped>\n",
       "    .dataframe tbody tr th:only-of-type {\n",
       "        vertical-align: middle;\n",
       "    }\n",
       "\n",
       "    .dataframe tbody tr th {\n",
       "        vertical-align: top;\n",
       "    }\n",
       "\n",
       "    .dataframe thead th {\n",
       "        text-align: right;\n",
       "    }\n",
       "</style>\n",
       "<table border=\"1\" class=\"dataframe\">\n",
       "  <thead>\n",
       "    <tr style=\"text-align: right;\">\n",
       "      <th></th>\n",
       "      <th>rating</th>\n",
       "      <th>jp_sales</th>\n",
       "    </tr>\n",
       "  </thead>\n",
       "  <tbody>\n",
       "    <tr>\n",
       "      <th>6</th>\n",
       "      <td>unknown</td>\n",
       "      <td>138.21</td>\n",
       "    </tr>\n",
       "    <tr>\n",
       "      <th>0</th>\n",
       "      <td>E</td>\n",
       "      <td>36.68</td>\n",
       "    </tr>\n",
       "    <tr>\n",
       "      <th>5</th>\n",
       "      <td>T</td>\n",
       "      <td>33.39</td>\n",
       "    </tr>\n",
       "    <tr>\n",
       "      <th>3</th>\n",
       "      <td>M</td>\n",
       "      <td>26.14</td>\n",
       "    </tr>\n",
       "    <tr>\n",
       "      <th>1</th>\n",
       "      <td>E10+</td>\n",
       "      <td>11.23</td>\n",
       "    </tr>\n",
       "  </tbody>\n",
       "</table>\n",
       "</div>"
      ],
      "text/plain": [
       "    rating  jp_sales\n",
       "6  unknown    138.21\n",
       "0        E     36.68\n",
       "5        T     33.39\n",
       "3        M     26.14\n",
       "1     E10+     11.23"
      ]
     },
     "execution_count": 62,
     "metadata": {},
     "output_type": "execute_result"
    }
   ],
   "source": [
    "rating_jp = df2010.pivot_table(index='rating', values='jp_sales', aggfunc=('sum'))\n",
    "rating_jp = rating_jp.reset_index()\n",
    "rating_jp = rating_jp.sort_values(by='jp_sales', ascending=False).head(5)\n",
    "rating_jp"
   ]
  },
  {
   "cell_type": "code",
   "execution_count": 63,
   "metadata": {},
   "outputs": [
    {
     "data": {
      "image/png": "[encoded data removed]",
      "text/plain": [
       "<Figure size 1080x432 with 3 Axes>"
      ]
     },
     "metadata": {
      "needs_background": "light"
     },
     "output_type": "display_data"
    }
   ],
   "source": [
    "fig, ax = plt.subplots(1,3, figsize=(15,6))\n",
    "platform_jp.plot(x='platform', y='jp_sales', kind='bar', legend=False, ax=ax[0])\n",
    "genre_jp.plot(x='genre', y='jp_sales', kind='bar', legend=False, ax=ax[1])\n",
    "rating_jp.plot(x='rating', y='jp_sales', kind='bar', legend=False, ax=ax[2])\n",
    "plt.show()"
   ]
  },
  {
   "cell_type": "markdown",
   "metadata": {},
   "source": [
    "Лидирует по плафтормам в Японии, это DS , ролевой жанр сильно отрывается по сравнению с другими."
   ]
  },
  {
   "cell_type": "markdown",
   "metadata": {},
   "source": [
    "Чтобы результат был более актуальным возьмём данные за последние два года."
   ]
  },
  {
   "cell_type": "code",
   "execution_count": 64,
   "metadata": {},
   "outputs": [
    {
     "data": {
      "text/html": [
       "<div>\n",
       "<style scoped>\n",
       "    .dataframe tbody tr th:only-of-type {\n",
       "        vertical-align: middle;\n",
       "    }\n",
       "\n",
       "    .dataframe tbody tr th {\n",
       "        vertical-align: top;\n",
       "    }\n",
       "\n",
       "    .dataframe thead th {\n",
       "        text-align: right;\n",
       "    }\n",
       "</style>\n",
       "<table border=\"1\" class=\"dataframe\">\n",
       "  <thead>\n",
       "    <tr style=\"text-align: right;\">\n",
       "      <th></th>\n",
       "      <th>platform</th>\n",
       "      <th>na_sales</th>\n",
       "    </tr>\n",
       "  </thead>\n",
       "  <tbody>\n",
       "    <tr>\n",
       "      <th>3</th>\n",
       "      <td>PS4</td>\n",
       "      <td>63.86</td>\n",
       "    </tr>\n",
       "    <tr>\n",
       "      <th>9</th>\n",
       "      <td>XOne</td>\n",
       "      <td>50.30</td>\n",
       "    </tr>\n",
       "    <tr>\n",
       "      <th>0</th>\n",
       "      <td>3DS</td>\n",
       "      <td>10.31</td>\n",
       "    </tr>\n",
       "    <tr>\n",
       "      <th>7</th>\n",
       "      <td>WiiU</td>\n",
       "      <td>8.86</td>\n",
       "    </tr>\n",
       "    <tr>\n",
       "      <th>8</th>\n",
       "      <td>X360</td>\n",
       "      <td>8.05</td>\n",
       "    </tr>\n",
       "  </tbody>\n",
       "</table>\n",
       "</div>"
      ],
      "text/plain": [
       "  platform  na_sales\n",
       "3      PS4     63.86\n",
       "9     XOne     50.30\n",
       "0      3DS     10.31\n",
       "7     WiiU      8.86\n",
       "8     X360      8.05"
      ]
     },
     "execution_count": 64,
     "metadata": {},
     "output_type": "execute_result"
    }
   ],
   "source": [
    "df15_16 = df.query('year_of_release>=2015')\n",
    "platform_na2 = df15_16.pivot_table(index='platform', values='na_sales', aggfunc=('sum'))\n",
    "platform_na2 = platform_na2.reset_index()\n",
    "platform_na2 = platform_na2.sort_values(by='na_sales', ascending=False).head(5)\n",
    "platform_na2"
   ]
  },
  {
   "cell_type": "code",
   "execution_count": 65,
   "metadata": {},
   "outputs": [
    {
     "data": {
      "text/html": [
       "<div>\n",
       "<style scoped>\n",
       "    .dataframe tbody tr th:only-of-type {\n",
       "        vertical-align: middle;\n",
       "    }\n",
       "\n",
       "    .dataframe tbody tr th {\n",
       "        vertical-align: top;\n",
       "    }\n",
       "\n",
       "    .dataframe thead th {\n",
       "        text-align: right;\n",
       "    }\n",
       "</style>\n",
       "<table border=\"1\" class=\"dataframe\">\n",
       "  <thead>\n",
       "    <tr style=\"text-align: right;\">\n",
       "      <th></th>\n",
       "      <th>genre</th>\n",
       "      <th>na_sales</th>\n",
       "    </tr>\n",
       "  </thead>\n",
       "  <tbody>\n",
       "    <tr>\n",
       "      <th>8</th>\n",
       "      <td>Shooter</td>\n",
       "      <td>48.18</td>\n",
       "    </tr>\n",
       "    <tr>\n",
       "      <th>0</th>\n",
       "      <td>Action</td>\n",
       "      <td>33.68</td>\n",
       "    </tr>\n",
       "    <tr>\n",
       "      <th>10</th>\n",
       "      <td>Sports</td>\n",
       "      <td>26.31</td>\n",
       "    </tr>\n",
       "    <tr>\n",
       "      <th>7</th>\n",
       "      <td>Role-Playing</td>\n",
       "      <td>19.82</td>\n",
       "    </tr>\n",
       "    <tr>\n",
       "      <th>3</th>\n",
       "      <td>Misc</td>\n",
       "      <td>5.58</td>\n",
       "    </tr>\n",
       "  </tbody>\n",
       "</table>\n",
       "</div>"
      ],
      "text/plain": [
       "           genre  na_sales\n",
       "8        Shooter     48.18\n",
       "0         Action     33.68\n",
       "10        Sports     26.31\n",
       "7   Role-Playing     19.82\n",
       "3           Misc      5.58"
      ]
     },
     "execution_count": 65,
     "metadata": {},
     "output_type": "execute_result"
    }
   ],
   "source": [
    "genre_na2 = df15_16.pivot_table(index='genre', values='na_sales', aggfunc=('sum'))\n",
    "genre_na2 = genre_na2.reset_index()\n",
    "genre_na2 = genre_na2.sort_values(by='na_sales', ascending=False).head(5)\n",
    "genre_na2"
   ]
  },
  {
   "cell_type": "code",
   "execution_count": 66,
   "metadata": {},
   "outputs": [
    {
     "data": {
      "text/html": [
       "<div>\n",
       "<style scoped>\n",
       "    .dataframe tbody tr th:only-of-type {\n",
       "        vertical-align: middle;\n",
       "    }\n",
       "\n",
       "    .dataframe tbody tr th {\n",
       "        vertical-align: top;\n",
       "    }\n",
       "\n",
       "    .dataframe thead th {\n",
       "        text-align: right;\n",
       "    }\n",
       "</style>\n",
       "<table border=\"1\" class=\"dataframe\">\n",
       "  <thead>\n",
       "    <tr style=\"text-align: right;\">\n",
       "      <th></th>\n",
       "      <th>rating</th>\n",
       "      <th>na_sales</th>\n",
       "    </tr>\n",
       "  </thead>\n",
       "  <tbody>\n",
       "    <tr>\n",
       "      <th>2</th>\n",
       "      <td>M</td>\n",
       "      <td>47.03</td>\n",
       "    </tr>\n",
       "    <tr>\n",
       "      <th>4</th>\n",
       "      <td>unknown</td>\n",
       "      <td>37.44</td>\n",
       "    </tr>\n",
       "    <tr>\n",
       "      <th>0</th>\n",
       "      <td>E</td>\n",
       "      <td>26.59</td>\n",
       "    </tr>\n",
       "    <tr>\n",
       "      <th>3</th>\n",
       "      <td>T</td>\n",
       "      <td>22.86</td>\n",
       "    </tr>\n",
       "    <tr>\n",
       "      <th>1</th>\n",
       "      <td>E10+</td>\n",
       "      <td>17.87</td>\n",
       "    </tr>\n",
       "  </tbody>\n",
       "</table>\n",
       "</div>"
      ],
      "text/plain": [
       "    rating  na_sales\n",
       "2        M     47.03\n",
       "4  unknown     37.44\n",
       "0        E     26.59\n",
       "3        T     22.86\n",
       "1     E10+     17.87"
      ]
     },
     "execution_count": 66,
     "metadata": {},
     "output_type": "execute_result"
    }
   ],
   "source": [
    "rating_na2 = df15_16.pivot_table(index='rating', values='na_sales', aggfunc=('sum'))\n",
    "rating_na2 = rating_na2.reset_index()\n",
    "rating_na2 = rating_na2.sort_values(by='na_sales', ascending=False).head(5)\n",
    "rating_na2"
   ]
  },
  {
   "cell_type": "code",
   "execution_count": 67,
   "metadata": {},
   "outputs": [
    {
     "data": {
      "image/png": "[encoded data removed]",
      "text/plain": [
       "<Figure size 1080x432 with 3 Axes>"
      ]
     },
     "metadata": {
      "needs_background": "light"
     },
     "output_type": "display_data"
    }
   ],
   "source": [
    "fig, ax = plt.subplots(1,3, figsize=(15,6))\n",
    "platform_na2.plot(x='platform', y='na_sales', kind='bar', legend=False, ax=ax[0])\n",
    "genre_na2.plot(x='genre', y='na_sales', kind='bar', legend=False, ax=ax[1])\n",
    "rating_na2.plot(x='rating', y='na_sales', kind='bar', legend=False, ax=ax[2])\n",
    "plt.show()"
   ]
  },
  {
   "cell_type": "code",
   "execution_count": 68,
   "metadata": {},
   "outputs": [
    {
     "data": {
      "text/html": [
       "<div>\n",
       "<style scoped>\n",
       "    .dataframe tbody tr th:only-of-type {\n",
       "        vertical-align: middle;\n",
       "    }\n",
       "\n",
       "    .dataframe tbody tr th {\n",
       "        vertical-align: top;\n",
       "    }\n",
       "\n",
       "    .dataframe thead th {\n",
       "        text-align: right;\n",
       "    }\n",
       "</style>\n",
       "<table border=\"1\" class=\"dataframe\">\n",
       "  <thead>\n",
       "    <tr style=\"text-align: right;\">\n",
       "      <th></th>\n",
       "      <th>platform</th>\n",
       "      <th>eu_sales</th>\n",
       "    </tr>\n",
       "  </thead>\n",
       "  <tbody>\n",
       "    <tr>\n",
       "      <th>3</th>\n",
       "      <td>PS4</td>\n",
       "      <td>83.54</td>\n",
       "    </tr>\n",
       "    <tr>\n",
       "      <th>9</th>\n",
       "      <td>XOne</td>\n",
       "      <td>28.10</td>\n",
       "    </tr>\n",
       "    <tr>\n",
       "      <th>1</th>\n",
       "      <td>PC</td>\n",
       "      <td>9.10</td>\n",
       "    </tr>\n",
       "    <tr>\n",
       "      <th>0</th>\n",
       "      <td>3DS</td>\n",
       "      <td>7.39</td>\n",
       "    </tr>\n",
       "    <tr>\n",
       "      <th>2</th>\n",
       "      <td>PS3</td>\n",
       "      <td>7.30</td>\n",
       "    </tr>\n",
       "  </tbody>\n",
       "</table>\n",
       "</div>"
      ],
      "text/plain": [
       "  platform  eu_sales\n",
       "3      PS4     83.54\n",
       "9     XOne     28.10\n",
       "1       PC      9.10\n",
       "0      3DS      7.39\n",
       "2      PS3      7.30"
      ]
     },
     "execution_count": 68,
     "metadata": {},
     "output_type": "execute_result"
    }
   ],
   "source": [
    "platform_eu2 = df15_16.pivot_table(index='platform', values='eu_sales', aggfunc=('sum'))\n",
    "platform_eu2 = platform_eu2.reset_index()\n",
    "platform_eu2 = platform_eu2.sort_values(by='eu_sales', ascending=False).head(5)\n",
    "platform_eu2"
   ]
  },
  {
   "cell_type": "code",
   "execution_count": 69,
   "metadata": {},
   "outputs": [
    {
     "data": {
      "text/html": [
       "<div>\n",
       "<style scoped>\n",
       "    .dataframe tbody tr th:only-of-type {\n",
       "        vertical-align: middle;\n",
       "    }\n",
       "\n",
       "    .dataframe tbody tr th {\n",
       "        vertical-align: top;\n",
       "    }\n",
       "\n",
       "    .dataframe thead th {\n",
       "        text-align: right;\n",
       "    }\n",
       "</style>\n",
       "<table border=\"1\" class=\"dataframe\">\n",
       "  <thead>\n",
       "    <tr style=\"text-align: right;\">\n",
       "      <th></th>\n",
       "      <th>genre</th>\n",
       "      <th>eu_sales</th>\n",
       "    </tr>\n",
       "  </thead>\n",
       "  <tbody>\n",
       "    <tr>\n",
       "      <th>8</th>\n",
       "      <td>Shooter</td>\n",
       "      <td>40.28</td>\n",
       "    </tr>\n",
       "    <tr>\n",
       "      <th>0</th>\n",
       "      <td>Action</td>\n",
       "      <td>34.82</td>\n",
       "    </tr>\n",
       "    <tr>\n",
       "      <th>10</th>\n",
       "      <td>Sports</td>\n",
       "      <td>27.82</td>\n",
       "    </tr>\n",
       "    <tr>\n",
       "      <th>7</th>\n",
       "      <td>Role-Playing</td>\n",
       "      <td>17.21</td>\n",
       "    </tr>\n",
       "    <tr>\n",
       "      <th>6</th>\n",
       "      <td>Racing</td>\n",
       "      <td>6.52</td>\n",
       "    </tr>\n",
       "  </tbody>\n",
       "</table>\n",
       "</div>"
      ],
      "text/plain": [
       "           genre  eu_sales\n",
       "8        Shooter     40.28\n",
       "0         Action     34.82\n",
       "10        Sports     27.82\n",
       "7   Role-Playing     17.21\n",
       "6         Racing      6.52"
      ]
     },
     "execution_count": 69,
     "metadata": {},
     "output_type": "execute_result"
    }
   ],
   "source": [
    "genre_eu2 = df15_16.pivot_table(index='genre', values='eu_sales', aggfunc=('sum'))\n",
    "genre_eu2 = genre_eu2.reset_index()\n",
    "genre_eu2 = genre_eu2.sort_values(by='eu_sales', ascending=False).head(5)\n",
    "genre_eu2\n"
   ]
  },
  {
   "cell_type": "code",
   "execution_count": 70,
   "metadata": {},
   "outputs": [
    {
     "data": {
      "text/html": [
       "<div>\n",
       "<style scoped>\n",
       "    .dataframe tbody tr th:only-of-type {\n",
       "        vertical-align: middle;\n",
       "    }\n",
       "\n",
       "    .dataframe tbody tr th {\n",
       "        vertical-align: top;\n",
       "    }\n",
       "\n",
       "    .dataframe thead th {\n",
       "        text-align: right;\n",
       "    }\n",
       "</style>\n",
       "<table border=\"1\" class=\"dataframe\">\n",
       "  <thead>\n",
       "    <tr style=\"text-align: right;\">\n",
       "      <th></th>\n",
       "      <th>rating</th>\n",
       "      <th>eu_sales</th>\n",
       "    </tr>\n",
       "  </thead>\n",
       "  <tbody>\n",
       "    <tr>\n",
       "      <th>2</th>\n",
       "      <td>M</td>\n",
       "      <td>45.54</td>\n",
       "    </tr>\n",
       "    <tr>\n",
       "      <th>4</th>\n",
       "      <td>unknown</td>\n",
       "      <td>35.71</td>\n",
       "    </tr>\n",
       "    <tr>\n",
       "      <th>0</th>\n",
       "      <td>E</td>\n",
       "      <td>34.83</td>\n",
       "    </tr>\n",
       "    <tr>\n",
       "      <th>3</th>\n",
       "      <td>T</td>\n",
       "      <td>20.32</td>\n",
       "    </tr>\n",
       "    <tr>\n",
       "      <th>1</th>\n",
       "      <td>E10+</td>\n",
       "      <td>11.54</td>\n",
       "    </tr>\n",
       "  </tbody>\n",
       "</table>\n",
       "</div>"
      ],
      "text/plain": [
       "    rating  eu_sales\n",
       "2        M     45.54\n",
       "4  unknown     35.71\n",
       "0        E     34.83\n",
       "3        T     20.32\n",
       "1     E10+     11.54"
      ]
     },
     "execution_count": 70,
     "metadata": {},
     "output_type": "execute_result"
    }
   ],
   "source": [
    "rating_eu2 = df15_16.pivot_table(index='rating', values='eu_sales', aggfunc=('sum'))\n",
    "rating_eu2 = rating_eu2.reset_index()\n",
    "rating_eu2 = rating_eu2.sort_values(by='eu_sales', ascending=False).head(5)\n",
    "rating_eu2"
   ]
  },
  {
   "cell_type": "code",
   "execution_count": 71,
   "metadata": {},
   "outputs": [
    {
     "data": {
      "image/png": "[encoded data removed]",
      "text/plain": [
       "<Figure size 1080x432 with 3 Axes>"
      ]
     },
     "metadata": {
      "needs_background": "light"
     },
     "output_type": "display_data"
    }
   ],
   "source": [
    "fig, ax = plt.subplots(1,3, figsize=(15,6))\n",
    "platform_eu2.plot(x='platform', y='eu_sales', kind='bar', legend=False, ax=ax[0])\n",
    "genre_eu2.plot(x='genre', y='eu_sales', kind='bar', legend=False, ax=ax[1])\n",
    "rating_eu2.plot(x='rating', y='eu_sales', kind='bar', legend=False, ax=ax[2])\n",
    "plt.show()"
   ]
  },
  {
   "cell_type": "code",
   "execution_count": 72,
   "metadata": {},
   "outputs": [
    {
     "data": {
      "text/html": [
       "<div>\n",
       "<style scoped>\n",
       "    .dataframe tbody tr th:only-of-type {\n",
       "        vertical-align: middle;\n",
       "    }\n",
       "\n",
       "    .dataframe tbody tr th {\n",
       "        vertical-align: top;\n",
       "    }\n",
       "\n",
       "    .dataframe thead th {\n",
       "        text-align: right;\n",
       "    }\n",
       "</style>\n",
       "<table border=\"1\" class=\"dataframe\">\n",
       "  <thead>\n",
       "    <tr style=\"text-align: right;\">\n",
       "      <th></th>\n",
       "      <th>platform</th>\n",
       "      <th>jp_sales</th>\n",
       "    </tr>\n",
       "  </thead>\n",
       "  <tbody>\n",
       "    <tr>\n",
       "      <th>0</th>\n",
       "      <td>3DS</td>\n",
       "      <td>23.55</td>\n",
       "    </tr>\n",
       "    <tr>\n",
       "      <th>3</th>\n",
       "      <td>PS4</td>\n",
       "      <td>12.05</td>\n",
       "    </tr>\n",
       "    <tr>\n",
       "      <th>5</th>\n",
       "      <td>PSV</td>\n",
       "      <td>8.41</td>\n",
       "    </tr>\n",
       "    <tr>\n",
       "      <th>2</th>\n",
       "      <td>PS3</td>\n",
       "      <td>4.97</td>\n",
       "    </tr>\n",
       "    <tr>\n",
       "      <th>7</th>\n",
       "      <td>WiiU</td>\n",
       "      <td>4.12</td>\n",
       "    </tr>\n",
       "  </tbody>\n",
       "</table>\n",
       "</div>"
      ],
      "text/plain": [
       "  platform  jp_sales\n",
       "0      3DS     23.55\n",
       "3      PS4     12.05\n",
       "5      PSV      8.41\n",
       "2      PS3      4.97\n",
       "7     WiiU      4.12"
      ]
     },
     "execution_count": 72,
     "metadata": {},
     "output_type": "execute_result"
    }
   ],
   "source": [
    "platform_jp2 = df15_16.pivot_table(index='platform', values='jp_sales', aggfunc=('sum'))\n",
    "platform_jp2 = platform_jp2.reset_index()\n",
    "platform_jp2 = platform_jp2.sort_values(by='jp_sales', ascending=False).head(5)\n",
    "platform_jp2\n",
    "\n"
   ]
  },
  {
   "cell_type": "code",
   "execution_count": 73,
   "metadata": {},
   "outputs": [
    {
     "data": {
      "text/html": [
       "<div>\n",
       "<style scoped>\n",
       "    .dataframe tbody tr th:only-of-type {\n",
       "        vertical-align: middle;\n",
       "    }\n",
       "\n",
       "    .dataframe tbody tr th {\n",
       "        vertical-align: top;\n",
       "    }\n",
       "\n",
       "    .dataframe thead th {\n",
       "        text-align: right;\n",
       "    }\n",
       "</style>\n",
       "<table border=\"1\" class=\"dataframe\">\n",
       "  <thead>\n",
       "    <tr style=\"text-align: right;\">\n",
       "      <th></th>\n",
       "      <th>genre</th>\n",
       "      <th>jp_sales</th>\n",
       "    </tr>\n",
       "  </thead>\n",
       "  <tbody>\n",
       "    <tr>\n",
       "      <th>0</th>\n",
       "      <td>Action</td>\n",
       "      <td>23.05</td>\n",
       "    </tr>\n",
       "    <tr>\n",
       "      <th>7</th>\n",
       "      <td>Role-Playing</td>\n",
       "      <td>13.41</td>\n",
       "    </tr>\n",
       "    <tr>\n",
       "      <th>8</th>\n",
       "      <td>Shooter</td>\n",
       "      <td>3.79</td>\n",
       "    </tr>\n",
       "    <tr>\n",
       "      <th>3</th>\n",
       "      <td>Misc</td>\n",
       "      <td>3.19</td>\n",
       "    </tr>\n",
       "    <tr>\n",
       "      <th>1</th>\n",
       "      <td>Adventure</td>\n",
       "      <td>2.22</td>\n",
       "    </tr>\n",
       "  </tbody>\n",
       "</table>\n",
       "</div>"
      ],
      "text/plain": [
       "          genre  jp_sales\n",
       "0        Action     23.05\n",
       "7  Role-Playing     13.41\n",
       "8       Shooter      3.79\n",
       "3          Misc      3.19\n",
       "1     Adventure      2.22"
      ]
     },
     "execution_count": 73,
     "metadata": {},
     "output_type": "execute_result"
    }
   ],
   "source": [
    "genre_jp2 = df15_16.pivot_table(index='genre', values='jp_sales', aggfunc=('sum'))\n",
    "genre_jp2 = genre_jp2.reset_index()\n",
    "genre_jp2 = genre_jp2.sort_values(by='jp_sales', ascending=False).head(5)\n",
    "genre_jp2"
   ]
  },
  {
   "cell_type": "code",
   "execution_count": 74,
   "metadata": {},
   "outputs": [
    {
     "data": {
      "text/html": [
       "<div>\n",
       "<style scoped>\n",
       "    .dataframe tbody tr th:only-of-type {\n",
       "        vertical-align: middle;\n",
       "    }\n",
       "\n",
       "    .dataframe tbody tr th {\n",
       "        vertical-align: top;\n",
       "    }\n",
       "\n",
       "    .dataframe thead th {\n",
       "        text-align: right;\n",
       "    }\n",
       "</style>\n",
       "<table border=\"1\" class=\"dataframe\">\n",
       "  <thead>\n",
       "    <tr style=\"text-align: right;\">\n",
       "      <th></th>\n",
       "      <th>rating</th>\n",
       "      <th>jp_sales</th>\n",
       "    </tr>\n",
       "  </thead>\n",
       "  <tbody>\n",
       "    <tr>\n",
       "      <th>4</th>\n",
       "      <td>unknown</td>\n",
       "      <td>32.89</td>\n",
       "    </tr>\n",
       "    <tr>\n",
       "      <th>3</th>\n",
       "      <td>T</td>\n",
       "      <td>7.70</td>\n",
       "    </tr>\n",
       "    <tr>\n",
       "      <th>0</th>\n",
       "      <td>E</td>\n",
       "      <td>5.25</td>\n",
       "    </tr>\n",
       "    <tr>\n",
       "      <th>2</th>\n",
       "      <td>M</td>\n",
       "      <td>4.29</td>\n",
       "    </tr>\n",
       "    <tr>\n",
       "      <th>1</th>\n",
       "      <td>E10+</td>\n",
       "      <td>3.27</td>\n",
       "    </tr>\n",
       "  </tbody>\n",
       "</table>\n",
       "</div>"
      ],
      "text/plain": [
       "    rating  jp_sales\n",
       "4  unknown     32.89\n",
       "3        T      7.70\n",
       "0        E      5.25\n",
       "2        M      4.29\n",
       "1     E10+      3.27"
      ]
     },
     "execution_count": 74,
     "metadata": {},
     "output_type": "execute_result"
    }
   ],
   "source": [
    "rating_jp2 = df15_16.pivot_table(index='rating', values='jp_sales', aggfunc=('sum'))\n",
    "rating_jp2 = rating_jp2.reset_index()\n",
    "rating_jp2 = rating_jp2.sort_values(by='jp_sales', ascending=False).head(5)\n",
    "rating_jp2"
   ]
  },
  {
   "cell_type": "code",
   "execution_count": 75,
   "metadata": {
    "scrolled": false
   },
   "outputs": [
    {
     "data": {
      "image/png": "[encoded data removed]",
      "text/plain": [
       "<Figure size 1080x432 with 3 Axes>"
      ]
     },
     "metadata": {
      "needs_background": "light"
     },
     "output_type": "display_data"
    }
   ],
   "source": [
    "fig, ax = plt.subplots(1,3, figsize=(15,6))\n",
    "platform_jp2.plot(x='platform', y='jp_sales', kind='bar', legend=False, ax=ax[0])\n",
    "genre_jp2.plot(x='genre', y='jp_sales', kind='bar', legend=False, ax=ax[1])\n",
    "rating_jp2.plot(x='rating', y='jp_sales', kind='bar', legend=False, ax=ax[2])\n",
    "plt.show()"
   ]
  },
  {
   "cell_type": "markdown",
   "metadata": {},
   "source": [
    "**Вывод:**\n",
    "* Самые популярные платформы за актуальный период в NA: Это 'X360', 'PS3', 'PS4', 'XOne', '3DS' , популярные жанры это - 'Action', 'Shooter', 'Sports', 'Role-Playing', 'Misc' , популярные рейтинги - 'M', 'E', 'unknown', 'E10+', 'T'.\n",
    "* Самые популярные платформы за актуальный период в EU: это 'PS3', 'PS4', 'X360', '3DS', 'PC' , популярные жанры это - 'Action', 'Shooter', 'Sports', 'Role-Playing', 'Racing' , популярные рейтинги - 'M', 'E', 'unknown', 'T', 'E10+.\n",
    "* Самые популярные платформы за актуальный период в Японик: это - '3DS', 'PS3', 'PSP', 'PSV', 'PS4' , жанры - 'Role-Playing', 'Action', 'Misc', 'Fighting', 'Platform' , рейтинги 'unknown', 'E', 'T', 'M', 'E10+'\n",
    "\n",
    "Если рассматривать прогноз на 2017ый по последнему году, то самая актуальная платформа будет PS4, жанр Shooter, а рейтинг 17+\n"
   ]
  },
  {
   "cell_type": "code",
   "execution_count": null,
   "metadata": {},
   "outputs": [],
   "source": []
  },
  {
   "cell_type": "markdown",
   "metadata": {},
   "source": [
    "## Проверка гипотез."
   ]
  },
  {
   "cell_type": "markdown",
   "metadata": {},
   "source": [
    "**Средние пользовательские рейтинги платформ Xbox One и PC одинаковые.**"
   ]
  },
  {
   "cell_type": "markdown",
   "metadata": {},
   "source": [
    "Нулевая гипотеза : Средние пользовательские рейтинги платформ Xbox One и PC одинаковые.\n",
    "\n",
    "Альтернативниая гипотеза: Средние пользовательские рейтинги платформ Xbox One и PC различаются."
   ]
  },
  {
   "cell_type": "code",
   "execution_count": 76,
   "metadata": {},
   "outputs": [
    {
     "data": {
      "text/plain": [
       "array(['Wii', 'NES', 'GB', 'DS', 'X360', 'PS3', 'PS2', 'SNES', 'GBA',\n",
       "       'PS4', '3DS', 'N64', 'PS', 'XB', 'PC', '2600', 'PSP', 'XOne',\n",
       "       'WiiU', 'GC', 'GEN', 'DC', 'PSV', 'SAT', 'SCD', 'WS', 'NG', 'TG16',\n",
       "       '3DO', 'GG', 'PCFX'], dtype=object)"
      ]
     },
     "execution_count": 76,
     "metadata": {},
     "output_type": "execute_result"
    }
   ],
   "source": [
    "df['platform'].unique()"
   ]
  },
  {
   "cell_type": "code",
   "execution_count": 77,
   "metadata": {},
   "outputs": [],
   "source": [
    "x_one = df[(df['platform']=='XOne') & (df['year_of_release']>2010)]['user_score']\n",
    "pc = df[(df['platform']=='PC') & (df['year_of_release']>2010)]['user_score']"
   ]
  },
  {
   "cell_type": "code",
   "execution_count": 78,
   "metadata": {},
   "outputs": [
    {
     "data": {
      "text/plain": [
       "1.8965188383045526"
      ]
     },
     "execution_count": 78,
     "metadata": {},
     "output_type": "execute_result"
    }
   ],
   "source": [
    "np.var(df[df['platform']=='XOne']['user_score'])"
   ]
  },
  {
   "cell_type": "code",
   "execution_count": 79,
   "metadata": {},
   "outputs": [
    {
     "data": {
      "text/plain": [
       "2.346112819613175"
      ]
     },
     "execution_count": 79,
     "metadata": {},
     "output_type": "execute_result"
    }
   ],
   "source": [
    "np.var(df[df['platform']=='PC']['user_score'])"
   ]
  },
  {
   "cell_type": "code",
   "execution_count": 80,
   "metadata": {},
   "outputs": [
    {
     "name": "stdout",
     "output_type": "stream",
     "text": [
      "p-значение 0.6130712247638477\n",
      "Не получилось отвергнуть нулевую гипотезу\n"
     ]
    }
   ],
   "source": [
    "alpha = .01\n",
    "results = st.ttest_ind(x_one.dropna(),pc.dropna(), equal_var=False)\n",
    "print('p-значение', results.pvalue)\n",
    "if results.pvalue < alpha:\n",
    "    print('Отвергаем нулевую гипотезу')\n",
    "else:\n",
    "    print('Не получилось отвергнуть нулевую гипотезу')"
   ]
  },
  {
   "cell_type": "markdown",
   "metadata": {},
   "source": [
    "p-значение равна ~ 0.613, не получилось отвергнуть нулевую гипотезу"
   ]
  },
  {
   "cell_type": "markdown",
   "metadata": {},
   "source": [
    "**Средние пользовательские рейтинги жанров Action (англ. «действие», экшен-игры) и Sports (англ. «спортивные соревнования») разные.**"
   ]
  },
  {
   "cell_type": "markdown",
   "metadata": {},
   "source": [
    "Нулевая гипотеза: Средние пользовательские рейтинги жанров Action (англ. «действие», экшен-игры) и Sports (англ. «спортивные соревнования») одинаковые.\n",
    "\n",
    "Альтернативная гипотеза: Средние пользовательские рейтинги жанров Action (англ. «действие», экшен-игры) и Sports (англ. «спортивные соревнования») разные."
   ]
  },
  {
   "cell_type": "code",
   "execution_count": 82,
   "metadata": {},
   "outputs": [],
   "source": [
    "action = df[(df['genre']=='Action') & (df['year_of_release']>2006)]['user_score']\n",
    "sports = df[(df['genre']=='Sports') & (df['year_of_release']>2006)]['user_score']"
   ]
  },
  {
   "cell_type": "code",
   "execution_count": 83,
   "metadata": {},
   "outputs": [
    {
     "data": {
      "text/plain": [
       "2.026364874182172"
      ]
     },
     "execution_count": 83,
     "metadata": {},
     "output_type": "execute_result"
    }
   ],
   "source": [
    "np.var(df[df['genre']=='Action']['user_score'])"
   ]
  },
  {
   "cell_type": "code",
   "execution_count": 84,
   "metadata": {},
   "outputs": [
    {
     "data": {
      "text/plain": [
       "2.620629303904546"
      ]
     },
     "execution_count": 84,
     "metadata": {},
     "output_type": "execute_result"
    }
   ],
   "source": [
    "np.var(df[df['genre']=='Sports']['user_score'])"
   ]
  },
  {
   "cell_type": "code",
   "execution_count": 85,
   "metadata": {},
   "outputs": [
    {
     "name": "stdout",
     "output_type": "stream",
     "text": [
      "p-значение 4.540665510055229e-11\n",
      "Отвергаем нулевую гипотезу\n"
     ]
    }
   ],
   "source": [
    "alpha = .01\n",
    "results = st.ttest_ind(action.dropna(),sports.dropna(), equal_var=False)\n",
    "print('p-значение', results.pvalue)\n",
    "if results.pvalue < alpha:\n",
    "    print('Отвергаем нулевую гипотезу')\n",
    "else:\n",
    "    print('Не получилось отвергнуть нулевую гипотезу')"
   ]
  },
  {
   "cell_type": "markdown",
   "metadata": {},
   "source": [
    "**Вывод:**\n",
    "* Средние пользовательские рейтинги платформ Xbox One и PC одинаковые; Нулевую гипотезу не получилось отвергнуть\n",
    "* Средние пользовательские рейтинги жанров Action (англ. «действие», экшен-игры) и Sports (англ. «спортивные соревнования») разные. Отвергли нулевую гипотезу."
   ]
  },
  {
   "cell_type": "markdown",
   "metadata": {},
   "source": [
    "## Общий вывод."
   ]
  },
  {
   "cell_type": "markdown",
   "metadata": {},
   "source": [
    "* После импорта данных, подготовили данные к анализу\n",
    "* Привели к нижнему регистру название столбцов, изменили типы данных у некоторых столбцов\n",
    "* Удалили пропуски в столбцах year_of_release , заменили аббревиатуру \"tbd\" на значения NaN\n",
    "* Ознакомились с динамикой продаж игр за все годы и поняли, что игры на платформах в среднем продаются 10 лет.\n",
    "* Взяли актуальный период 5 лет\n",
    "* Выявили топ платформ по продажам, ими оказались PS3, X360, PS4, 3DS, XOne\n",
    "* Самым популярном жанром за актуальный периоод был Action\n",
    "* Самый популярный жанр за последние два года стал Shooter\n",
    "* Самая популярная платформа за последние два года PS4\n",
    "* Самый популярный рейтинг за последние два года это 17+\n"
   ]
  },
  {
   "cell_type": "markdown",
   "metadata": {},
   "source": [
    "**Составили портреты каждого региона за 2015-2016 год**\n",
    "* Регион NA: популярные платформы PS4, XOne, 3DS, WiiU , X360, популярные жанры Shooter, Action, Sports, Role-Playing, Misc , топ рейтинг 17+ , для всех , 13+\n",
    "* Регион EU: популярные платформы PS4, XOne, PS,  3DS, PS3, популярные жанры  Shooter, Action , Sports , Role-Playing, Racing, топ рейтинг 17+ , для всех , 13+\n",
    "* Регион JP: популярные платформы 3DS, PS4, PSV, PS3, WiiU, популярные жанры Action , Role-playing, Shooter, Misc, Adventure, топ рейтинг 17+ , для всех , 13+\n"
   ]
  },
  {
   "cell_type": "markdown",
   "metadata": {},
   "source": [
    "Исходя из данных наиболее продаваемый жанр в 2017 возможен Shooter, платформа PS4"
   ]
  }
 ],
 "metadata": {
  "ExecuteTimeLog": [
   {
    "duration": 535,
    "start_time": "2022-11-29T16:39:39.934Z"
   },
   {
    "duration": 958,
    "start_time": "2022-11-29T16:40:05.494Z"
   },
   {
    "duration": 8,
    "start_time": "2022-11-29T16:40:22.296Z"
   },
   {
    "duration": 3,
    "start_time": "2022-11-29T16:40:35.320Z"
   },
   {
    "duration": 108,
    "start_time": "2022-11-29T16:41:14.539Z"
   },
   {
    "duration": 27,
    "start_time": "2022-11-29T16:41:17.572Z"
   },
   {
    "duration": 17,
    "start_time": "2022-11-29T16:41:31.901Z"
   },
   {
    "duration": 3,
    "start_time": "2022-11-29T16:46:21.405Z"
   },
   {
    "duration": 3,
    "start_time": "2022-11-29T16:46:31.322Z"
   },
   {
    "duration": 68,
    "start_time": "2022-11-29T16:46:47.390Z"
   },
   {
    "duration": 48,
    "start_time": "2022-11-29T22:13:46.872Z"
   },
   {
    "duration": 1276,
    "start_time": "2022-11-29T22:13:53.561Z"
   },
   {
    "duration": 109,
    "start_time": "2022-11-29T22:13:54.839Z"
   },
   {
    "duration": 31,
    "start_time": "2022-11-29T22:13:54.951Z"
   },
   {
    "duration": 4,
    "start_time": "2022-11-29T22:15:04.427Z"
   },
   {
    "duration": 5,
    "start_time": "2022-11-29T22:16:41.735Z"
   },
   {
    "duration": 114,
    "start_time": "2022-11-29T22:19:05.340Z"
   },
   {
    "duration": 8,
    "start_time": "2022-11-29T22:20:11.923Z"
   },
   {
    "duration": 8,
    "start_time": "2022-11-29T22:20:26.638Z"
   },
   {
    "duration": 19,
    "start_time": "2022-11-29T22:20:55.288Z"
   },
   {
    "duration": 11,
    "start_time": "2022-11-29T22:21:36.840Z"
   },
   {
    "duration": 16,
    "start_time": "2022-11-29T22:24:07.109Z"
   },
   {
    "duration": 14,
    "start_time": "2022-11-29T22:24:26.232Z"
   },
   {
    "duration": 16,
    "start_time": "2022-11-29T22:25:48.296Z"
   },
   {
    "duration": 4,
    "start_time": "2022-11-29T22:27:45.271Z"
   },
   {
    "duration": 9,
    "start_time": "2022-11-29T22:28:38.114Z"
   },
   {
    "duration": 40,
    "start_time": "2022-11-29T22:29:51.406Z"
   },
   {
    "duration": 7,
    "start_time": "2022-11-29T22:30:01.596Z"
   },
   {
    "duration": 14,
    "start_time": "2022-11-29T22:31:45.248Z"
   },
   {
    "duration": 22,
    "start_time": "2022-11-29T22:33:44.133Z"
   },
   {
    "duration": 9,
    "start_time": "2022-11-29T22:33:51.827Z"
   },
   {
    "duration": 3,
    "start_time": "2022-11-29T22:34:01.159Z"
   },
   {
    "duration": 10,
    "start_time": "2022-11-29T22:34:15.499Z"
   },
   {
    "duration": 803,
    "start_time": "2022-11-29T22:34:38.441Z"
   },
   {
    "duration": 22,
    "start_time": "2022-11-29T22:34:53.599Z"
   },
   {
    "duration": 24,
    "start_time": "2022-11-29T22:35:11.993Z"
   },
   {
    "duration": 9,
    "start_time": "2022-11-29T22:47:03.003Z"
   },
   {
    "duration": 18,
    "start_time": "2022-11-29T22:47:07.996Z"
   },
   {
    "duration": 14,
    "start_time": "2022-11-29T22:47:11.222Z"
   },
   {
    "duration": 17,
    "start_time": "2022-11-29T22:47:54.743Z"
   },
   {
    "duration": 9,
    "start_time": "2022-11-29T22:48:13.045Z"
   },
   {
    "duration": 5,
    "start_time": "2022-11-29T22:50:14.972Z"
   },
   {
    "duration": 5,
    "start_time": "2022-11-29T22:50:25.060Z"
   },
   {
    "duration": 6,
    "start_time": "2022-11-29T22:50:29.292Z"
   },
   {
    "duration": 6,
    "start_time": "2022-11-29T22:57:07.537Z"
   },
   {
    "duration": 1307,
    "start_time": "2022-11-30T12:15:42.875Z"
   },
   {
    "duration": 207,
    "start_time": "2022-11-30T12:15:44.184Z"
   },
   {
    "duration": 5,
    "start_time": "2022-11-30T12:15:44.393Z"
   },
   {
    "duration": 17,
    "start_time": "2022-11-30T12:15:44.401Z"
   },
   {
    "duration": 3,
    "start_time": "2022-11-30T12:15:44.419Z"
   },
   {
    "duration": 20,
    "start_time": "2022-11-30T12:15:44.424Z"
   },
   {
    "duration": 9,
    "start_time": "2022-11-30T12:15:44.445Z"
   },
   {
    "duration": 8,
    "start_time": "2022-11-30T12:15:44.455Z"
   },
   {
    "duration": 9,
    "start_time": "2022-11-30T12:15:44.464Z"
   },
   {
    "duration": 8,
    "start_time": "2022-11-30T12:15:44.475Z"
   },
   {
    "duration": 25,
    "start_time": "2022-11-30T12:15:44.485Z"
   },
   {
    "duration": 27,
    "start_time": "2022-11-30T12:15:44.512Z"
   },
   {
    "duration": 15,
    "start_time": "2022-11-30T12:15:44.540Z"
   },
   {
    "duration": 23,
    "start_time": "2022-11-30T12:15:44.556Z"
   },
   {
    "duration": 319,
    "start_time": "2022-11-30T12:42:05.186Z"
   },
   {
    "duration": 4,
    "start_time": "2022-11-30T12:42:29.082Z"
   },
   {
    "duration": 15,
    "start_time": "2022-11-30T12:43:25.315Z"
   },
   {
    "duration": 44,
    "start_time": "2022-11-30T12:45:31.680Z"
   },
   {
    "duration": 17,
    "start_time": "2022-11-30T12:45:53.873Z"
   },
   {
    "duration": 14,
    "start_time": "2022-11-30T12:58:40.398Z"
   },
   {
    "duration": 5,
    "start_time": "2022-11-30T13:00:06.806Z"
   },
   {
    "duration": 9,
    "start_time": "2022-11-30T13:00:28.640Z"
   },
   {
    "duration": 5,
    "start_time": "2022-11-30T13:00:54.703Z"
   },
   {
    "duration": 8,
    "start_time": "2022-11-30T13:01:10.622Z"
   },
   {
    "duration": 103,
    "start_time": "2022-11-30T13:01:17.264Z"
   },
   {
    "duration": 10,
    "start_time": "2022-11-30T13:01:21.570Z"
   },
   {
    "duration": 10,
    "start_time": "2022-11-30T13:01:24.316Z"
   },
   {
    "duration": 10,
    "start_time": "2022-11-30T13:01:27.831Z"
   },
   {
    "duration": 7,
    "start_time": "2022-11-30T13:01:37.402Z"
   },
   {
    "duration": 21,
    "start_time": "2022-11-30T13:01:51.745Z"
   },
   {
    "duration": 5,
    "start_time": "2022-11-30T13:03:09.931Z"
   },
   {
    "duration": 6,
    "start_time": "2022-11-30T13:03:22.609Z"
   },
   {
    "duration": 5,
    "start_time": "2022-11-30T13:06:57.661Z"
   },
   {
    "duration": 18,
    "start_time": "2022-11-30T13:07:09.893Z"
   },
   {
    "duration": 13,
    "start_time": "2022-11-30T17:45:48.283Z"
   },
   {
    "duration": 10,
    "start_time": "2022-11-30T17:46:57.552Z"
   },
   {
    "duration": 11,
    "start_time": "2022-11-30T17:47:00.776Z"
   },
   {
    "duration": 26,
    "start_time": "2022-11-30T17:47:07.354Z"
   },
   {
    "duration": 28,
    "start_time": "2022-11-30T17:47:15.996Z"
   },
   {
    "duration": 29,
    "start_time": "2022-11-30T17:51:49.191Z"
   },
   {
    "duration": 87,
    "start_time": "2022-11-30T17:57:24.551Z"
   },
   {
    "duration": 1264,
    "start_time": "2022-11-30T18:02:22.730Z"
   },
   {
    "duration": 77,
    "start_time": "2022-11-30T18:02:23.996Z"
   },
   {
    "duration": 6,
    "start_time": "2022-11-30T18:02:24.074Z"
   },
   {
    "duration": 22,
    "start_time": "2022-11-30T18:02:24.082Z"
   },
   {
    "duration": 3,
    "start_time": "2022-11-30T18:02:24.106Z"
   },
   {
    "duration": 40,
    "start_time": "2022-11-30T18:02:24.110Z"
   },
   {
    "duration": 11,
    "start_time": "2022-11-30T18:02:24.152Z"
   },
   {
    "duration": 13,
    "start_time": "2022-11-30T18:02:24.165Z"
   },
   {
    "duration": 8,
    "start_time": "2022-11-30T18:02:24.180Z"
   },
   {
    "duration": 7,
    "start_time": "2022-11-30T18:02:24.190Z"
   },
   {
    "duration": 11,
    "start_time": "2022-11-30T18:02:24.199Z"
   },
   {
    "duration": 17,
    "start_time": "2022-11-30T18:02:24.236Z"
   },
   {
    "duration": 10,
    "start_time": "2022-11-30T18:02:24.255Z"
   },
   {
    "duration": 30,
    "start_time": "2022-11-30T18:02:24.267Z"
   },
   {
    "duration": 42,
    "start_time": "2022-11-30T18:02:24.298Z"
   },
   {
    "duration": 333,
    "start_time": "2022-11-30T18:02:24.342Z"
   },
   {
    "duration": 4,
    "start_time": "2022-11-30T18:02:24.677Z"
   },
   {
    "duration": 20,
    "start_time": "2022-11-30T18:02:24.683Z"
   },
   {
    "duration": 5,
    "start_time": "2022-11-30T18:02:24.705Z"
   },
   {
    "duration": 31,
    "start_time": "2022-11-30T18:02:24.711Z"
   },
   {
    "duration": 19,
    "start_time": "2022-11-30T18:02:24.743Z"
   },
   {
    "duration": 25,
    "start_time": "2022-11-30T18:02:24.763Z"
   },
   {
    "duration": 29,
    "start_time": "2022-11-30T18:02:24.790Z"
   },
   {
    "duration": 30,
    "start_time": "2022-11-30T18:02:24.821Z"
   },
   {
    "duration": 27,
    "start_time": "2022-11-30T18:02:24.853Z"
   },
   {
    "duration": 37,
    "start_time": "2022-11-30T18:02:24.882Z"
   },
   {
    "duration": 13,
    "start_time": "2022-11-30T18:03:03.012Z"
   },
   {
    "duration": 14,
    "start_time": "2022-11-30T18:03:41.177Z"
   },
   {
    "duration": 21,
    "start_time": "2022-11-30T18:03:48.941Z"
   },
   {
    "duration": 70,
    "start_time": "2022-11-30T18:05:09.577Z"
   },
   {
    "duration": 74,
    "start_time": "2022-11-30T18:05:15.362Z"
   },
   {
    "duration": 413,
    "start_time": "2022-11-30T18:05:52.924Z"
   },
   {
    "duration": 3,
    "start_time": "2022-11-30T18:08:10.081Z"
   },
   {
    "duration": 309,
    "start_time": "2022-11-30T18:09:14.215Z"
   },
   {
    "duration": 310,
    "start_time": "2022-11-30T18:09:26.911Z"
   },
   {
    "duration": 315,
    "start_time": "2022-11-30T18:09:32.370Z"
   },
   {
    "duration": 498,
    "start_time": "2022-11-30T18:09:46.170Z"
   },
   {
    "duration": 336,
    "start_time": "2022-11-30T18:09:50.631Z"
   },
   {
    "duration": 422,
    "start_time": "2022-11-30T18:09:57.538Z"
   },
   {
    "duration": 344,
    "start_time": "2022-11-30T18:10:02.184Z"
   },
   {
    "duration": 348,
    "start_time": "2022-11-30T18:10:37.075Z"
   },
   {
    "duration": 333,
    "start_time": "2022-11-30T18:11:06.788Z"
   },
   {
    "duration": 410,
    "start_time": "2022-11-30T18:11:39.439Z"
   },
   {
    "duration": 19,
    "start_time": "2022-11-30T20:38:02.660Z"
   },
   {
    "duration": 1176,
    "start_time": "2022-11-30T20:38:22.381Z"
   },
   {
    "duration": 68,
    "start_time": "2022-11-30T20:38:23.560Z"
   },
   {
    "duration": 7,
    "start_time": "2022-11-30T20:38:23.631Z"
   },
   {
    "duration": 40,
    "start_time": "2022-11-30T20:38:23.643Z"
   },
   {
    "duration": 4,
    "start_time": "2022-11-30T20:38:23.685Z"
   },
   {
    "duration": 27,
    "start_time": "2022-11-30T20:38:23.691Z"
   },
   {
    "duration": 11,
    "start_time": "2022-11-30T20:38:23.721Z"
   },
   {
    "duration": 23,
    "start_time": "2022-11-30T20:38:23.741Z"
   },
   {
    "duration": 11,
    "start_time": "2022-11-30T20:38:23.766Z"
   },
   {
    "duration": 8,
    "start_time": "2022-11-30T20:38:23.780Z"
   },
   {
    "duration": 12,
    "start_time": "2022-11-30T20:38:23.790Z"
   },
   {
    "duration": 16,
    "start_time": "2022-11-30T20:38:23.804Z"
   },
   {
    "duration": 15,
    "start_time": "2022-11-30T20:38:23.848Z"
   },
   {
    "duration": 33,
    "start_time": "2022-11-30T20:38:23.865Z"
   },
   {
    "duration": 18,
    "start_time": "2022-11-30T20:38:23.899Z"
   },
   {
    "duration": 418,
    "start_time": "2022-11-30T20:38:23.919Z"
   },
   {
    "duration": 4,
    "start_time": "2022-11-30T20:38:24.339Z"
   },
   {
    "duration": 19,
    "start_time": "2022-11-30T20:38:24.344Z"
   },
   {
    "duration": 8,
    "start_time": "2022-11-30T20:38:24.365Z"
   },
   {
    "duration": 10,
    "start_time": "2022-11-30T20:38:24.374Z"
   },
   {
    "duration": 9,
    "start_time": "2022-11-30T20:38:24.385Z"
   },
   {
    "duration": 7,
    "start_time": "2022-11-30T20:38:24.395Z"
   },
   {
    "duration": 6,
    "start_time": "2022-11-30T20:38:24.404Z"
   },
   {
    "duration": 39,
    "start_time": "2022-11-30T20:38:24.437Z"
   },
   {
    "duration": 14,
    "start_time": "2022-11-30T20:38:24.478Z"
   },
   {
    "duration": 396,
    "start_time": "2022-11-30T20:38:24.494Z"
   },
   {
    "duration": 116,
    "start_time": "2022-11-30T20:38:24.892Z"
   },
   {
    "duration": 14,
    "start_time": "2022-11-30T20:39:26.439Z"
   },
   {
    "duration": 1252,
    "start_time": "2022-11-30T20:39:53.881Z"
   },
   {
    "duration": 18,
    "start_time": "2022-11-30T20:40:10.597Z"
   },
   {
    "duration": 330,
    "start_time": "2022-11-30T20:40:31.577Z"
   },
   {
    "duration": 20,
    "start_time": "2022-11-30T20:41:23.276Z"
   },
   {
    "duration": 356,
    "start_time": "2022-11-30T20:41:47.693Z"
   },
   {
    "duration": 295,
    "start_time": "2022-11-30T20:43:29.721Z"
   },
   {
    "duration": 12,
    "start_time": "2022-11-30T21:11:03.261Z"
   },
   {
    "duration": 14,
    "start_time": "2022-11-30T21:11:12.742Z"
   },
   {
    "duration": 14,
    "start_time": "2022-11-30T21:11:48.118Z"
   },
   {
    "duration": 11,
    "start_time": "2022-11-30T21:14:08.220Z"
   },
   {
    "duration": 16,
    "start_time": "2022-11-30T21:14:15.497Z"
   },
   {
    "duration": 10,
    "start_time": "2022-12-01T11:07:28.376Z"
   },
   {
    "duration": 62,
    "start_time": "2022-12-01T11:10:01.297Z"
   },
   {
    "duration": 1349,
    "start_time": "2022-12-01T11:10:14.669Z"
   },
   {
    "duration": 205,
    "start_time": "2022-12-01T11:10:16.021Z"
   },
   {
    "duration": 5,
    "start_time": "2022-12-01T11:10:16.230Z"
   },
   {
    "duration": 40,
    "start_time": "2022-12-01T11:10:16.237Z"
   },
   {
    "duration": 39,
    "start_time": "2022-12-01T11:10:16.279Z"
   },
   {
    "duration": 51,
    "start_time": "2022-12-01T11:10:16.320Z"
   },
   {
    "duration": 10,
    "start_time": "2022-12-01T11:10:16.373Z"
   },
   {
    "duration": 22,
    "start_time": "2022-12-01T11:10:16.385Z"
   },
   {
    "duration": 30,
    "start_time": "2022-12-01T11:10:16.409Z"
   },
   {
    "duration": 24,
    "start_time": "2022-12-01T11:10:16.443Z"
   },
   {
    "duration": 24,
    "start_time": "2022-12-01T11:10:16.470Z"
   },
   {
    "duration": 38,
    "start_time": "2022-12-01T11:10:16.495Z"
   },
   {
    "duration": 10,
    "start_time": "2022-12-01T11:10:16.535Z"
   },
   {
    "duration": 24,
    "start_time": "2022-12-01T11:10:16.547Z"
   },
   {
    "duration": 17,
    "start_time": "2022-12-01T11:10:16.573Z"
   },
   {
    "duration": 349,
    "start_time": "2022-12-01T11:10:16.592Z"
   },
   {
    "duration": 5,
    "start_time": "2022-12-01T11:10:16.943Z"
   },
   {
    "duration": 18,
    "start_time": "2022-12-01T11:10:16.950Z"
   },
   {
    "duration": 5,
    "start_time": "2022-12-01T11:10:16.970Z"
   },
   {
    "duration": 29,
    "start_time": "2022-12-01T11:10:16.977Z"
   },
   {
    "duration": 6,
    "start_time": "2022-12-01T11:10:17.007Z"
   },
   {
    "duration": 19,
    "start_time": "2022-12-01T11:10:17.015Z"
   },
   {
    "duration": 8,
    "start_time": "2022-12-01T11:10:17.037Z"
   },
   {
    "duration": 26,
    "start_time": "2022-12-01T11:10:17.047Z"
   },
   {
    "duration": 17,
    "start_time": "2022-12-01T11:10:17.075Z"
   },
   {
    "duration": 421,
    "start_time": "2022-12-01T11:10:17.094Z"
   },
   {
    "duration": 319,
    "start_time": "2022-12-01T11:10:17.519Z"
   },
   {
    "duration": 19,
    "start_time": "2022-12-01T11:10:17.841Z"
   },
   {
    "duration": 4,
    "start_time": "2022-12-01T11:10:17.861Z"
   },
   {
    "duration": 902,
    "start_time": "2022-12-01T11:10:17.867Z"
   },
   {
    "duration": 921,
    "start_time": "2022-12-01T11:11:54.501Z"
   },
   {
    "duration": 234,
    "start_time": "2022-12-01T11:12:40.921Z"
   },
   {
    "duration": 811,
    "start_time": "2022-12-01T11:13:38.300Z"
   },
   {
    "duration": 819,
    "start_time": "2022-12-01T11:16:33.085Z"
   },
   {
    "duration": 971,
    "start_time": "2022-12-01T11:16:47.020Z"
   },
   {
    "duration": 843,
    "start_time": "2022-12-01T11:17:05.150Z"
   },
   {
    "duration": 3,
    "start_time": "2022-12-01T11:22:08.372Z"
   },
   {
    "duration": 20,
    "start_time": "2022-12-01T11:24:20.568Z"
   },
   {
    "duration": 773,
    "start_time": "2022-12-01T11:24:32.909Z"
   },
   {
    "duration": 14,
    "start_time": "2022-12-01T11:25:14.699Z"
   },
   {
    "duration": 13,
    "start_time": "2022-12-01T11:25:39.044Z"
   },
   {
    "duration": 4,
    "start_time": "2022-12-01T11:26:56.642Z"
   },
   {
    "duration": 16,
    "start_time": "2022-12-01T11:26:57.266Z"
   },
   {
    "duration": 14,
    "start_time": "2022-12-01T11:28:13.091Z"
   },
   {
    "duration": 3,
    "start_time": "2022-12-01T11:28:16.846Z"
   },
   {
    "duration": 14,
    "start_time": "2022-12-01T11:28:17.236Z"
   },
   {
    "duration": 3,
    "start_time": "2022-12-01T11:28:42.867Z"
   },
   {
    "duration": 2293,
    "start_time": "2022-12-01T11:28:43.302Z"
   },
   {
    "duration": 2030,
    "start_time": "2022-12-01T11:29:41.874Z"
   },
   {
    "duration": 2026,
    "start_time": "2022-12-01T11:29:53.373Z"
   },
   {
    "duration": 312,
    "start_time": "2022-12-01T11:34:35.908Z"
   },
   {
    "duration": 4,
    "start_time": "2022-12-01T11:37:49.419Z"
   },
   {
    "duration": 13,
    "start_time": "2022-12-01T11:37:55.772Z"
   },
   {
    "duration": 3,
    "start_time": "2022-12-01T11:38:08.843Z"
   },
   {
    "duration": 14,
    "start_time": "2022-12-01T11:38:09.241Z"
   },
   {
    "duration": 3,
    "start_time": "2022-12-01T11:38:14.517Z"
   },
   {
    "duration": 1594,
    "start_time": "2022-12-01T11:38:15.541Z"
   },
   {
    "duration": 449,
    "start_time": "2022-12-01T11:38:57.422Z"
   },
   {
    "duration": 1424,
    "start_time": "2022-12-01T11:39:25.249Z"
   },
   {
    "duration": 223,
    "start_time": "2022-12-01T11:40:54.982Z"
   },
   {
    "duration": 1994,
    "start_time": "2022-12-01T11:41:47.538Z"
   },
   {
    "duration": 1863,
    "start_time": "2022-12-01T11:42:23.621Z"
   },
   {
    "duration": 18,
    "start_time": "2022-12-01T11:42:48.938Z"
   },
   {
    "duration": 3,
    "start_time": "2022-12-01T11:42:53.230Z"
   },
   {
    "duration": 687,
    "start_time": "2022-12-01T11:42:53.780Z"
   },
   {
    "duration": 3,
    "start_time": "2022-12-01T11:42:58.470Z"
   },
   {
    "duration": 716,
    "start_time": "2022-12-01T11:42:59.615Z"
   },
   {
    "duration": 14,
    "start_time": "2022-12-01T11:43:32.355Z"
   },
   {
    "duration": 3,
    "start_time": "2022-12-01T11:43:33.171Z"
   },
   {
    "duration": 882,
    "start_time": "2022-12-01T11:43:34.484Z"
   },
   {
    "duration": 3,
    "start_time": "2022-12-01T11:43:37.786Z"
   },
   {
    "duration": 1843,
    "start_time": "2022-12-01T11:43:38.510Z"
   },
   {
    "duration": 3,
    "start_time": "2022-12-01T11:44:12.027Z"
   },
   {
    "duration": 655,
    "start_time": "2022-12-01T11:44:12.678Z"
   },
   {
    "duration": 8,
    "start_time": "2022-12-01T11:46:15.680Z"
   },
   {
    "duration": 3,
    "start_time": "2022-12-01T11:46:22.781Z"
   },
   {
    "duration": 12,
    "start_time": "2022-12-01T11:48:50.699Z"
   },
   {
    "duration": 257,
    "start_time": "2022-12-01T11:48:54.489Z"
   },
   {
    "duration": 249,
    "start_time": "2022-12-01T11:49:43.014Z"
   },
   {
    "duration": 365,
    "start_time": "2022-12-01T11:49:48.152Z"
   },
   {
    "duration": 303,
    "start_time": "2022-12-01T11:49:56.410Z"
   },
   {
    "duration": 420,
    "start_time": "2022-12-01T11:50:09.241Z"
   },
   {
    "duration": 299,
    "start_time": "2022-12-01T11:50:20.487Z"
   },
   {
    "duration": 287,
    "start_time": "2022-12-01T11:51:22.783Z"
   },
   {
    "duration": 305,
    "start_time": "2022-12-01T11:51:42.473Z"
   },
   {
    "duration": 3,
    "start_time": "2022-12-01T11:55:17.912Z"
   },
   {
    "duration": 1141,
    "start_time": "2022-12-01T11:55:56.334Z"
   },
   {
    "duration": 73,
    "start_time": "2022-12-01T11:55:57.477Z"
   },
   {
    "duration": 7,
    "start_time": "2022-12-01T11:55:57.552Z"
   },
   {
    "duration": 35,
    "start_time": "2022-12-01T11:55:57.561Z"
   },
   {
    "duration": 9,
    "start_time": "2022-12-01T11:55:57.598Z"
   },
   {
    "duration": 26,
    "start_time": "2022-12-01T11:55:57.609Z"
   },
   {
    "duration": 11,
    "start_time": "2022-12-01T11:55:57.637Z"
   },
   {
    "duration": 8,
    "start_time": "2022-12-01T11:55:57.650Z"
   },
   {
    "duration": 8,
    "start_time": "2022-12-01T11:55:57.659Z"
   },
   {
    "duration": 9,
    "start_time": "2022-12-01T11:55:57.669Z"
   },
   {
    "duration": 30,
    "start_time": "2022-12-01T11:55:57.679Z"
   },
   {
    "duration": 13,
    "start_time": "2022-12-01T11:55:57.711Z"
   },
   {
    "duration": 15,
    "start_time": "2022-12-01T11:55:57.727Z"
   },
   {
    "duration": 32,
    "start_time": "2022-12-01T11:55:57.745Z"
   },
   {
    "duration": 38,
    "start_time": "2022-12-01T11:55:57.778Z"
   },
   {
    "duration": 352,
    "start_time": "2022-12-01T11:55:57.818Z"
   },
   {
    "duration": 5,
    "start_time": "2022-12-01T11:55:58.171Z"
   },
   {
    "duration": 27,
    "start_time": "2022-12-01T11:55:58.177Z"
   },
   {
    "duration": 13,
    "start_time": "2022-12-01T11:55:58.206Z"
   },
   {
    "duration": 6,
    "start_time": "2022-12-01T11:55:58.221Z"
   },
   {
    "duration": 6,
    "start_time": "2022-12-01T11:55:58.229Z"
   },
   {
    "duration": 28,
    "start_time": "2022-12-01T11:55:58.237Z"
   },
   {
    "duration": 12,
    "start_time": "2022-12-01T11:55:58.267Z"
   },
   {
    "duration": 27,
    "start_time": "2022-12-01T11:55:58.281Z"
   },
   {
    "duration": 17,
    "start_time": "2022-12-01T11:55:58.310Z"
   },
   {
    "duration": 369,
    "start_time": "2022-12-01T11:55:58.329Z"
   },
   {
    "duration": 316,
    "start_time": "2022-12-01T11:55:58.705Z"
   },
   {
    "duration": 16,
    "start_time": "2022-12-01T11:55:59.023Z"
   },
   {
    "duration": 3,
    "start_time": "2022-12-01T11:55:59.041Z"
   },
   {
    "duration": 16,
    "start_time": "2022-12-01T11:55:59.046Z"
   },
   {
    "duration": 11,
    "start_time": "2022-12-01T11:55:59.064Z"
   },
   {
    "duration": 300,
    "start_time": "2022-12-01T11:55:59.077Z"
   },
   {
    "duration": 663,
    "start_time": "2022-12-01T11:56:28.676Z"
   },
   {
    "duration": 5,
    "start_time": "2022-12-01T12:09:01.256Z"
   },
   {
    "duration": 11,
    "start_time": "2022-12-01T12:09:11.056Z"
   },
   {
    "duration": 30,
    "start_time": "2022-12-01T12:10:11.402Z"
   },
   {
    "duration": 30,
    "start_time": "2022-12-01T12:10:33.417Z"
   },
   {
    "duration": 24,
    "start_time": "2022-12-01T12:10:43.877Z"
   },
   {
    "duration": 1257,
    "start_time": "2022-12-01T12:10:57.278Z"
   },
   {
    "duration": 65,
    "start_time": "2022-12-01T12:10:58.538Z"
   },
   {
    "duration": 6,
    "start_time": "2022-12-01T12:10:58.605Z"
   },
   {
    "duration": 24,
    "start_time": "2022-12-01T12:10:58.613Z"
   },
   {
    "duration": 4,
    "start_time": "2022-12-01T12:10:58.638Z"
   },
   {
    "duration": 23,
    "start_time": "2022-12-01T12:10:58.644Z"
   },
   {
    "duration": 35,
    "start_time": "2022-12-01T12:10:58.669Z"
   },
   {
    "duration": 7,
    "start_time": "2022-12-01T12:10:58.706Z"
   },
   {
    "duration": 8,
    "start_time": "2022-12-01T12:10:58.715Z"
   },
   {
    "duration": 7,
    "start_time": "2022-12-01T12:10:58.726Z"
   },
   {
    "duration": 9,
    "start_time": "2022-12-01T12:10:58.734Z"
   },
   {
    "duration": 15,
    "start_time": "2022-12-01T12:10:58.745Z"
   },
   {
    "duration": 11,
    "start_time": "2022-12-01T12:10:58.762Z"
   },
   {
    "duration": 52,
    "start_time": "2022-12-01T12:10:58.775Z"
   },
   {
    "duration": 20,
    "start_time": "2022-12-01T12:10:58.829Z"
   },
   {
    "duration": 358,
    "start_time": "2022-12-01T12:10:58.851Z"
   },
   {
    "duration": 4,
    "start_time": "2022-12-01T12:10:59.211Z"
   },
   {
    "duration": 23,
    "start_time": "2022-12-01T12:10:59.217Z"
   },
   {
    "duration": 5,
    "start_time": "2022-12-01T12:10:59.242Z"
   },
   {
    "duration": 14,
    "start_time": "2022-12-01T12:10:59.249Z"
   },
   {
    "duration": 7,
    "start_time": "2022-12-01T12:10:59.265Z"
   },
   {
    "duration": 16,
    "start_time": "2022-12-01T12:10:59.273Z"
   },
   {
    "duration": 19,
    "start_time": "2022-12-01T12:10:59.291Z"
   },
   {
    "duration": 26,
    "start_time": "2022-12-01T12:10:59.311Z"
   },
   {
    "duration": 345,
    "start_time": "2022-12-01T12:10:59.339Z"
   },
   {
    "duration": 300,
    "start_time": "2022-12-01T12:10:59.685Z"
   },
   {
    "duration": 21,
    "start_time": "2022-12-01T12:10:59.986Z"
   },
   {
    "duration": 4,
    "start_time": "2022-12-01T12:11:00.012Z"
   },
   {
    "duration": 832,
    "start_time": "2022-12-01T12:11:00.017Z"
   },
   {
    "duration": 4,
    "start_time": "2022-12-01T12:11:00.850Z"
   },
   {
    "duration": 32,
    "start_time": "2022-12-01T12:11:00.856Z"
   },
   {
    "duration": 344,
    "start_time": "2022-12-01T12:11:00.889Z"
   },
   {
    "duration": 22,
    "start_time": "2022-12-01T12:11:01.235Z"
   },
   {
    "duration": 38,
    "start_time": "2022-12-01T12:12:34.717Z"
   },
   {
    "duration": 11,
    "start_time": "2022-12-01T12:13:48.051Z"
   },
   {
    "duration": 9,
    "start_time": "2022-12-01T12:14:23.705Z"
   },
   {
    "duration": 102,
    "start_time": "2022-12-01T12:14:35.858Z"
   },
   {
    "duration": 8,
    "start_time": "2022-12-01T12:14:39.196Z"
   },
   {
    "duration": 10,
    "start_time": "2022-12-01T12:14:41.446Z"
   },
   {
    "duration": 11,
    "start_time": "2022-12-01T12:15:07.799Z"
   },
   {
    "duration": 210,
    "start_time": "2022-12-01T12:15:29.735Z"
   },
   {
    "duration": 139,
    "start_time": "2022-12-01T12:16:12.393Z"
   },
   {
    "duration": 12,
    "start_time": "2022-12-01T12:16:33.292Z"
   },
   {
    "duration": 18,
    "start_time": "2022-12-01T12:21:46.716Z"
   },
   {
    "duration": 194,
    "start_time": "2022-12-01T12:22:42.133Z"
   },
   {
    "duration": 7,
    "start_time": "2022-12-01T12:23:00.020Z"
   },
   {
    "duration": 1206,
    "start_time": "2022-12-01T12:23:32.841Z"
   },
   {
    "duration": 9,
    "start_time": "2022-12-01T12:23:38.780Z"
   },
   {
    "duration": 11,
    "start_time": "2022-12-01T12:24:56.154Z"
   },
   {
    "duration": 10,
    "start_time": "2022-12-01T12:25:03.893Z"
   },
   {
    "duration": 7,
    "start_time": "2022-12-01T12:25:28.858Z"
   },
   {
    "duration": 9,
    "start_time": "2022-12-01T12:25:29.274Z"
   },
   {
    "duration": 6,
    "start_time": "2022-12-01T12:25:33.195Z"
   },
   {
    "duration": 8,
    "start_time": "2022-12-01T12:25:33.957Z"
   },
   {
    "duration": 10,
    "start_time": "2022-12-01T12:25:42.138Z"
   },
   {
    "duration": 9,
    "start_time": "2022-12-01T12:25:42.529Z"
   },
   {
    "duration": 8,
    "start_time": "2022-12-01T12:26:13.836Z"
   },
   {
    "duration": 10,
    "start_time": "2022-12-01T12:26:14.182Z"
   },
   {
    "duration": 9,
    "start_time": "2022-12-01T12:26:18.027Z"
   },
   {
    "duration": 11,
    "start_time": "2022-12-01T12:26:18.443Z"
   },
   {
    "duration": 7,
    "start_time": "2022-12-01T12:26:24.239Z"
   },
   {
    "duration": 9,
    "start_time": "2022-12-01T12:26:24.526Z"
   },
   {
    "duration": 7,
    "start_time": "2022-12-01T12:26:45.879Z"
   },
   {
    "duration": 10,
    "start_time": "2022-12-01T12:26:46.202Z"
   },
   {
    "duration": 6,
    "start_time": "2022-12-01T12:26:52.401Z"
   },
   {
    "duration": 11,
    "start_time": "2022-12-01T12:26:52.882Z"
   },
   {
    "duration": 1186,
    "start_time": "2022-12-01T12:27:10.821Z"
   },
   {
    "duration": 64,
    "start_time": "2022-12-01T12:27:12.008Z"
   },
   {
    "duration": 5,
    "start_time": "2022-12-01T12:27:12.074Z"
   },
   {
    "duration": 28,
    "start_time": "2022-12-01T12:27:12.082Z"
   },
   {
    "duration": 4,
    "start_time": "2022-12-01T12:27:12.112Z"
   },
   {
    "duration": 37,
    "start_time": "2022-12-01T12:27:12.118Z"
   },
   {
    "duration": 13,
    "start_time": "2022-12-01T12:27:12.157Z"
   },
   {
    "duration": 8,
    "start_time": "2022-12-01T12:27:12.171Z"
   },
   {
    "duration": 27,
    "start_time": "2022-12-01T12:27:12.181Z"
   },
   {
    "duration": 17,
    "start_time": "2022-12-01T12:27:12.210Z"
   },
   {
    "duration": 20,
    "start_time": "2022-12-01T12:27:12.229Z"
   },
   {
    "duration": 18,
    "start_time": "2022-12-01T12:27:12.251Z"
   },
   {
    "duration": 10,
    "start_time": "2022-12-01T12:27:12.271Z"
   },
   {
    "duration": 38,
    "start_time": "2022-12-01T12:27:12.283Z"
   },
   {
    "duration": 22,
    "start_time": "2022-12-01T12:27:12.322Z"
   },
   {
    "duration": 358,
    "start_time": "2022-12-01T12:27:12.347Z"
   },
   {
    "duration": 4,
    "start_time": "2022-12-01T12:27:12.707Z"
   },
   {
    "duration": 17,
    "start_time": "2022-12-01T12:27:12.712Z"
   },
   {
    "duration": 5,
    "start_time": "2022-12-01T12:27:12.731Z"
   },
   {
    "duration": 10,
    "start_time": "2022-12-01T12:27:12.738Z"
   },
   {
    "duration": 7,
    "start_time": "2022-12-01T12:27:12.749Z"
   },
   {
    "duration": 7,
    "start_time": "2022-12-01T12:27:12.757Z"
   },
   {
    "duration": 7,
    "start_time": "2022-12-01T12:27:12.766Z"
   },
   {
    "duration": 18,
    "start_time": "2022-12-01T12:27:12.805Z"
   },
   {
    "duration": 386,
    "start_time": "2022-12-01T12:27:12.825Z"
   },
   {
    "duration": 308,
    "start_time": "2022-12-01T12:27:13.213Z"
   },
   {
    "duration": 16,
    "start_time": "2022-12-01T12:27:13.523Z"
   },
   {
    "duration": 4,
    "start_time": "2022-12-01T12:27:13.542Z"
   },
   {
    "duration": 848,
    "start_time": "2022-12-01T12:27:13.548Z"
   },
   {
    "duration": 7,
    "start_time": "2022-12-01T12:27:14.398Z"
   },
   {
    "duration": 29,
    "start_time": "2022-12-01T12:27:14.407Z"
   },
   {
    "duration": 375,
    "start_time": "2022-12-01T12:27:14.438Z"
   },
   {
    "duration": 7,
    "start_time": "2022-12-01T12:27:14.815Z"
   },
   {
    "duration": 285,
    "start_time": "2022-12-01T12:27:14.823Z"
   },
   {
    "duration": 11,
    "start_time": "2022-12-01T12:27:15.109Z"
   },
   {
    "duration": 14,
    "start_time": "2022-12-01T12:27:15.121Z"
   },
   {
    "duration": 20,
    "start_time": "2022-12-01T12:27:15.137Z"
   },
   {
    "duration": 162,
    "start_time": "2022-12-01T12:27:34.753Z"
   },
   {
    "duration": 7,
    "start_time": "2022-12-01T12:27:59.975Z"
   },
   {
    "duration": 156,
    "start_time": "2022-12-01T12:28:00.295Z"
   },
   {
    "duration": 170,
    "start_time": "2022-12-01T12:28:58.569Z"
   },
   {
    "duration": 148,
    "start_time": "2022-12-01T12:29:30.800Z"
   },
   {
    "duration": 206,
    "start_time": "2022-12-01T12:29:57.401Z"
   },
   {
    "duration": 8,
    "start_time": "2022-12-01T12:30:13.134Z"
   },
   {
    "duration": 171,
    "start_time": "2022-12-01T12:31:53.099Z"
   },
   {
    "duration": 1160,
    "start_time": "2022-12-01T12:36:58.945Z"
   },
   {
    "duration": 69,
    "start_time": "2022-12-01T12:37:00.107Z"
   },
   {
    "duration": 6,
    "start_time": "2022-12-01T12:37:00.178Z"
   },
   {
    "duration": 29,
    "start_time": "2022-12-01T12:37:00.186Z"
   },
   {
    "duration": 7,
    "start_time": "2022-12-01T12:37:00.217Z"
   },
   {
    "duration": 48,
    "start_time": "2022-12-01T12:37:00.226Z"
   },
   {
    "duration": 9,
    "start_time": "2022-12-01T12:37:00.276Z"
   },
   {
    "duration": 14,
    "start_time": "2022-12-01T12:37:00.287Z"
   },
   {
    "duration": 46,
    "start_time": "2022-12-01T12:37:00.303Z"
   },
   {
    "duration": 21,
    "start_time": "2022-12-01T12:37:00.353Z"
   },
   {
    "duration": 23,
    "start_time": "2022-12-01T12:37:00.376Z"
   },
   {
    "duration": 48,
    "start_time": "2022-12-01T12:37:00.401Z"
   },
   {
    "duration": 31,
    "start_time": "2022-12-01T12:37:00.451Z"
   },
   {
    "duration": 51,
    "start_time": "2022-12-01T12:37:00.483Z"
   },
   {
    "duration": 18,
    "start_time": "2022-12-01T12:37:00.536Z"
   },
   {
    "duration": 342,
    "start_time": "2022-12-01T12:37:00.555Z"
   },
   {
    "duration": 8,
    "start_time": "2022-12-01T12:37:00.899Z"
   },
   {
    "duration": 33,
    "start_time": "2022-12-01T12:37:00.909Z"
   },
   {
    "duration": 13,
    "start_time": "2022-12-01T12:37:00.944Z"
   },
   {
    "duration": 19,
    "start_time": "2022-12-01T12:37:00.959Z"
   },
   {
    "duration": 20,
    "start_time": "2022-12-01T12:37:00.979Z"
   },
   {
    "duration": 16,
    "start_time": "2022-12-01T12:37:01.001Z"
   },
   {
    "duration": 27,
    "start_time": "2022-12-01T12:37:01.019Z"
   },
   {
    "duration": 59,
    "start_time": "2022-12-01T12:37:01.048Z"
   },
   {
    "duration": 388,
    "start_time": "2022-12-01T12:37:01.109Z"
   },
   {
    "duration": 301,
    "start_time": "2022-12-01T12:37:01.499Z"
   },
   {
    "duration": 16,
    "start_time": "2022-12-01T12:37:01.805Z"
   },
   {
    "duration": 14,
    "start_time": "2022-12-01T12:37:01.824Z"
   },
   {
    "duration": 837,
    "start_time": "2022-12-01T12:37:01.840Z"
   },
   {
    "duration": 3,
    "start_time": "2022-12-01T12:37:02.679Z"
   },
   {
    "duration": 21,
    "start_time": "2022-12-01T12:37:02.683Z"
   },
   {
    "duration": 323,
    "start_time": "2022-12-01T12:37:02.706Z"
   },
   {
    "duration": 6,
    "start_time": "2022-12-01T12:37:03.031Z"
   },
   {
    "duration": 260,
    "start_time": "2022-12-01T12:37:03.038Z"
   },
   {
    "duration": 13,
    "start_time": "2022-12-01T12:37:03.299Z"
   },
   {
    "duration": 12,
    "start_time": "2022-12-01T12:37:03.314Z"
   },
   {
    "duration": 191,
    "start_time": "2022-12-01T12:37:03.327Z"
   },
   {
    "duration": 186,
    "start_time": "2022-12-01T12:37:03.521Z"
   },
   {
    "duration": 8,
    "start_time": "2022-12-01T12:37:03.709Z"
   },
   {
    "duration": 291,
    "start_time": "2022-12-01T12:42:38.965Z"
   },
   {
    "duration": 128,
    "start_time": "2022-12-01T12:43:07.326Z"
   },
   {
    "duration": 187,
    "start_time": "2022-12-01T12:43:18.705Z"
   },
   {
    "duration": 155,
    "start_time": "2022-12-01T12:43:43.196Z"
   },
   {
    "duration": 182,
    "start_time": "2022-12-01T12:44:32.979Z"
   },
   {
    "duration": 46,
    "start_time": "2022-12-01T15:54:48.534Z"
   },
   {
    "duration": 1304,
    "start_time": "2022-12-01T15:54:57.546Z"
   },
   {
    "duration": 442,
    "start_time": "2022-12-01T15:54:58.852Z"
   },
   {
    "duration": 5,
    "start_time": "2022-12-01T15:54:59.296Z"
   },
   {
    "duration": 49,
    "start_time": "2022-12-01T15:54:59.304Z"
   },
   {
    "duration": 11,
    "start_time": "2022-12-01T15:54:59.355Z"
   },
   {
    "duration": 17,
    "start_time": "2022-12-01T15:54:59.368Z"
   },
   {
    "duration": 9,
    "start_time": "2022-12-01T15:54:59.387Z"
   },
   {
    "duration": 7,
    "start_time": "2022-12-01T15:54:59.398Z"
   },
   {
    "duration": 9,
    "start_time": "2022-12-01T15:54:59.407Z"
   },
   {
    "duration": 5,
    "start_time": "2022-12-01T15:54:59.418Z"
   },
   {
    "duration": 11,
    "start_time": "2022-12-01T15:54:59.425Z"
   },
   {
    "duration": 12,
    "start_time": "2022-12-01T15:54:59.438Z"
   },
   {
    "duration": 11,
    "start_time": "2022-12-01T15:54:59.452Z"
   },
   {
    "duration": 43,
    "start_time": "2022-12-01T15:54:59.464Z"
   },
   {
    "duration": 16,
    "start_time": "2022-12-01T15:54:59.509Z"
   },
   {
    "duration": 331,
    "start_time": "2022-12-01T15:54:59.527Z"
   },
   {
    "duration": 4,
    "start_time": "2022-12-01T15:54:59.860Z"
   },
   {
    "duration": 23,
    "start_time": "2022-12-01T15:54:59.865Z"
   },
   {
    "duration": 6,
    "start_time": "2022-12-01T15:54:59.889Z"
   },
   {
    "duration": 16,
    "start_time": "2022-12-01T15:54:59.896Z"
   },
   {
    "duration": 10,
    "start_time": "2022-12-01T15:54:59.913Z"
   },
   {
    "duration": 7,
    "start_time": "2022-12-01T15:54:59.925Z"
   },
   {
    "duration": 6,
    "start_time": "2022-12-01T15:54:59.933Z"
   },
   {
    "duration": 18,
    "start_time": "2022-12-01T15:54:59.940Z"
   },
   {
    "duration": 357,
    "start_time": "2022-12-01T15:54:59.960Z"
   },
   {
    "duration": 297,
    "start_time": "2022-12-01T15:55:00.319Z"
   },
   {
    "duration": 16,
    "start_time": "2022-12-01T15:55:00.617Z"
   },
   {
    "duration": 24,
    "start_time": "2022-12-01T15:55:00.636Z"
   },
   {
    "duration": 809,
    "start_time": "2022-12-01T15:55:00.662Z"
   },
   {
    "duration": 3,
    "start_time": "2022-12-01T15:55:01.473Z"
   },
   {
    "duration": 20,
    "start_time": "2022-12-01T15:55:01.478Z"
   },
   {
    "duration": 414,
    "start_time": "2022-12-01T15:55:01.499Z"
   },
   {
    "duration": 6,
    "start_time": "2022-12-01T15:55:01.915Z"
   },
   {
    "duration": 162,
    "start_time": "2022-12-01T15:55:01.922Z"
   },
   {
    "duration": 20,
    "start_time": "2022-12-01T15:55:02.085Z"
   },
   {
    "duration": 6,
    "start_time": "2022-12-01T15:55:02.106Z"
   },
   {
    "duration": 166,
    "start_time": "2022-12-01T15:55:02.113Z"
   },
   {
    "duration": 189,
    "start_time": "2022-12-01T15:55:02.281Z"
   },
   {
    "duration": 9,
    "start_time": "2022-12-01T15:55:02.472Z"
   },
   {
    "duration": 130,
    "start_time": "2022-12-01T15:55:02.483Z"
   },
   {
    "duration": 6,
    "start_time": "2022-12-01T15:55:37.368Z"
   },
   {
    "duration": 6,
    "start_time": "2022-12-01T15:56:16.702Z"
   },
   {
    "duration": 6,
    "start_time": "2022-12-01T15:57:38.644Z"
   },
   {
    "duration": 7,
    "start_time": "2022-12-01T15:58:20.741Z"
   },
   {
    "duration": 7,
    "start_time": "2022-12-01T15:58:26.512Z"
   },
   {
    "duration": 6,
    "start_time": "2022-12-01T15:58:44.627Z"
   },
   {
    "duration": 142,
    "start_time": "2022-12-01T16:03:33.904Z"
   },
   {
    "duration": 139,
    "start_time": "2022-12-01T16:03:39.983Z"
   },
   {
    "duration": 139,
    "start_time": "2022-12-01T16:06:05.744Z"
   },
   {
    "duration": 22,
    "start_time": "2022-12-01T16:06:42.431Z"
   },
   {
    "duration": 56,
    "start_time": "2022-12-02T10:00:40.257Z"
   },
   {
    "duration": 1344,
    "start_time": "2022-12-02T10:00:49.884Z"
   },
   {
    "duration": 116,
    "start_time": "2022-12-02T10:00:51.231Z"
   },
   {
    "duration": 6,
    "start_time": "2022-12-02T10:00:51.348Z"
   },
   {
    "duration": 27,
    "start_time": "2022-12-02T10:00:51.356Z"
   },
   {
    "duration": 4,
    "start_time": "2022-12-02T10:00:51.385Z"
   },
   {
    "duration": 23,
    "start_time": "2022-12-02T10:00:51.390Z"
   },
   {
    "duration": 11,
    "start_time": "2022-12-02T10:00:51.415Z"
   },
   {
    "duration": 14,
    "start_time": "2022-12-02T10:00:51.428Z"
   },
   {
    "duration": 23,
    "start_time": "2022-12-02T10:00:51.444Z"
   },
   {
    "duration": 16,
    "start_time": "2022-12-02T10:00:51.471Z"
   },
   {
    "duration": 24,
    "start_time": "2022-12-02T10:00:51.489Z"
   },
   {
    "duration": 15,
    "start_time": "2022-12-02T10:00:51.515Z"
   },
   {
    "duration": 20,
    "start_time": "2022-12-02T10:00:51.532Z"
   },
   {
    "duration": 27,
    "start_time": "2022-12-02T10:00:51.554Z"
   },
   {
    "duration": 22,
    "start_time": "2022-12-02T10:00:51.583Z"
   },
   {
    "duration": 357,
    "start_time": "2022-12-02T10:00:51.606Z"
   },
   {
    "duration": 6,
    "start_time": "2022-12-02T10:00:51.965Z"
   },
   {
    "duration": 24,
    "start_time": "2022-12-02T10:00:51.973Z"
   },
   {
    "duration": 16,
    "start_time": "2022-12-02T10:00:51.999Z"
   },
   {
    "duration": 8,
    "start_time": "2022-12-02T10:00:52.017Z"
   },
   {
    "duration": 10,
    "start_time": "2022-12-02T10:00:52.026Z"
   },
   {
    "duration": 8,
    "start_time": "2022-12-02T10:00:52.037Z"
   },
   {
    "duration": 6,
    "start_time": "2022-12-02T10:00:52.047Z"
   },
   {
    "duration": 21,
    "start_time": "2022-12-02T10:00:52.054Z"
   },
   {
    "duration": 412,
    "start_time": "2022-12-02T10:00:52.077Z"
   },
   {
    "duration": 307,
    "start_time": "2022-12-02T10:00:52.491Z"
   },
   {
    "duration": 17,
    "start_time": "2022-12-02T10:00:52.800Z"
   },
   {
    "duration": 3,
    "start_time": "2022-12-02T10:00:52.820Z"
   },
   {
    "duration": 900,
    "start_time": "2022-12-02T10:00:52.825Z"
   },
   {
    "duration": 3,
    "start_time": "2022-12-02T10:00:53.727Z"
   },
   {
    "duration": 6,
    "start_time": "2022-12-02T10:00:53.732Z"
   },
   {
    "duration": 366,
    "start_time": "2022-12-02T10:00:53.740Z"
   },
   {
    "duration": 6,
    "start_time": "2022-12-02T10:00:54.107Z"
   },
   {
    "duration": 246,
    "start_time": "2022-12-02T10:00:54.115Z"
   },
   {
    "duration": 10,
    "start_time": "2022-12-02T10:00:54.362Z"
   },
   {
    "duration": 6,
    "start_time": "2022-12-02T10:00:54.374Z"
   },
   {
    "duration": 181,
    "start_time": "2022-12-02T10:00:54.382Z"
   },
   {
    "duration": 194,
    "start_time": "2022-12-02T10:00:54.565Z"
   },
   {
    "duration": 9,
    "start_time": "2022-12-02T10:00:54.760Z"
   },
   {
    "duration": 8,
    "start_time": "2022-12-02T10:00:54.770Z"
   },
   {
    "duration": 25,
    "start_time": "2022-12-02T10:00:54.779Z"
   },
   {
    "duration": 6,
    "start_time": "2022-12-02T10:00:54.805Z"
   },
   {
    "duration": 158,
    "start_time": "2022-12-02T10:00:54.812Z"
   },
   {
    "duration": 162,
    "start_time": "2022-12-02T10:00:54.972Z"
   },
   {
    "duration": 7,
    "start_time": "2022-12-02T10:00:55.135Z"
   },
   {
    "duration": 116,
    "start_time": "2022-12-02T10:00:55.144Z"
   },
   {
    "duration": 10,
    "start_time": "2022-12-02T10:01:10.992Z"
   },
   {
    "duration": 1301,
    "start_time": "2022-12-02T10:01:37.302Z"
   },
   {
    "duration": 5,
    "start_time": "2022-12-02T10:01:43.753Z"
   },
   {
    "duration": 3,
    "start_time": "2022-12-02T10:02:06.552Z"
   },
   {
    "duration": 14,
    "start_time": "2022-12-02T10:02:50.051Z"
   },
   {
    "duration": 5,
    "start_time": "2022-12-02T10:06:11.500Z"
   },
   {
    "duration": 6,
    "start_time": "2022-12-02T10:06:15.531Z"
   },
   {
    "duration": 7,
    "start_time": "2022-12-02T10:06:15.930Z"
   },
   {
    "duration": 963,
    "start_time": "2022-12-02T10:06:16.806Z"
   },
   {
    "duration": 4,
    "start_time": "2022-12-02T10:06:40.430Z"
   },
   {
    "duration": 1464,
    "start_time": "2022-12-02T10:06:43.846Z"
   },
   {
    "duration": 6,
    "start_time": "2022-12-02T10:07:43.696Z"
   },
   {
    "duration": 1551,
    "start_time": "2022-12-02T10:07:46.369Z"
   },
   {
    "duration": 5,
    "start_time": "2022-12-02T10:18:24.039Z"
   },
   {
    "duration": 19,
    "start_time": "2022-12-02T10:18:26.120Z"
   },
   {
    "duration": 4,
    "start_time": "2022-12-02T10:18:51.842Z"
   },
   {
    "duration": 5,
    "start_time": "2022-12-02T10:18:52.495Z"
   },
   {
    "duration": 3,
    "start_time": "2022-12-02T10:18:52.933Z"
   },
   {
    "duration": 20,
    "start_time": "2022-12-02T10:18:53.575Z"
   },
   {
    "duration": 84,
    "start_time": "2022-12-02T10:20:45.321Z"
   },
   {
    "duration": 5,
    "start_time": "2022-12-02T10:20:53.598Z"
   },
   {
    "duration": 21,
    "start_time": "2022-12-02T10:20:56.536Z"
   },
   {
    "duration": 5,
    "start_time": "2022-12-02T10:21:51.697Z"
   },
   {
    "duration": 1330,
    "start_time": "2022-12-02T10:21:53.538Z"
   },
   {
    "duration": 5,
    "start_time": "2022-12-02T10:22:10.735Z"
   },
   {
    "duration": 1194,
    "start_time": "2022-12-02T10:22:13.776Z"
   },
   {
    "duration": 7,
    "start_time": "2022-12-02T10:22:26.828Z"
   },
   {
    "duration": 1216,
    "start_time": "2022-12-02T10:22:29.140Z"
   },
   {
    "duration": 5,
    "start_time": "2022-12-02T10:22:44.220Z"
   },
   {
    "duration": 1322,
    "start_time": "2022-12-02T10:22:46.530Z"
   },
   {
    "duration": 5,
    "start_time": "2022-12-02T10:23:54.272Z"
   },
   {
    "duration": 1315,
    "start_time": "2022-12-02T10:23:56.550Z"
   },
   {
    "duration": 4,
    "start_time": "2022-12-02T10:27:57.993Z"
   },
   {
    "duration": 18,
    "start_time": "2022-12-02T10:31:11.365Z"
   },
   {
    "duration": 13,
    "start_time": "2022-12-02T10:31:30.338Z"
   },
   {
    "duration": 17,
    "start_time": "2022-12-02T10:31:45.853Z"
   },
   {
    "duration": 12,
    "start_time": "2022-12-02T10:32:14.766Z"
   },
   {
    "duration": 14,
    "start_time": "2022-12-02T10:32:21.241Z"
   },
   {
    "duration": 1229,
    "start_time": "2022-12-02T10:32:46.491Z"
   },
   {
    "duration": 69,
    "start_time": "2022-12-02T10:32:47.722Z"
   },
   {
    "duration": 6,
    "start_time": "2022-12-02T10:32:47.795Z"
   },
   {
    "duration": 23,
    "start_time": "2022-12-02T10:32:47.802Z"
   },
   {
    "duration": 4,
    "start_time": "2022-12-02T10:32:47.827Z"
   },
   {
    "duration": 21,
    "start_time": "2022-12-02T10:32:47.832Z"
   },
   {
    "duration": 9,
    "start_time": "2022-12-02T10:32:47.855Z"
   },
   {
    "duration": 33,
    "start_time": "2022-12-02T10:32:47.866Z"
   },
   {
    "duration": 16,
    "start_time": "2022-12-02T10:32:47.903Z"
   },
   {
    "duration": 10,
    "start_time": "2022-12-02T10:32:47.920Z"
   },
   {
    "duration": 10,
    "start_time": "2022-12-02T10:32:47.932Z"
   },
   {
    "duration": 14,
    "start_time": "2022-12-02T10:32:47.944Z"
   },
   {
    "duration": 12,
    "start_time": "2022-12-02T10:32:47.960Z"
   },
   {
    "duration": 47,
    "start_time": "2022-12-02T10:32:47.974Z"
   },
   {
    "duration": 19,
    "start_time": "2022-12-02T10:32:48.023Z"
   },
   {
    "duration": 376,
    "start_time": "2022-12-02T10:32:48.044Z"
   },
   {
    "duration": 4,
    "start_time": "2022-12-02T10:32:48.422Z"
   },
   {
    "duration": 16,
    "start_time": "2022-12-02T10:32:48.428Z"
   },
   {
    "duration": 5,
    "start_time": "2022-12-02T10:32:48.446Z"
   },
   {
    "duration": 14,
    "start_time": "2022-12-02T10:32:48.452Z"
   },
   {
    "duration": 6,
    "start_time": "2022-12-02T10:32:48.468Z"
   },
   {
    "duration": 21,
    "start_time": "2022-12-02T10:32:48.476Z"
   },
   {
    "duration": 11,
    "start_time": "2022-12-02T10:32:48.499Z"
   },
   {
    "duration": 30,
    "start_time": "2022-12-02T10:32:48.511Z"
   },
   {
    "duration": 384,
    "start_time": "2022-12-02T10:32:48.542Z"
   },
   {
    "duration": 341,
    "start_time": "2022-12-02T10:32:48.928Z"
   },
   {
    "duration": 25,
    "start_time": "2022-12-02T10:32:49.273Z"
   },
   {
    "duration": 3,
    "start_time": "2022-12-02T10:32:49.300Z"
   },
   {
    "duration": 930,
    "start_time": "2022-12-02T10:32:49.305Z"
   },
   {
    "duration": 3,
    "start_time": "2022-12-02T10:32:50.237Z"
   },
   {
    "duration": 14,
    "start_time": "2022-12-02T10:32:50.242Z"
   },
   {
    "duration": 356,
    "start_time": "2022-12-02T10:32:50.258Z"
   },
   {
    "duration": 6,
    "start_time": "2022-12-02T10:32:50.615Z"
   },
   {
    "duration": 268,
    "start_time": "2022-12-02T10:32:50.623Z"
   },
   {
    "duration": 8,
    "start_time": "2022-12-02T10:32:50.897Z"
   },
   {
    "duration": 19,
    "start_time": "2022-12-02T10:32:50.907Z"
   },
   {
    "duration": 176,
    "start_time": "2022-12-02T10:32:50.928Z"
   },
   {
    "duration": 203,
    "start_time": "2022-12-02T10:32:51.106Z"
   },
   {
    "duration": 8,
    "start_time": "2022-12-02T10:32:51.311Z"
   },
   {
    "duration": 7,
    "start_time": "2022-12-02T10:32:51.321Z"
   },
   {
    "duration": 8,
    "start_time": "2022-12-02T10:32:51.330Z"
   },
   {
    "duration": 12,
    "start_time": "2022-12-02T10:32:51.339Z"
   },
   {
    "duration": 164,
    "start_time": "2022-12-02T10:32:51.352Z"
   },
   {
    "duration": 151,
    "start_time": "2022-12-02T10:32:51.518Z"
   },
   {
    "duration": 5,
    "start_time": "2022-12-02T10:32:51.671Z"
   },
   {
    "duration": 20,
    "start_time": "2022-12-02T10:32:51.677Z"
   },
   {
    "duration": 2,
    "start_time": "2022-12-02T10:32:51.699Z"
   },
   {
    "duration": 1307,
    "start_time": "2022-12-02T10:32:51.703Z"
   },
   {
    "duration": 11,
    "start_time": "2022-12-02T10:32:53.011Z"
   },
   {
    "duration": 16,
    "start_time": "2022-12-02T10:33:30.367Z"
   },
   {
    "duration": 208,
    "start_time": "2022-12-02T10:34:51.879Z"
   },
   {
    "duration": 12,
    "start_time": "2022-12-02T10:35:11.741Z"
   },
   {
    "duration": 296,
    "start_time": "2022-12-02T10:35:13.002Z"
   },
   {
    "duration": 18,
    "start_time": "2022-12-02T10:35:23.962Z"
   },
   {
    "duration": 189,
    "start_time": "2022-12-02T10:36:39.564Z"
   },
   {
    "duration": 181,
    "start_time": "2022-12-02T10:36:50.487Z"
   },
   {
    "duration": 200,
    "start_time": "2022-12-02T10:37:14.386Z"
   },
   {
    "duration": 287,
    "start_time": "2022-12-02T10:37:42.677Z"
   },
   {
    "duration": 184,
    "start_time": "2022-12-02T10:38:10.532Z"
   },
   {
    "duration": 17,
    "start_time": "2022-12-02T12:51:38.883Z"
   },
   {
    "duration": 16,
    "start_time": "2022-12-02T12:51:44.787Z"
   },
   {
    "duration": 12,
    "start_time": "2022-12-02T12:53:21.106Z"
   },
   {
    "duration": 21,
    "start_time": "2022-12-02T12:54:02.624Z"
   },
   {
    "duration": 11,
    "start_time": "2022-12-02T12:56:52.590Z"
   },
   {
    "duration": 15,
    "start_time": "2022-12-02T12:56:57.320Z"
   },
   {
    "duration": 19,
    "start_time": "2022-12-02T12:57:16.738Z"
   },
   {
    "duration": 20,
    "start_time": "2022-12-02T12:58:05.132Z"
   },
   {
    "duration": 22,
    "start_time": "2022-12-02T12:58:51.838Z"
   },
   {
    "duration": 265,
    "start_time": "2022-12-02T13:03:38.782Z"
   },
   {
    "duration": 337,
    "start_time": "2022-12-02T13:03:48.953Z"
   },
   {
    "duration": 13,
    "start_time": "2022-12-02T13:07:30.801Z"
   },
   {
    "duration": 26,
    "start_time": "2022-12-02T13:07:47.070Z"
   },
   {
    "duration": 19,
    "start_time": "2022-12-02T13:08:26.097Z"
   },
   {
    "duration": 17,
    "start_time": "2022-12-02T13:09:04.998Z"
   },
   {
    "duration": 423,
    "start_time": "2022-12-02T13:09:34.193Z"
   },
   {
    "duration": 22,
    "start_time": "2022-12-02T13:10:45.838Z"
   },
   {
    "duration": 25,
    "start_time": "2022-12-02T13:10:58.871Z"
   },
   {
    "duration": 16,
    "start_time": "2022-12-02T13:11:21.972Z"
   },
   {
    "duration": 17,
    "start_time": "2022-12-02T13:11:51.342Z"
   },
   {
    "duration": 20,
    "start_time": "2022-12-02T13:12:18.574Z"
   },
   {
    "duration": 338,
    "start_time": "2022-12-02T13:14:51.302Z"
   },
   {
    "duration": 8,
    "start_time": "2022-12-02T13:36:42.925Z"
   },
   {
    "duration": 8,
    "start_time": "2022-12-02T13:37:48.334Z"
   },
   {
    "duration": 8,
    "start_time": "2022-12-02T13:38:40.645Z"
   },
   {
    "duration": 7,
    "start_time": "2022-12-02T13:41:33.373Z"
   },
   {
    "duration": 8,
    "start_time": "2022-12-02T13:42:13.358Z"
   },
   {
    "duration": 8,
    "start_time": "2022-12-02T13:42:55.045Z"
   },
   {
    "duration": 8,
    "start_time": "2022-12-02T13:43:29.111Z"
   },
   {
    "duration": 8,
    "start_time": "2022-12-02T13:44:07.344Z"
   },
   {
    "duration": 8,
    "start_time": "2022-12-02T13:45:00.710Z"
   },
   {
    "duration": 6,
    "start_time": "2022-12-02T14:02:17.902Z"
   },
   {
    "duration": 6,
    "start_time": "2022-12-02T14:02:31.179Z"
   },
   {
    "duration": 4,
    "start_time": "2022-12-02T14:21:50.272Z"
   },
   {
    "duration": 6,
    "start_time": "2022-12-02T14:25:11.788Z"
   },
   {
    "duration": 31,
    "start_time": "2022-12-02T14:26:39.651Z"
   },
   {
    "duration": 878,
    "start_time": "2022-12-02T14:29:47.306Z"
   },
   {
    "duration": 762,
    "start_time": "2022-12-02T14:29:53.783Z"
   },
   {
    "duration": 12,
    "start_time": "2022-12-02T14:30:00.231Z"
   },
   {
    "duration": 7,
    "start_time": "2022-12-02T14:33:32.839Z"
   },
   {
    "duration": 7,
    "start_time": "2022-12-02T14:34:20.772Z"
   },
   {
    "duration": 11,
    "start_time": "2022-12-02T14:46:36.104Z"
   },
   {
    "duration": 12,
    "start_time": "2022-12-02T14:46:39.996Z"
   },
   {
    "duration": 52,
    "start_time": "2022-12-02T14:47:46.535Z"
   },
   {
    "duration": 7,
    "start_time": "2022-12-02T14:47:51.262Z"
   },
   {
    "duration": 69,
    "start_time": "2022-12-02T14:48:00.921Z"
   },
   {
    "duration": 9,
    "start_time": "2022-12-02T14:48:04.416Z"
   },
   {
    "duration": 8,
    "start_time": "2022-12-02T15:09:09.265Z"
   },
   {
    "duration": 7,
    "start_time": "2022-12-02T15:09:33.743Z"
   },
   {
    "duration": 8,
    "start_time": "2022-12-02T15:09:43.443Z"
   },
   {
    "duration": 6,
    "start_time": "2022-12-02T15:10:08.324Z"
   },
   {
    "duration": 58,
    "start_time": "2022-12-03T20:04:35.016Z"
   },
   {
    "duration": 1257,
    "start_time": "2022-12-03T20:04:40.550Z"
   },
   {
    "duration": 143,
    "start_time": "2022-12-03T20:04:41.811Z"
   },
   {
    "duration": 6,
    "start_time": "2022-12-03T20:04:41.955Z"
   },
   {
    "duration": 36,
    "start_time": "2022-12-03T20:04:41.963Z"
   },
   {
    "duration": 16,
    "start_time": "2022-12-03T20:04:42.011Z"
   },
   {
    "duration": 24,
    "start_time": "2022-12-03T20:04:42.029Z"
   },
   {
    "duration": 9,
    "start_time": "2022-12-03T20:04:42.054Z"
   },
   {
    "duration": 19,
    "start_time": "2022-12-03T20:04:42.065Z"
   },
   {
    "duration": 32,
    "start_time": "2022-12-03T20:04:42.085Z"
   },
   {
    "duration": 17,
    "start_time": "2022-12-03T20:04:42.119Z"
   },
   {
    "duration": 17,
    "start_time": "2022-12-03T20:04:42.137Z"
   },
   {
    "duration": 22,
    "start_time": "2022-12-03T20:04:42.155Z"
   },
   {
    "duration": 30,
    "start_time": "2022-12-03T20:04:42.184Z"
   },
   {
    "duration": 26,
    "start_time": "2022-12-03T20:04:42.216Z"
   },
   {
    "duration": 50,
    "start_time": "2022-12-03T20:04:42.243Z"
   },
   {
    "duration": 403,
    "start_time": "2022-12-03T20:04:42.302Z"
   },
   {
    "duration": 5,
    "start_time": "2022-12-03T20:04:42.710Z"
   },
   {
    "duration": 15,
    "start_time": "2022-12-03T20:04:42.716Z"
   },
   {
    "duration": 9,
    "start_time": "2022-12-03T20:04:42.733Z"
   },
   {
    "duration": 7,
    "start_time": "2022-12-03T20:04:42.744Z"
   },
   {
    "duration": 8,
    "start_time": "2022-12-03T20:04:42.752Z"
   },
   {
    "duration": 24,
    "start_time": "2022-12-03T20:04:42.761Z"
   },
   {
    "duration": 28,
    "start_time": "2022-12-03T20:04:42.787Z"
   },
   {
    "duration": 25,
    "start_time": "2022-12-03T20:04:42.816Z"
   },
   {
    "duration": 417,
    "start_time": "2022-12-03T20:04:42.842Z"
   },
   {
    "duration": 339,
    "start_time": "2022-12-03T20:04:43.260Z"
   },
   {
    "duration": 20,
    "start_time": "2022-12-03T20:04:43.602Z"
   },
   {
    "duration": 3,
    "start_time": "2022-12-03T20:04:43.628Z"
   },
   {
    "duration": 893,
    "start_time": "2022-12-03T20:04:43.632Z"
   },
   {
    "duration": 3,
    "start_time": "2022-12-03T20:04:44.527Z"
   },
   {
    "duration": 10,
    "start_time": "2022-12-03T20:04:44.532Z"
   },
   {
    "duration": 325,
    "start_time": "2022-12-03T20:04:44.544Z"
   },
   {
    "duration": 7,
    "start_time": "2022-12-03T20:04:44.871Z"
   },
   {
    "duration": 290,
    "start_time": "2022-12-03T20:04:44.879Z"
   },
   {
    "duration": 15,
    "start_time": "2022-12-03T20:04:45.170Z"
   },
   {
    "duration": 40,
    "start_time": "2022-12-03T20:04:45.186Z"
   },
   {
    "duration": 176,
    "start_time": "2022-12-03T20:04:45.227Z"
   },
   {
    "duration": 226,
    "start_time": "2022-12-03T20:04:45.405Z"
   },
   {
    "duration": 8,
    "start_time": "2022-12-03T20:04:45.632Z"
   },
   {
    "duration": 6,
    "start_time": "2022-12-03T20:04:45.642Z"
   },
   {
    "duration": 18,
    "start_time": "2022-12-03T20:04:45.649Z"
   },
   {
    "duration": 27,
    "start_time": "2022-12-03T20:04:45.675Z"
   },
   {
    "duration": 144,
    "start_time": "2022-12-03T20:04:45.707Z"
   },
   {
    "duration": 154,
    "start_time": "2022-12-03T20:04:45.853Z"
   },
   {
    "duration": 6,
    "start_time": "2022-12-03T20:04:46.009Z"
   },
   {
    "duration": 6,
    "start_time": "2022-12-03T20:04:46.017Z"
   },
   {
    "duration": 5,
    "start_time": "2022-12-03T20:04:46.024Z"
   },
   {
    "duration": 1340,
    "start_time": "2022-12-03T20:04:46.031Z"
   },
   {
    "duration": 25,
    "start_time": "2022-12-03T20:04:47.372Z"
   },
   {
    "duration": 219,
    "start_time": "2022-12-03T20:04:47.398Z"
   },
   {
    "duration": 11,
    "start_time": "2022-12-03T20:04:47.618Z"
   },
   {
    "duration": 15,
    "start_time": "2022-12-03T20:04:47.630Z"
   },
   {
    "duration": 39,
    "start_time": "2022-12-03T20:04:47.647Z"
   },
   {
    "duration": 365,
    "start_time": "2022-12-03T20:04:47.689Z"
   },
   {
    "duration": 31,
    "start_time": "2022-12-03T20:04:48.056Z"
   },
   {
    "duration": 17,
    "start_time": "2022-12-03T20:04:48.090Z"
   },
   {
    "duration": 20,
    "start_time": "2022-12-03T20:04:48.110Z"
   },
   {
    "duration": 315,
    "start_time": "2022-12-03T20:04:48.131Z"
   },
   {
    "duration": 17,
    "start_time": "2022-12-03T20:04:48.448Z"
   },
   {
    "duration": 29,
    "start_time": "2022-12-03T20:04:48.478Z"
   },
   {
    "duration": 21,
    "start_time": "2022-12-03T20:04:48.509Z"
   },
   {
    "duration": 362,
    "start_time": "2022-12-03T20:04:48.531Z"
   },
   {
    "duration": 8,
    "start_time": "2022-12-03T20:04:48.895Z"
   },
   {
    "duration": 143,
    "start_time": "2022-12-03T20:04:48.905Z"
   },
   {
    "duration": 0,
    "start_time": "2022-12-03T20:04:49.050Z"
   },
   {
    "duration": 0,
    "start_time": "2022-12-03T20:04:49.051Z"
   },
   {
    "duration": 0,
    "start_time": "2022-12-03T20:04:49.053Z"
   },
   {
    "duration": 0,
    "start_time": "2022-12-03T20:04:49.054Z"
   },
   {
    "duration": 0,
    "start_time": "2022-12-03T20:04:49.055Z"
   },
   {
    "duration": 0,
    "start_time": "2022-12-03T20:04:49.056Z"
   },
   {
    "duration": 0,
    "start_time": "2022-12-03T20:04:49.058Z"
   },
   {
    "duration": 0,
    "start_time": "2022-12-03T20:04:49.058Z"
   },
   {
    "duration": 0,
    "start_time": "2022-12-03T20:04:49.060Z"
   },
   {
    "duration": 16,
    "start_time": "2022-12-03T20:05:02.873Z"
   },
   {
    "duration": 11,
    "start_time": "2022-12-03T20:05:31.002Z"
   },
   {
    "duration": 16,
    "start_time": "2022-12-03T20:05:59.201Z"
   },
   {
    "duration": 16,
    "start_time": "2022-12-03T20:06:13.810Z"
   },
   {
    "duration": 15,
    "start_time": "2022-12-03T20:06:54.135Z"
   },
   {
    "duration": 17,
    "start_time": "2022-12-03T20:07:10.709Z"
   },
   {
    "duration": 295,
    "start_time": "2022-12-03T20:31:04.490Z"
   },
   {
    "duration": 15,
    "start_time": "2022-12-03T20:36:12.792Z"
   },
   {
    "duration": 15,
    "start_time": "2022-12-03T20:37:22.492Z"
   },
   {
    "duration": 14,
    "start_time": "2022-12-03T20:37:24.730Z"
   },
   {
    "duration": 320,
    "start_time": "2022-12-03T20:37:42.137Z"
   },
   {
    "duration": 19,
    "start_time": "2022-12-03T21:24:16.612Z"
   },
   {
    "duration": 16,
    "start_time": "2022-12-03T21:24:23.694Z"
   },
   {
    "duration": 22,
    "start_time": "2022-12-03T21:24:41.192Z"
   },
   {
    "duration": 13,
    "start_time": "2022-12-03T21:24:54.990Z"
   },
   {
    "duration": 14,
    "start_time": "2022-12-03T21:25:07.890Z"
   },
   {
    "duration": 334,
    "start_time": "2022-12-03T21:32:42.082Z"
   },
   {
    "duration": 1483,
    "start_time": "2022-12-04T09:08:41.176Z"
   },
   {
    "duration": 242,
    "start_time": "2022-12-04T09:08:42.665Z"
   },
   {
    "duration": 6,
    "start_time": "2022-12-04T09:08:42.909Z"
   },
   {
    "duration": 22,
    "start_time": "2022-12-04T09:08:42.917Z"
   },
   {
    "duration": 4,
    "start_time": "2022-12-04T09:08:42.941Z"
   },
   {
    "duration": 31,
    "start_time": "2022-12-04T09:08:42.946Z"
   },
   {
    "duration": 14,
    "start_time": "2022-12-04T09:08:42.980Z"
   },
   {
    "duration": 10,
    "start_time": "2022-12-04T09:08:42.996Z"
   },
   {
    "duration": 12,
    "start_time": "2022-12-04T09:08:43.008Z"
   },
   {
    "duration": 7,
    "start_time": "2022-12-04T09:08:43.058Z"
   },
   {
    "duration": 18,
    "start_time": "2022-12-04T09:08:43.068Z"
   },
   {
    "duration": 26,
    "start_time": "2022-12-04T09:08:43.088Z"
   },
   {
    "duration": 9,
    "start_time": "2022-12-04T09:08:43.117Z"
   },
   {
    "duration": 49,
    "start_time": "2022-12-04T09:08:43.128Z"
   },
   {
    "duration": 18,
    "start_time": "2022-12-04T09:08:43.179Z"
   },
   {
    "duration": 30,
    "start_time": "2022-12-04T09:08:43.199Z"
   },
   {
    "duration": 441,
    "start_time": "2022-12-04T09:08:43.230Z"
   },
   {
    "duration": 6,
    "start_time": "2022-12-04T09:08:43.673Z"
   },
   {
    "duration": 36,
    "start_time": "2022-12-04T09:08:43.681Z"
   },
   {
    "duration": 39,
    "start_time": "2022-12-04T09:08:43.719Z"
   },
   {
    "duration": 7,
    "start_time": "2022-12-04T09:08:43.760Z"
   },
   {
    "duration": 17,
    "start_time": "2022-12-04T09:08:43.769Z"
   },
   {
    "duration": 9,
    "start_time": "2022-12-04T09:08:43.789Z"
   },
   {
    "duration": 11,
    "start_time": "2022-12-04T09:08:43.800Z"
   },
   {
    "duration": 7,
    "start_time": "2022-12-04T09:08:43.813Z"
   },
   {
    "duration": 56,
    "start_time": "2022-12-04T09:08:43.822Z"
   },
   {
    "duration": 20,
    "start_time": "2022-12-04T09:08:43.880Z"
   },
   {
    "duration": 439,
    "start_time": "2022-12-04T09:08:43.904Z"
   },
   {
    "duration": 373,
    "start_time": "2022-12-04T09:08:44.351Z"
   },
   {
    "duration": 44,
    "start_time": "2022-12-04T09:08:44.726Z"
   },
   {
    "duration": 7,
    "start_time": "2022-12-04T09:08:44.772Z"
   },
   {
    "duration": 991,
    "start_time": "2022-12-04T09:08:44.781Z"
   },
   {
    "duration": 4,
    "start_time": "2022-12-04T09:08:45.774Z"
   },
   {
    "duration": 6,
    "start_time": "2022-12-04T09:08:45.780Z"
   },
   {
    "duration": 405,
    "start_time": "2022-12-04T09:08:45.788Z"
   },
   {
    "duration": 7,
    "start_time": "2022-12-04T09:08:46.196Z"
   },
   {
    "duration": 289,
    "start_time": "2022-12-04T09:08:46.205Z"
   },
   {
    "duration": 10,
    "start_time": "2022-12-04T09:08:46.496Z"
   },
   {
    "duration": 8,
    "start_time": "2022-12-04T09:08:46.508Z"
   },
   {
    "duration": 209,
    "start_time": "2022-12-04T09:08:46.518Z"
   },
   {
    "duration": 237,
    "start_time": "2022-12-04T09:08:46.729Z"
   },
   {
    "duration": 11,
    "start_time": "2022-12-04T09:08:46.968Z"
   },
   {
    "duration": 9,
    "start_time": "2022-12-04T09:08:46.980Z"
   },
   {
    "duration": 7,
    "start_time": "2022-12-04T09:08:46.991Z"
   },
   {
    "duration": 6,
    "start_time": "2022-12-04T09:08:47.000Z"
   },
   {
    "duration": 214,
    "start_time": "2022-12-04T09:08:47.008Z"
   },
   {
    "duration": 169,
    "start_time": "2022-12-04T09:08:47.224Z"
   },
   {
    "duration": 7,
    "start_time": "2022-12-04T09:08:47.395Z"
   },
   {
    "duration": 11,
    "start_time": "2022-12-04T09:08:47.404Z"
   },
   {
    "duration": 4,
    "start_time": "2022-12-04T09:08:47.417Z"
   },
   {
    "duration": 2163,
    "start_time": "2022-12-04T09:08:47.423Z"
   },
   {
    "duration": 75,
    "start_time": "2022-12-04T09:08:49.590Z"
   },
   {
    "duration": 523,
    "start_time": "2022-12-04T09:08:49.667Z"
   },
   {
    "duration": 63,
    "start_time": "2022-12-04T09:08:50.193Z"
   },
   {
    "duration": 44,
    "start_time": "2022-12-04T09:08:50.259Z"
   },
   {
    "duration": 63,
    "start_time": "2022-12-04T09:08:50.305Z"
   },
   {
    "duration": 907,
    "start_time": "2022-12-04T09:08:50.370Z"
   },
   {
    "duration": 22,
    "start_time": "2022-12-04T09:08:51.279Z"
   },
   {
    "duration": 25,
    "start_time": "2022-12-04T09:08:51.304Z"
   },
   {
    "duration": 22,
    "start_time": "2022-12-04T09:08:51.353Z"
   },
   {
    "duration": 367,
    "start_time": "2022-12-04T09:08:51.377Z"
   },
   {
    "duration": 24,
    "start_time": "2022-12-04T09:08:51.746Z"
   },
   {
    "duration": 37,
    "start_time": "2022-12-04T09:08:51.771Z"
   },
   {
    "duration": 24,
    "start_time": "2022-12-04T09:08:51.810Z"
   },
   {
    "duration": 398,
    "start_time": "2022-12-04T09:08:51.837Z"
   },
   {
    "duration": 36,
    "start_time": "2022-12-04T09:08:52.238Z"
   },
   {
    "duration": 25,
    "start_time": "2022-12-04T09:08:52.276Z"
   },
   {
    "duration": 18,
    "start_time": "2022-12-04T09:08:52.303Z"
   },
   {
    "duration": 52,
    "start_time": "2022-12-04T09:08:52.324Z"
   },
   {
    "duration": 370,
    "start_time": "2022-12-04T09:08:52.378Z"
   },
   {
    "duration": 23,
    "start_time": "2022-12-04T09:08:52.750Z"
   },
   {
    "duration": 19,
    "start_time": "2022-12-04T09:08:52.775Z"
   },
   {
    "duration": 18,
    "start_time": "2022-12-04T09:08:52.796Z"
   },
   {
    "duration": 377,
    "start_time": "2022-12-04T09:08:52.816Z"
   },
   {
    "duration": 17,
    "start_time": "2022-12-04T09:08:53.195Z"
   },
   {
    "duration": 19,
    "start_time": "2022-12-04T09:08:53.214Z"
   },
   {
    "duration": 38,
    "start_time": "2022-12-04T09:08:53.255Z"
   },
   {
    "duration": 479,
    "start_time": "2022-12-04T09:08:53.294Z"
   },
   {
    "duration": 5,
    "start_time": "2022-12-04T09:08:53.775Z"
   },
   {
    "duration": 15,
    "start_time": "2022-12-04T09:08:53.782Z"
   },
   {
    "duration": 9,
    "start_time": "2022-12-04T09:08:53.799Z"
   },
   {
    "duration": 10,
    "start_time": "2022-12-04T09:08:53.814Z"
   },
   {
    "duration": 12,
    "start_time": "2022-12-04T09:08:53.851Z"
   },
   {
    "duration": 21,
    "start_time": "2022-12-04T09:08:53.865Z"
   },
   {
    "duration": 8,
    "start_time": "2022-12-04T09:08:53.888Z"
   },
   {
    "duration": 10,
    "start_time": "2022-12-04T09:08:53.899Z"
   },
   {
    "duration": 13,
    "start_time": "2022-12-04T09:08:53.911Z"
   },
   {
    "duration": 90,
    "start_time": "2022-12-04T12:23:29.455Z"
   },
   {
    "duration": 43,
    "start_time": "2022-12-04T12:23:33.556Z"
   },
   {
    "duration": 1334,
    "start_time": "2022-12-04T12:24:08.910Z"
   },
   {
    "duration": 195,
    "start_time": "2022-12-04T12:24:10.246Z"
   },
   {
    "duration": 6,
    "start_time": "2022-12-04T12:24:10.443Z"
   },
   {
    "duration": 23,
    "start_time": "2022-12-04T12:24:10.451Z"
   },
   {
    "duration": 4,
    "start_time": "2022-12-04T12:24:10.475Z"
   },
   {
    "duration": 24,
    "start_time": "2022-12-04T12:24:10.480Z"
   },
   {
    "duration": 24,
    "start_time": "2022-12-04T12:24:10.506Z"
   },
   {
    "duration": 8,
    "start_time": "2022-12-04T12:24:10.532Z"
   },
   {
    "duration": 8,
    "start_time": "2022-12-04T12:24:10.542Z"
   },
   {
    "duration": 10,
    "start_time": "2022-12-04T12:24:10.553Z"
   },
   {
    "duration": 12,
    "start_time": "2022-12-04T12:24:10.565Z"
   },
   {
    "duration": 14,
    "start_time": "2022-12-04T12:24:10.579Z"
   },
   {
    "duration": 33,
    "start_time": "2022-12-04T12:24:10.594Z"
   },
   {
    "duration": 23,
    "start_time": "2022-12-04T12:24:10.629Z"
   },
   {
    "duration": 17,
    "start_time": "2022-12-04T12:24:10.654Z"
   },
   {
    "duration": 29,
    "start_time": "2022-12-04T12:24:10.673Z"
   },
   {
    "duration": 19,
    "start_time": "2022-12-04T12:24:10.703Z"
   },
   {
    "duration": 12,
    "start_time": "2022-12-04T12:24:10.724Z"
   },
   {
    "duration": 4,
    "start_time": "2022-12-04T12:24:10.737Z"
   },
   {
    "duration": 25,
    "start_time": "2022-12-04T12:24:10.742Z"
   },
   {
    "duration": 12,
    "start_time": "2022-12-04T12:24:10.769Z"
   },
   {
    "duration": 4,
    "start_time": "2022-12-04T12:24:10.783Z"
   },
   {
    "duration": 36,
    "start_time": "2022-12-04T12:24:10.789Z"
   },
   {
    "duration": 16,
    "start_time": "2022-12-04T12:24:10.827Z"
   },
   {
    "duration": 11,
    "start_time": "2022-12-04T12:24:10.844Z"
   },
   {
    "duration": 6,
    "start_time": "2022-12-04T12:24:10.857Z"
   },
   {
    "duration": 21,
    "start_time": "2022-12-04T12:24:10.865Z"
   },
   {
    "duration": 18,
    "start_time": "2022-12-04T12:24:10.891Z"
   },
   {
    "duration": 369,
    "start_time": "2022-12-04T12:24:10.911Z"
   },
   {
    "duration": 318,
    "start_time": "2022-12-04T12:24:11.281Z"
   },
   {
    "duration": 25,
    "start_time": "2022-12-04T12:24:11.601Z"
   },
   {
    "duration": 13,
    "start_time": "2022-12-04T12:24:11.627Z"
   },
   {
    "duration": 889,
    "start_time": "2022-12-04T12:24:11.642Z"
   },
   {
    "duration": 4,
    "start_time": "2022-12-04T12:24:12.533Z"
   },
   {
    "duration": 9,
    "start_time": "2022-12-04T12:24:12.539Z"
   },
   {
    "duration": 355,
    "start_time": "2022-12-04T12:24:12.549Z"
   },
   {
    "duration": 6,
    "start_time": "2022-12-04T12:24:12.905Z"
   },
   {
    "duration": 237,
    "start_time": "2022-12-04T12:24:12.913Z"
   },
   {
    "duration": 9,
    "start_time": "2022-12-04T12:24:13.151Z"
   },
   {
    "duration": 8,
    "start_time": "2022-12-04T12:24:13.161Z"
   },
   {
    "duration": 172,
    "start_time": "2022-12-04T12:24:13.171Z"
   },
   {
    "duration": 195,
    "start_time": "2022-12-04T12:24:13.345Z"
   },
   {
    "duration": 9,
    "start_time": "2022-12-04T12:24:13.541Z"
   },
   {
    "duration": 11,
    "start_time": "2022-12-04T12:24:13.551Z"
   },
   {
    "duration": 7,
    "start_time": "2022-12-04T12:24:13.564Z"
   },
   {
    "duration": 5,
    "start_time": "2022-12-04T12:24:13.573Z"
   },
   {
    "duration": 164,
    "start_time": "2022-12-04T12:24:13.580Z"
   },
   {
    "duration": 154,
    "start_time": "2022-12-04T12:24:13.746Z"
   },
   {
    "duration": 5,
    "start_time": "2022-12-04T12:24:13.902Z"
   },
   {
    "duration": 32,
    "start_time": "2022-12-04T12:24:13.908Z"
   },
   {
    "duration": 37,
    "start_time": "2022-12-04T12:24:13.941Z"
   },
   {
    "duration": 1394,
    "start_time": "2022-12-04T12:24:13.980Z"
   },
   {
    "duration": 16,
    "start_time": "2022-12-04T12:24:15.376Z"
   },
   {
    "duration": 208,
    "start_time": "2022-12-04T12:24:15.393Z"
   },
   {
    "duration": 24,
    "start_time": "2022-12-04T12:24:15.603Z"
   },
   {
    "duration": 17,
    "start_time": "2022-12-04T12:24:15.629Z"
   },
   {
    "duration": 19,
    "start_time": "2022-12-04T12:24:15.647Z"
   },
   {
    "duration": 441,
    "start_time": "2022-12-04T12:24:15.668Z"
   },
   {
    "duration": 20,
    "start_time": "2022-12-04T12:24:16.111Z"
   },
   {
    "duration": 18,
    "start_time": "2022-12-04T12:24:16.133Z"
   },
   {
    "duration": 16,
    "start_time": "2022-12-04T12:24:16.152Z"
   },
   {
    "duration": 340,
    "start_time": "2022-12-04T12:24:16.169Z"
   },
   {
    "duration": 22,
    "start_time": "2022-12-04T12:24:16.511Z"
   },
   {
    "duration": 17,
    "start_time": "2022-12-04T12:24:16.534Z"
   },
   {
    "duration": 16,
    "start_time": "2022-12-04T12:24:16.552Z"
   },
   {
    "duration": 354,
    "start_time": "2022-12-04T12:24:16.570Z"
   },
   {
    "duration": 8,
    "start_time": "2022-12-04T12:24:16.925Z"
   },
   {
    "duration": 19,
    "start_time": "2022-12-04T12:24:16.935Z"
   },
   {
    "duration": 15,
    "start_time": "2022-12-04T12:24:16.956Z"
   },
   {
    "duration": 15,
    "start_time": "2022-12-04T12:24:16.973Z"
   },
   {
    "duration": 333,
    "start_time": "2022-12-04T12:24:16.990Z"
   },
   {
    "duration": 17,
    "start_time": "2022-12-04T12:24:17.325Z"
   },
   {
    "duration": 17,
    "start_time": "2022-12-04T12:24:17.344Z"
   },
   {
    "duration": 15,
    "start_time": "2022-12-04T12:24:17.363Z"
   },
   {
    "duration": 335,
    "start_time": "2022-12-04T12:24:17.380Z"
   },
   {
    "duration": 22,
    "start_time": "2022-12-04T12:24:17.716Z"
   },
   {
    "duration": 18,
    "start_time": "2022-12-04T12:24:17.740Z"
   },
   {
    "duration": 18,
    "start_time": "2022-12-04T12:24:17.759Z"
   },
   {
    "duration": 416,
    "start_time": "2022-12-04T12:24:17.779Z"
   },
   {
    "duration": 5,
    "start_time": "2022-12-04T12:24:18.196Z"
   },
   {
    "duration": 20,
    "start_time": "2022-12-04T12:24:18.202Z"
   },
   {
    "duration": 7,
    "start_time": "2022-12-04T12:24:18.227Z"
   },
   {
    "duration": 8,
    "start_time": "2022-12-04T12:24:18.235Z"
   },
   {
    "duration": 5,
    "start_time": "2022-12-04T12:24:18.245Z"
   },
   {
    "duration": 10,
    "start_time": "2022-12-04T12:24:18.251Z"
   },
   {
    "duration": 6,
    "start_time": "2022-12-04T12:24:18.263Z"
   },
   {
    "duration": 6,
    "start_time": "2022-12-04T12:24:18.271Z"
   },
   {
    "duration": 5,
    "start_time": "2022-12-04T12:24:18.279Z"
   },
   {
    "duration": 16,
    "start_time": "2022-12-04T12:25:54.256Z"
   },
   {
    "duration": 5,
    "start_time": "2022-12-04T12:25:59.096Z"
   },
   {
    "duration": 26,
    "start_time": "2022-12-04T12:26:02.059Z"
   },
   {
    "duration": 24,
    "start_time": "2022-12-04T12:26:04.622Z"
   },
   {
    "duration": 4,
    "start_time": "2022-12-04T12:28:25.748Z"
   },
   {
    "duration": 9,
    "start_time": "2022-12-04T12:28:39.557Z"
   },
   {
    "duration": 5,
    "start_time": "2022-12-04T12:29:16.955Z"
   },
   {
    "duration": 412,
    "start_time": "2022-12-04T12:32:05.224Z"
   },
   {
    "duration": 283,
    "start_time": "2022-12-04T12:32:39.793Z"
   },
   {
    "duration": 284,
    "start_time": "2022-12-04T12:33:27.389Z"
   },
   {
    "duration": 4,
    "start_time": "2022-12-04T12:37:03.136Z"
   },
   {
    "duration": 3,
    "start_time": "2022-12-04T12:37:03.480Z"
   },
   {
    "duration": 1506,
    "start_time": "2022-12-04T12:37:03.982Z"
   },
   {
    "duration": 1270,
    "start_time": "2022-12-04T12:37:21.629Z"
   },
   {
    "duration": 67,
    "start_time": "2022-12-04T12:37:22.901Z"
   },
   {
    "duration": 6,
    "start_time": "2022-12-04T12:37:22.969Z"
   },
   {
    "duration": 18,
    "start_time": "2022-12-04T12:37:22.978Z"
   },
   {
    "duration": 5,
    "start_time": "2022-12-04T12:37:22.998Z"
   },
   {
    "duration": 17,
    "start_time": "2022-12-04T12:37:23.022Z"
   },
   {
    "duration": 10,
    "start_time": "2022-12-04T12:37:23.041Z"
   },
   {
    "duration": 8,
    "start_time": "2022-12-04T12:37:23.053Z"
   },
   {
    "duration": 12,
    "start_time": "2022-12-04T12:37:23.064Z"
   },
   {
    "duration": 26,
    "start_time": "2022-12-04T12:37:23.078Z"
   },
   {
    "duration": 23,
    "start_time": "2022-12-04T12:37:23.105Z"
   },
   {
    "duration": 16,
    "start_time": "2022-12-04T12:37:23.130Z"
   },
   {
    "duration": 15,
    "start_time": "2022-12-04T12:37:23.148Z"
   },
   {
    "duration": 28,
    "start_time": "2022-12-04T12:37:23.165Z"
   },
   {
    "duration": 36,
    "start_time": "2022-12-04T12:37:23.195Z"
   },
   {
    "duration": 25,
    "start_time": "2022-12-04T12:37:23.233Z"
   },
   {
    "duration": 12,
    "start_time": "2022-12-04T12:37:23.259Z"
   },
   {
    "duration": 6,
    "start_time": "2022-12-04T12:37:23.273Z"
   },
   {
    "duration": 50,
    "start_time": "2022-12-04T12:37:23.281Z"
   },
   {
    "duration": 14,
    "start_time": "2022-12-04T12:37:23.333Z"
   },
   {
    "duration": 5,
    "start_time": "2022-12-04T12:37:23.349Z"
   },
   {
    "duration": 18,
    "start_time": "2022-12-04T12:37:23.356Z"
   },
   {
    "duration": 11,
    "start_time": "2022-12-04T12:37:23.376Z"
   },
   {
    "duration": 19,
    "start_time": "2022-12-04T12:37:23.389Z"
   },
   {
    "duration": 22,
    "start_time": "2022-12-04T12:37:23.410Z"
   },
   {
    "duration": 19,
    "start_time": "2022-12-04T12:37:23.434Z"
   },
   {
    "duration": 10,
    "start_time": "2022-12-04T12:37:23.454Z"
   },
   {
    "duration": 387,
    "start_time": "2022-12-04T12:37:23.468Z"
   },
   {
    "duration": 345,
    "start_time": "2022-12-04T12:37:23.857Z"
   },
   {
    "duration": 29,
    "start_time": "2022-12-04T12:37:24.204Z"
   },
   {
    "duration": 5,
    "start_time": "2022-12-04T12:37:24.236Z"
   },
   {
    "duration": 890,
    "start_time": "2022-12-04T12:37:24.244Z"
   },
   {
    "duration": 4,
    "start_time": "2022-12-04T12:37:25.136Z"
   },
   {
    "duration": 16,
    "start_time": "2022-12-04T12:37:25.142Z"
   },
   {
    "duration": 1502,
    "start_time": "2022-12-04T12:37:25.160Z"
   },
   {
    "duration": 0,
    "start_time": "2022-12-04T12:37:26.664Z"
   },
   {
    "duration": 0,
    "start_time": "2022-12-04T12:37:26.665Z"
   },
   {
    "duration": 0,
    "start_time": "2022-12-04T12:37:26.666Z"
   },
   {
    "duration": 0,
    "start_time": "2022-12-04T12:37:26.668Z"
   },
   {
    "duration": 0,
    "start_time": "2022-12-04T12:37:26.669Z"
   },
   {
    "duration": 0,
    "start_time": "2022-12-04T12:37:26.670Z"
   },
   {
    "duration": 0,
    "start_time": "2022-12-04T12:37:26.671Z"
   },
   {
    "duration": 0,
    "start_time": "2022-12-04T12:37:26.672Z"
   },
   {
    "duration": 0,
    "start_time": "2022-12-04T12:37:26.673Z"
   },
   {
    "duration": 0,
    "start_time": "2022-12-04T12:37:26.674Z"
   },
   {
    "duration": 0,
    "start_time": "2022-12-04T12:37:26.675Z"
   },
   {
    "duration": 0,
    "start_time": "2022-12-04T12:37:26.676Z"
   },
   {
    "duration": 0,
    "start_time": "2022-12-04T12:37:26.677Z"
   },
   {
    "duration": 0,
    "start_time": "2022-12-04T12:37:26.678Z"
   },
   {
    "duration": 0,
    "start_time": "2022-12-04T12:37:26.679Z"
   },
   {
    "duration": 0,
    "start_time": "2022-12-04T12:37:26.680Z"
   },
   {
    "duration": 0,
    "start_time": "2022-12-04T12:37:26.681Z"
   },
   {
    "duration": 0,
    "start_time": "2022-12-04T12:37:26.682Z"
   },
   {
    "duration": 0,
    "start_time": "2022-12-04T12:37:26.683Z"
   },
   {
    "duration": 1,
    "start_time": "2022-12-04T12:37:26.684Z"
   },
   {
    "duration": 0,
    "start_time": "2022-12-04T12:37:26.722Z"
   },
   {
    "duration": 0,
    "start_time": "2022-12-04T12:37:26.723Z"
   },
   {
    "duration": 0,
    "start_time": "2022-12-04T12:37:26.725Z"
   },
   {
    "duration": 0,
    "start_time": "2022-12-04T12:37:26.726Z"
   },
   {
    "duration": 0,
    "start_time": "2022-12-04T12:37:26.826Z"
   },
   {
    "duration": 0,
    "start_time": "2022-12-04T12:37:26.828Z"
   },
   {
    "duration": 0,
    "start_time": "2022-12-04T12:37:26.829Z"
   },
   {
    "duration": 0,
    "start_time": "2022-12-04T12:37:26.830Z"
   },
   {
    "duration": 0,
    "start_time": "2022-12-04T12:37:26.831Z"
   },
   {
    "duration": 0,
    "start_time": "2022-12-04T12:37:26.832Z"
   },
   {
    "duration": 1,
    "start_time": "2022-12-04T12:37:26.833Z"
   },
   {
    "duration": 0,
    "start_time": "2022-12-04T12:37:26.835Z"
   },
   {
    "duration": 0,
    "start_time": "2022-12-04T12:37:26.836Z"
   },
   {
    "duration": 0,
    "start_time": "2022-12-04T12:37:26.838Z"
   },
   {
    "duration": 0,
    "start_time": "2022-12-04T12:37:26.839Z"
   },
   {
    "duration": 0,
    "start_time": "2022-12-04T12:37:26.840Z"
   },
   {
    "duration": 0,
    "start_time": "2022-12-04T12:37:26.842Z"
   },
   {
    "duration": 0,
    "start_time": "2022-12-04T12:37:26.843Z"
   },
   {
    "duration": 0,
    "start_time": "2022-12-04T12:37:26.844Z"
   },
   {
    "duration": 0,
    "start_time": "2022-12-04T12:37:26.846Z"
   },
   {
    "duration": 0,
    "start_time": "2022-12-04T12:37:26.848Z"
   },
   {
    "duration": 0,
    "start_time": "2022-12-04T12:37:26.849Z"
   },
   {
    "duration": 0,
    "start_time": "2022-12-04T12:37:26.850Z"
   },
   {
    "duration": 0,
    "start_time": "2022-12-04T12:37:26.852Z"
   },
   {
    "duration": 0,
    "start_time": "2022-12-04T12:37:26.853Z"
   },
   {
    "duration": 0,
    "start_time": "2022-12-04T12:37:26.855Z"
   },
   {
    "duration": 0,
    "start_time": "2022-12-04T12:37:26.856Z"
   },
   {
    "duration": 0,
    "start_time": "2022-12-04T12:37:26.858Z"
   },
   {
    "duration": 0,
    "start_time": "2022-12-04T12:37:26.859Z"
   },
   {
    "duration": 0,
    "start_time": "2022-12-04T12:37:26.861Z"
   },
   {
    "duration": 0,
    "start_time": "2022-12-04T12:37:26.862Z"
   },
   {
    "duration": 0,
    "start_time": "2022-12-04T12:37:26.923Z"
   },
   {
    "duration": 3,
    "start_time": "2022-12-04T12:38:17.584Z"
   },
   {
    "duration": 4,
    "start_time": "2022-12-04T12:38:24.139Z"
   },
   {
    "duration": 321,
    "start_time": "2022-12-04T12:38:24.674Z"
   },
   {
    "duration": 3,
    "start_time": "2022-12-04T12:38:36.770Z"
   },
   {
    "duration": 3,
    "start_time": "2022-12-04T12:38:37.125Z"
   },
   {
    "duration": 302,
    "start_time": "2022-12-04T12:38:37.553Z"
   },
   {
    "duration": 10,
    "start_time": "2022-12-04T12:40:25.071Z"
   },
   {
    "duration": 28,
    "start_time": "2022-12-04T12:40:41.441Z"
   },
   {
    "duration": 17,
    "start_time": "2022-12-04T12:40:45.701Z"
   },
   {
    "duration": 3,
    "start_time": "2022-12-04T12:40:57.523Z"
   },
   {
    "duration": 841,
    "start_time": "2022-12-04T12:40:58.312Z"
   },
   {
    "duration": 4,
    "start_time": "2022-12-04T12:41:14.827Z"
   },
   {
    "duration": 3,
    "start_time": "2022-12-04T12:41:15.232Z"
   },
   {
    "duration": 325,
    "start_time": "2022-12-04T12:41:15.738Z"
   },
   {
    "duration": 1208,
    "start_time": "2022-12-04T12:42:56.115Z"
   },
   {
    "duration": 62,
    "start_time": "2022-12-04T12:42:57.325Z"
   },
   {
    "duration": 6,
    "start_time": "2022-12-04T12:42:57.389Z"
   },
   {
    "duration": 20,
    "start_time": "2022-12-04T12:42:57.397Z"
   },
   {
    "duration": 4,
    "start_time": "2022-12-04T12:42:57.418Z"
   },
   {
    "duration": 27,
    "start_time": "2022-12-04T12:42:57.423Z"
   },
   {
    "duration": 9,
    "start_time": "2022-12-04T12:42:57.452Z"
   },
   {
    "duration": 16,
    "start_time": "2022-12-04T12:42:57.463Z"
   },
   {
    "duration": 16,
    "start_time": "2022-12-04T12:42:57.481Z"
   },
   {
    "duration": 18,
    "start_time": "2022-12-04T12:42:57.499Z"
   },
   {
    "duration": 17,
    "start_time": "2022-12-04T12:42:57.519Z"
   },
   {
    "duration": 25,
    "start_time": "2022-12-04T12:42:57.538Z"
   },
   {
    "duration": 21,
    "start_time": "2022-12-04T12:42:57.564Z"
   },
   {
    "duration": 32,
    "start_time": "2022-12-04T12:42:57.587Z"
   },
   {
    "duration": 35,
    "start_time": "2022-12-04T12:42:57.621Z"
   },
   {
    "duration": 32,
    "start_time": "2022-12-04T12:42:57.657Z"
   },
   {
    "duration": 20,
    "start_time": "2022-12-04T12:42:57.691Z"
   },
   {
    "duration": 15,
    "start_time": "2022-12-04T12:42:57.713Z"
   },
   {
    "duration": 37,
    "start_time": "2022-12-04T12:42:57.729Z"
   },
   {
    "duration": 20,
    "start_time": "2022-12-04T12:42:57.767Z"
   },
   {
    "duration": 6,
    "start_time": "2022-12-04T12:42:57.789Z"
   },
   {
    "duration": 36,
    "start_time": "2022-12-04T12:42:57.797Z"
   },
   {
    "duration": 7,
    "start_time": "2022-12-04T12:42:57.835Z"
   },
   {
    "duration": 8,
    "start_time": "2022-12-04T12:42:57.843Z"
   },
   {
    "duration": 9,
    "start_time": "2022-12-04T12:42:57.852Z"
   },
   {
    "duration": 18,
    "start_time": "2022-12-04T12:42:57.862Z"
   },
   {
    "duration": 4,
    "start_time": "2022-12-04T12:42:57.882Z"
   },
   {
    "duration": 392,
    "start_time": "2022-12-04T12:42:57.890Z"
   },
   {
    "duration": 302,
    "start_time": "2022-12-04T12:42:58.283Z"
   },
   {
    "duration": 18,
    "start_time": "2022-12-04T12:42:58.587Z"
   },
   {
    "duration": 17,
    "start_time": "2022-12-04T12:42:58.607Z"
   },
   {
    "duration": 915,
    "start_time": "2022-12-04T12:42:58.625Z"
   },
   {
    "duration": 3,
    "start_time": "2022-12-04T12:42:59.542Z"
   },
   {
    "duration": 23,
    "start_time": "2022-12-04T12:42:59.547Z"
   },
   {
    "duration": 350,
    "start_time": "2022-12-04T12:42:59.572Z"
   },
   {
    "duration": 7,
    "start_time": "2022-12-04T12:42:59.925Z"
   },
   {
    "duration": 264,
    "start_time": "2022-12-04T12:42:59.934Z"
   },
   {
    "duration": 10,
    "start_time": "2022-12-04T12:43:00.200Z"
   },
   {
    "duration": 25,
    "start_time": "2022-12-04T12:43:00.222Z"
   },
   {
    "duration": 201,
    "start_time": "2022-12-04T12:43:00.249Z"
   },
   {
    "duration": 200,
    "start_time": "2022-12-04T12:43:00.452Z"
   },
   {
    "duration": 8,
    "start_time": "2022-12-04T12:43:00.654Z"
   },
   {
    "duration": 40,
    "start_time": "2022-12-04T12:43:00.663Z"
   },
   {
    "duration": 43,
    "start_time": "2022-12-04T12:43:00.705Z"
   },
   {
    "duration": 25,
    "start_time": "2022-12-04T12:43:00.750Z"
   },
   {
    "duration": 150,
    "start_time": "2022-12-04T12:43:00.776Z"
   },
   {
    "duration": 155,
    "start_time": "2022-12-04T12:43:00.928Z"
   },
   {
    "duration": 5,
    "start_time": "2022-12-04T12:43:01.085Z"
   },
   {
    "duration": 9,
    "start_time": "2022-12-04T12:43:01.091Z"
   },
   {
    "duration": 6,
    "start_time": "2022-12-04T12:43:01.102Z"
   },
   {
    "duration": 1384,
    "start_time": "2022-12-04T12:43:01.121Z"
   },
   {
    "duration": 30,
    "start_time": "2022-12-04T12:43:02.506Z"
   },
   {
    "duration": 198,
    "start_time": "2022-12-04T12:43:02.538Z"
   },
   {
    "duration": 11,
    "start_time": "2022-12-04T12:43:02.738Z"
   },
   {
    "duration": 23,
    "start_time": "2022-12-04T12:43:02.751Z"
   },
   {
    "duration": 32,
    "start_time": "2022-12-04T12:43:02.775Z"
   },
   {
    "duration": 409,
    "start_time": "2022-12-04T12:43:02.808Z"
   },
   {
    "duration": 17,
    "start_time": "2022-12-04T12:43:03.218Z"
   },
   {
    "duration": 16,
    "start_time": "2022-12-04T12:43:03.236Z"
   },
   {
    "duration": 21,
    "start_time": "2022-12-04T12:43:03.254Z"
   },
   {
    "duration": 334,
    "start_time": "2022-12-04T12:43:03.276Z"
   },
   {
    "duration": 23,
    "start_time": "2022-12-04T12:43:03.612Z"
   },
   {
    "duration": 15,
    "start_time": "2022-12-04T12:43:03.636Z"
   },
   {
    "duration": 15,
    "start_time": "2022-12-04T12:43:03.653Z"
   },
   {
    "duration": 364,
    "start_time": "2022-12-04T12:43:03.669Z"
   },
   {
    "duration": 10,
    "start_time": "2022-12-04T12:43:04.034Z"
   },
   {
    "duration": 35,
    "start_time": "2022-12-04T12:43:04.046Z"
   },
   {
    "duration": 27,
    "start_time": "2022-12-04T12:43:04.083Z"
   },
   {
    "duration": 34,
    "start_time": "2022-12-04T12:43:04.112Z"
   },
   {
    "duration": 372,
    "start_time": "2022-12-04T12:43:04.148Z"
   },
   {
    "duration": 16,
    "start_time": "2022-12-04T12:43:04.522Z"
   },
   {
    "duration": 18,
    "start_time": "2022-12-04T12:43:04.540Z"
   },
   {
    "duration": 20,
    "start_time": "2022-12-04T12:43:04.560Z"
   },
   {
    "duration": 336,
    "start_time": "2022-12-04T12:43:04.581Z"
   },
   {
    "duration": 21,
    "start_time": "2022-12-04T12:43:04.921Z"
   },
   {
    "duration": 16,
    "start_time": "2022-12-04T12:43:04.944Z"
   },
   {
    "duration": 15,
    "start_time": "2022-12-04T12:43:04.962Z"
   },
   {
    "duration": 406,
    "start_time": "2022-12-04T12:43:04.979Z"
   },
   {
    "duration": 5,
    "start_time": "2022-12-04T12:43:05.387Z"
   },
   {
    "duration": 12,
    "start_time": "2022-12-04T12:43:05.393Z"
   },
   {
    "duration": 19,
    "start_time": "2022-12-04T12:43:05.407Z"
   },
   {
    "duration": 13,
    "start_time": "2022-12-04T12:43:05.433Z"
   },
   {
    "duration": 12,
    "start_time": "2022-12-04T12:43:05.448Z"
   },
   {
    "duration": 13,
    "start_time": "2022-12-04T12:43:05.462Z"
   },
   {
    "duration": 7,
    "start_time": "2022-12-04T12:43:05.477Z"
   },
   {
    "duration": 6,
    "start_time": "2022-12-04T12:43:05.486Z"
   },
   {
    "duration": 31,
    "start_time": "2022-12-04T12:43:05.493Z"
   },
   {
    "duration": 2,
    "start_time": "2022-12-04T12:48:57.451Z"
   },
   {
    "duration": 8,
    "start_time": "2022-12-04T12:49:06.308Z"
   },
   {
    "duration": 6,
    "start_time": "2022-12-04T12:49:37.280Z"
   },
   {
    "duration": 191,
    "start_time": "2022-12-04T12:50:10.073Z"
   },
   {
    "duration": 1196,
    "start_time": "2022-12-04T12:50:46.781Z"
   },
   {
    "duration": 65,
    "start_time": "2022-12-04T12:50:47.979Z"
   },
   {
    "duration": 6,
    "start_time": "2022-12-04T12:50:48.046Z"
   },
   {
    "duration": 19,
    "start_time": "2022-12-04T12:50:48.054Z"
   },
   {
    "duration": 3,
    "start_time": "2022-12-04T12:50:48.075Z"
   },
   {
    "duration": 20,
    "start_time": "2022-12-04T12:50:48.080Z"
   },
   {
    "duration": 31,
    "start_time": "2022-12-04T12:50:48.101Z"
   },
   {
    "duration": 13,
    "start_time": "2022-12-04T12:50:48.134Z"
   },
   {
    "duration": 8,
    "start_time": "2022-12-04T12:50:48.149Z"
   },
   {
    "duration": 5,
    "start_time": "2022-12-04T12:50:48.160Z"
   },
   {
    "duration": 10,
    "start_time": "2022-12-04T12:50:48.167Z"
   },
   {
    "duration": 15,
    "start_time": "2022-12-04T12:50:48.178Z"
   },
   {
    "duration": 10,
    "start_time": "2022-12-04T12:50:48.223Z"
   },
   {
    "duration": 28,
    "start_time": "2022-12-04T12:50:48.235Z"
   },
   {
    "duration": 18,
    "start_time": "2022-12-04T12:50:48.265Z"
   },
   {
    "duration": 65,
    "start_time": "2022-12-04T12:50:48.285Z"
   },
   {
    "duration": 12,
    "start_time": "2022-12-04T12:50:48.352Z"
   },
   {
    "duration": 5,
    "start_time": "2022-12-04T12:50:48.366Z"
   },
   {
    "duration": 27,
    "start_time": "2022-12-04T12:50:48.372Z"
   },
   {
    "duration": 23,
    "start_time": "2022-12-04T12:50:48.421Z"
   },
   {
    "duration": 6,
    "start_time": "2022-12-04T12:50:48.446Z"
   },
   {
    "duration": 10,
    "start_time": "2022-12-04T12:50:48.453Z"
   },
   {
    "duration": 9,
    "start_time": "2022-12-04T12:50:48.464Z"
   },
   {
    "duration": 9,
    "start_time": "2022-12-04T12:50:48.474Z"
   },
   {
    "duration": 8,
    "start_time": "2022-12-04T12:50:48.484Z"
   },
   {
    "duration": 43,
    "start_time": "2022-12-04T12:50:48.494Z"
   },
   {
    "duration": 8,
    "start_time": "2022-12-04T12:50:48.539Z"
   },
   {
    "duration": 422,
    "start_time": "2022-12-04T12:50:48.552Z"
   },
   {
    "duration": 330,
    "start_time": "2022-12-04T12:50:48.975Z"
   },
   {
    "duration": 22,
    "start_time": "2022-12-04T12:50:49.307Z"
   },
   {
    "duration": 4,
    "start_time": "2022-12-04T12:50:49.332Z"
   },
   {
    "duration": 929,
    "start_time": "2022-12-04T12:50:49.338Z"
   },
   {
    "duration": 4,
    "start_time": "2022-12-04T12:50:50.268Z"
   },
   {
    "duration": 12,
    "start_time": "2022-12-04T12:50:50.273Z"
   },
   {
    "duration": 329,
    "start_time": "2022-12-04T12:50:50.287Z"
   },
   {
    "duration": 10,
    "start_time": "2022-12-04T12:50:50.618Z"
   },
   {
    "duration": 282,
    "start_time": "2022-12-04T12:50:50.630Z"
   },
   {
    "duration": 10,
    "start_time": "2022-12-04T12:50:50.913Z"
   },
   {
    "duration": 9,
    "start_time": "2022-12-04T12:50:50.925Z"
   },
   {
    "duration": 9,
    "start_time": "2022-12-04T12:50:50.936Z"
   },
   {
    "duration": 166,
    "start_time": "2022-12-04T12:50:50.947Z"
   },
   {
    "duration": 158,
    "start_time": "2022-12-04T12:50:51.115Z"
   },
   {
    "duration": 5,
    "start_time": "2022-12-04T12:50:51.275Z"
   },
   {
    "duration": 7,
    "start_time": "2022-12-04T12:50:51.282Z"
   },
   {
    "duration": 24,
    "start_time": "2022-12-04T12:50:51.291Z"
   },
   {
    "duration": 1460,
    "start_time": "2022-12-04T12:50:51.317Z"
   },
   {
    "duration": 19,
    "start_time": "2022-12-04T12:50:52.780Z"
   },
   {
    "duration": 233,
    "start_time": "2022-12-04T12:50:52.801Z"
   },
   {
    "duration": 16,
    "start_time": "2022-12-04T12:50:53.037Z"
   },
   {
    "duration": 14,
    "start_time": "2022-12-04T12:50:53.055Z"
   },
   {
    "duration": 14,
    "start_time": "2022-12-04T12:50:53.070Z"
   },
   {
    "duration": 371,
    "start_time": "2022-12-04T12:50:53.086Z"
   },
   {
    "duration": 16,
    "start_time": "2022-12-04T12:50:53.458Z"
   },
   {
    "duration": 15,
    "start_time": "2022-12-04T12:50:53.475Z"
   },
   {
    "duration": 45,
    "start_time": "2022-12-04T12:50:53.492Z"
   },
   {
    "duration": 437,
    "start_time": "2022-12-04T12:50:53.540Z"
   },
   {
    "duration": 16,
    "start_time": "2022-12-04T12:50:53.978Z"
   },
   {
    "duration": 28,
    "start_time": "2022-12-04T12:50:53.996Z"
   },
   {
    "duration": 29,
    "start_time": "2022-12-04T12:50:54.026Z"
   },
   {
    "duration": 420,
    "start_time": "2022-12-04T12:50:54.057Z"
   },
   {
    "duration": 8,
    "start_time": "2022-12-04T12:50:54.479Z"
   },
   {
    "duration": 40,
    "start_time": "2022-12-04T12:50:54.489Z"
   },
   {
    "duration": 22,
    "start_time": "2022-12-04T12:50:54.532Z"
   },
   {
    "duration": 17,
    "start_time": "2022-12-04T12:50:54.556Z"
   },
   {
    "duration": 354,
    "start_time": "2022-12-04T12:50:54.575Z"
   },
   {
    "duration": 27,
    "start_time": "2022-12-04T12:50:54.931Z"
   },
   {
    "duration": 16,
    "start_time": "2022-12-04T12:50:54.960Z"
   },
   {
    "duration": 15,
    "start_time": "2022-12-04T12:50:54.978Z"
   },
   {
    "duration": 344,
    "start_time": "2022-12-04T12:50:54.995Z"
   },
   {
    "duration": 16,
    "start_time": "2022-12-04T12:50:55.342Z"
   },
   {
    "duration": 16,
    "start_time": "2022-12-04T12:50:55.360Z"
   },
   {
    "duration": 18,
    "start_time": "2022-12-04T12:50:55.377Z"
   },
   {
    "duration": 317,
    "start_time": "2022-12-04T12:50:55.397Z"
   },
   {
    "duration": 7,
    "start_time": "2022-12-04T12:50:55.722Z"
   },
   {
    "duration": 14,
    "start_time": "2022-12-04T12:50:55.731Z"
   },
   {
    "duration": 13,
    "start_time": "2022-12-04T12:50:55.747Z"
   },
   {
    "duration": 27,
    "start_time": "2022-12-04T12:50:55.762Z"
   },
   {
    "duration": 7,
    "start_time": "2022-12-04T12:50:55.790Z"
   },
   {
    "duration": 28,
    "start_time": "2022-12-04T12:50:55.799Z"
   },
   {
    "duration": 34,
    "start_time": "2022-12-04T12:50:55.835Z"
   },
   {
    "duration": 16,
    "start_time": "2022-12-04T12:50:55.871Z"
   },
   {
    "duration": 20,
    "start_time": "2022-12-04T12:50:55.894Z"
   },
   {
    "duration": 4,
    "start_time": "2022-12-04T12:54:57.266Z"
   },
   {
    "duration": 3,
    "start_time": "2022-12-04T12:55:20.805Z"
   },
   {
    "duration": 1471,
    "start_time": "2022-12-04T12:55:21.271Z"
   },
   {
    "duration": 17,
    "start_time": "2022-12-04T12:57:12.852Z"
   },
   {
    "duration": 17,
    "start_time": "2022-12-04T12:58:22.147Z"
   },
   {
    "duration": 281,
    "start_time": "2022-12-04T12:59:30.560Z"
   },
   {
    "duration": 313,
    "start_time": "2022-12-04T12:59:47.069Z"
   },
   {
    "duration": 302,
    "start_time": "2022-12-04T12:59:57.516Z"
   },
   {
    "duration": 439,
    "start_time": "2022-12-04T13:00:02.480Z"
   },
   {
    "duration": 361,
    "start_time": "2022-12-04T13:01:44.190Z"
   },
   {
    "duration": 294,
    "start_time": "2022-12-04T13:01:50.147Z"
   },
   {
    "duration": 177,
    "start_time": "2022-12-04T13:02:14.941Z"
   },
   {
    "duration": 312,
    "start_time": "2022-12-04T13:02:39.271Z"
   },
   {
    "duration": 337,
    "start_time": "2022-12-04T13:02:42.725Z"
   },
   {
    "duration": 407,
    "start_time": "2022-12-04T13:02:52.856Z"
   },
   {
    "duration": 308,
    "start_time": "2022-12-04T13:02:57.216Z"
   },
   {
    "duration": 336,
    "start_time": "2022-12-04T13:03:22.520Z"
   },
   {
    "duration": 282,
    "start_time": "2022-12-04T13:03:35.589Z"
   },
   {
    "duration": 337,
    "start_time": "2022-12-04T13:04:53.977Z"
   },
   {
    "duration": 296,
    "start_time": "2022-12-04T13:05:02.908Z"
   },
   {
    "duration": 413,
    "start_time": "2022-12-04T13:05:07.064Z"
   },
   {
    "duration": 358,
    "start_time": "2022-12-04T13:05:17.800Z"
   },
   {
    "duration": 276,
    "start_time": "2022-12-04T13:05:29.930Z"
   },
   {
    "duration": 319,
    "start_time": "2022-12-04T13:05:41.372Z"
   },
   {
    "duration": 199,
    "start_time": "2022-12-04T13:08:25.047Z"
   },
   {
    "duration": 311,
    "start_time": "2022-12-04T13:08:43.151Z"
   },
   {
    "duration": 11,
    "start_time": "2022-12-04T13:11:35.363Z"
   },
   {
    "duration": 15,
    "start_time": "2022-12-04T13:11:35.758Z"
   },
   {
    "duration": 19,
    "start_time": "2022-12-04T13:11:36.825Z"
   },
   {
    "duration": 435,
    "start_time": "2022-12-04T13:11:40.286Z"
   },
   {
    "duration": 17,
    "start_time": "2022-12-04T13:12:28.006Z"
   },
   {
    "duration": 15,
    "start_time": "2022-12-04T13:12:31.148Z"
   },
   {
    "duration": 19,
    "start_time": "2022-12-04T13:12:34.069Z"
   },
   {
    "duration": 390,
    "start_time": "2022-12-04T13:12:39.478Z"
   },
   {
    "duration": 23,
    "start_time": "2022-12-04T13:13:01.031Z"
   },
   {
    "duration": 16,
    "start_time": "2022-12-04T13:13:04.572Z"
   },
   {
    "duration": 15,
    "start_time": "2022-12-04T13:13:08.576Z"
   },
   {
    "duration": 340,
    "start_time": "2022-12-04T13:13:10.759Z"
   },
   {
    "duration": 18,
    "start_time": "2022-12-04T13:13:28.747Z"
   },
   {
    "duration": 21,
    "start_time": "2022-12-04T13:13:29.237Z"
   },
   {
    "duration": 16,
    "start_time": "2022-12-04T13:13:29.801Z"
   },
   {
    "duration": 300,
    "start_time": "2022-12-04T13:13:32.236Z"
   },
   {
    "duration": 16,
    "start_time": "2022-12-04T13:14:08.546Z"
   },
   {
    "duration": 23,
    "start_time": "2022-12-04T13:14:12.342Z"
   },
   {
    "duration": 19,
    "start_time": "2022-12-04T13:14:14.208Z"
   },
   {
    "duration": 355,
    "start_time": "2022-12-04T13:14:15.654Z"
   },
   {
    "duration": 15,
    "start_time": "2022-12-04T13:14:18.483Z"
   },
   {
    "duration": 16,
    "start_time": "2022-12-04T13:14:20.158Z"
   },
   {
    "duration": 19,
    "start_time": "2022-12-04T13:14:20.728Z"
   },
   {
    "duration": 440,
    "start_time": "2022-12-04T13:14:21.339Z"
   },
   {
    "duration": 8,
    "start_time": "2022-12-04T13:15:47.960Z"
   },
   {
    "duration": 7,
    "start_time": "2022-12-04T13:15:50.988Z"
   },
   {
    "duration": 7,
    "start_time": "2022-12-04T13:15:51.611Z"
   },
   {
    "duration": 6,
    "start_time": "2022-12-04T13:15:58.745Z"
   },
   {
    "duration": 22,
    "start_time": "2022-12-04T13:20:21.278Z"
   },
   {
    "duration": 13,
    "start_time": "2022-12-04T13:20:39.372Z"
   },
   {
    "duration": 19,
    "start_time": "2022-12-04T13:20:45.617Z"
   },
   {
    "duration": 13,
    "start_time": "2022-12-04T13:21:28.878Z"
   },
   {
    "duration": 17,
    "start_time": "2022-12-04T13:21:34.920Z"
   },
   {
    "duration": 104,
    "start_time": "2022-12-04T13:22:08.059Z"
   },
   {
    "duration": 92,
    "start_time": "2022-12-04T13:22:17.585Z"
   },
   {
    "duration": 13,
    "start_time": "2022-12-04T13:22:22.605Z"
   },
   {
    "duration": 19,
    "start_time": "2022-12-04T13:22:28.232Z"
   },
   {
    "duration": 1151,
    "start_time": "2022-12-04T13:23:44.635Z"
   },
   {
    "duration": 14,
    "start_time": "2022-12-04T13:23:57.021Z"
   },
   {
    "duration": 18,
    "start_time": "2022-12-04T13:24:02.009Z"
   },
   {
    "duration": 18,
    "start_time": "2022-12-04T13:24:40.419Z"
   },
   {
    "duration": 19,
    "start_time": "2022-12-04T13:24:45.792Z"
   },
   {
    "duration": 13,
    "start_time": "2022-12-04T13:25:38.872Z"
   },
   {
    "duration": 21,
    "start_time": "2022-12-04T13:25:45.045Z"
   },
   {
    "duration": 15,
    "start_time": "2022-12-04T13:26:34.198Z"
   },
   {
    "duration": 18,
    "start_time": "2022-12-04T13:26:39.135Z"
   },
   {
    "duration": 13,
    "start_time": "2022-12-04T13:27:13.984Z"
   },
   {
    "duration": 19,
    "start_time": "2022-12-04T13:27:21.569Z"
   },
   {
    "duration": 14,
    "start_time": "2022-12-04T13:27:58.981Z"
   },
   {
    "duration": 17,
    "start_time": "2022-12-04T13:28:07.155Z"
   },
   {
    "duration": 1902,
    "start_time": "2022-12-05T08:34:24.925Z"
   },
   {
    "duration": 213,
    "start_time": "2022-12-05T08:34:26.829Z"
   },
   {
    "duration": 5,
    "start_time": "2022-12-05T08:34:27.044Z"
   },
   {
    "duration": 18,
    "start_time": "2022-12-05T08:34:27.105Z"
   },
   {
    "duration": 4,
    "start_time": "2022-12-05T08:34:27.126Z"
   },
   {
    "duration": 86,
    "start_time": "2022-12-05T08:34:27.132Z"
   },
   {
    "duration": 10,
    "start_time": "2022-12-05T08:34:27.219Z"
   },
   {
    "duration": 12,
    "start_time": "2022-12-05T08:34:27.230Z"
   },
   {
    "duration": 66,
    "start_time": "2022-12-05T08:34:27.244Z"
   },
   {
    "duration": 42,
    "start_time": "2022-12-05T08:34:27.312Z"
   },
   {
    "duration": 62,
    "start_time": "2022-12-05T08:34:27.356Z"
   },
   {
    "duration": 19,
    "start_time": "2022-12-05T08:34:27.420Z"
   },
   {
    "duration": 15,
    "start_time": "2022-12-05T08:34:27.440Z"
   },
   {
    "duration": 32,
    "start_time": "2022-12-05T08:34:27.508Z"
   },
   {
    "duration": 79,
    "start_time": "2022-12-05T08:34:27.541Z"
   },
   {
    "duration": 24,
    "start_time": "2022-12-05T08:34:27.621Z"
   },
   {
    "duration": 69,
    "start_time": "2022-12-05T08:34:27.646Z"
   },
   {
    "duration": 4,
    "start_time": "2022-12-05T08:34:27.717Z"
   },
   {
    "duration": 22,
    "start_time": "2022-12-05T08:34:27.723Z"
   },
   {
    "duration": 69,
    "start_time": "2022-12-05T08:34:27.747Z"
   },
   {
    "duration": 5,
    "start_time": "2022-12-05T08:34:27.818Z"
   },
   {
    "duration": 9,
    "start_time": "2022-12-05T08:34:27.825Z"
   },
   {
    "duration": 6,
    "start_time": "2022-12-05T08:34:27.836Z"
   },
   {
    "duration": 63,
    "start_time": "2022-12-05T08:34:27.843Z"
   },
   {
    "duration": 6,
    "start_time": "2022-12-05T08:34:27.907Z"
   },
   {
    "duration": 19,
    "start_time": "2022-12-05T08:34:27.915Z"
   },
   {
    "duration": 6,
    "start_time": "2022-12-05T08:34:27.936Z"
   },
   {
    "duration": 817,
    "start_time": "2022-12-05T08:34:28.004Z"
   },
   {
    "duration": 586,
    "start_time": "2022-12-05T08:34:28.823Z"
   },
   {
    "duration": 18,
    "start_time": "2022-12-05T08:34:29.411Z"
   },
   {
    "duration": 4,
    "start_time": "2022-12-05T08:34:29.431Z"
   },
   {
    "duration": 1612,
    "start_time": "2022-12-05T08:34:29.436Z"
   },
   {
    "duration": 4,
    "start_time": "2022-12-05T08:34:31.104Z"
   },
   {
    "duration": 42,
    "start_time": "2022-12-05T08:34:31.110Z"
   },
   {
    "duration": 596,
    "start_time": "2022-12-05T08:34:31.154Z"
   },
   {
    "duration": 54,
    "start_time": "2022-12-05T08:34:31.752Z"
   },
   {
    "duration": 537,
    "start_time": "2022-12-05T08:34:31.808Z"
   },
   {
    "duration": 60,
    "start_time": "2022-12-05T08:34:32.347Z"
   },
   {
    "duration": 9,
    "start_time": "2022-12-05T08:34:32.408Z"
   },
   {
    "duration": 18,
    "start_time": "2022-12-05T08:34:32.418Z"
   },
   {
    "duration": 289,
    "start_time": "2022-12-05T08:34:32.440Z"
   },
   {
    "duration": 292,
    "start_time": "2022-12-05T08:34:32.731Z"
   },
   {
    "duration": 5,
    "start_time": "2022-12-05T08:34:33.025Z"
   },
   {
    "duration": 12,
    "start_time": "2022-12-05T08:34:33.031Z"
   },
   {
    "duration": 60,
    "start_time": "2022-12-05T08:34:33.045Z"
   },
   {
    "duration": 2604,
    "start_time": "2022-12-05T08:34:33.106Z"
   },
   {
    "duration": 17,
    "start_time": "2022-12-05T08:34:35.711Z"
   },
   {
    "duration": 477,
    "start_time": "2022-12-05T08:34:35.729Z"
   },
   {
    "duration": 801,
    "start_time": "2022-12-05T08:34:36.208Z"
   },
   {
    "duration": 797,
    "start_time": "2022-12-05T08:34:37.010Z"
   },
   {
    "duration": 14,
    "start_time": "2022-12-05T08:34:37.809Z"
   },
   {
    "duration": 27,
    "start_time": "2022-12-05T08:34:37.825Z"
   },
   {
    "duration": 16,
    "start_time": "2022-12-05T08:34:37.905Z"
   },
   {
    "duration": 331,
    "start_time": "2022-12-05T08:34:37.922Z"
   },
   {
    "duration": 18,
    "start_time": "2022-12-05T08:34:38.255Z"
   },
   {
    "duration": 14,
    "start_time": "2022-12-05T08:34:38.274Z"
   },
   {
    "duration": 26,
    "start_time": "2022-12-05T08:34:38.289Z"
   },
   {
    "duration": 325,
    "start_time": "2022-12-05T08:34:38.317Z"
   },
   {
    "duration": 16,
    "start_time": "2022-12-05T08:34:38.644Z"
   },
   {
    "duration": 14,
    "start_time": "2022-12-05T08:34:38.661Z"
   },
   {
    "duration": 36,
    "start_time": "2022-12-05T08:34:38.677Z"
   },
   {
    "duration": 302,
    "start_time": "2022-12-05T08:34:38.715Z"
   },
   {
    "duration": 18,
    "start_time": "2022-12-05T08:34:39.019Z"
   },
   {
    "duration": 14,
    "start_time": "2022-12-05T08:34:39.039Z"
   },
   {
    "duration": 13,
    "start_time": "2022-12-05T08:34:39.055Z"
   },
   {
    "duration": 300,
    "start_time": "2022-12-05T08:34:39.070Z"
   },
   {
    "duration": 15,
    "start_time": "2022-12-05T08:34:39.372Z"
   },
   {
    "duration": 30,
    "start_time": "2022-12-05T08:34:39.388Z"
   },
   {
    "duration": 14,
    "start_time": "2022-12-05T08:34:39.420Z"
   },
   {
    "duration": 398,
    "start_time": "2022-12-05T08:34:39.435Z"
   },
   {
    "duration": 16,
    "start_time": "2022-12-05T08:34:39.834Z"
   },
   {
    "duration": 20,
    "start_time": "2022-12-05T08:34:39.852Z"
   },
   {
    "duration": 31,
    "start_time": "2022-12-05T08:34:39.874Z"
   },
   {
    "duration": 290,
    "start_time": "2022-12-05T08:34:39.907Z"
   },
   {
    "duration": 9,
    "start_time": "2022-12-05T08:34:40.199Z"
   },
   {
    "duration": 12,
    "start_time": "2022-12-05T08:34:40.210Z"
   },
   {
    "duration": 9,
    "start_time": "2022-12-05T08:34:40.224Z"
   },
   {
    "duration": 9,
    "start_time": "2022-12-05T08:34:40.234Z"
   },
   {
    "duration": 25,
    "start_time": "2022-12-05T08:34:40.244Z"
   },
   {
    "duration": 14,
    "start_time": "2022-12-05T08:34:40.271Z"
   },
   {
    "duration": 8,
    "start_time": "2022-12-05T08:34:40.287Z"
   },
   {
    "duration": 18,
    "start_time": "2022-12-05T08:34:40.296Z"
   },
   {
    "duration": 7,
    "start_time": "2022-12-05T08:34:40.316Z"
   },
   {
    "duration": 7,
    "start_time": "2022-12-05T08:48:04.117Z"
   },
   {
    "duration": 6,
    "start_time": "2022-12-05T08:58:00.291Z"
   },
   {
    "duration": 1231,
    "start_time": "2022-12-05T08:59:23.886Z"
   },
   {
    "duration": 64,
    "start_time": "2022-12-05T08:59:25.119Z"
   },
   {
    "duration": 5,
    "start_time": "2022-12-05T08:59:25.184Z"
   },
   {
    "duration": 21,
    "start_time": "2022-12-05T08:59:25.191Z"
   },
   {
    "duration": 3,
    "start_time": "2022-12-05T08:59:25.214Z"
   },
   {
    "duration": 15,
    "start_time": "2022-12-05T08:59:25.219Z"
   },
   {
    "duration": 8,
    "start_time": "2022-12-05T08:59:25.236Z"
   },
   {
    "duration": 11,
    "start_time": "2022-12-05T08:59:25.245Z"
   },
   {
    "duration": 11,
    "start_time": "2022-12-05T08:59:25.257Z"
   },
   {
    "duration": 5,
    "start_time": "2022-12-05T08:59:25.270Z"
   },
   {
    "duration": 29,
    "start_time": "2022-12-05T08:59:25.276Z"
   },
   {
    "duration": 14,
    "start_time": "2022-12-05T08:59:25.307Z"
   },
   {
    "duration": 8,
    "start_time": "2022-12-05T08:59:25.323Z"
   },
   {
    "duration": 22,
    "start_time": "2022-12-05T08:59:25.333Z"
   },
   {
    "duration": 20,
    "start_time": "2022-12-05T08:59:25.357Z"
   },
   {
    "duration": 47,
    "start_time": "2022-12-05T08:59:25.379Z"
   },
   {
    "duration": 14,
    "start_time": "2022-12-05T08:59:25.428Z"
   },
   {
    "duration": 6,
    "start_time": "2022-12-05T08:59:25.444Z"
   },
   {
    "duration": 54,
    "start_time": "2022-12-05T08:59:25.452Z"
   },
   {
    "duration": 13,
    "start_time": "2022-12-05T08:59:25.508Z"
   },
   {
    "duration": 6,
    "start_time": "2022-12-05T08:59:25.523Z"
   },
   {
    "duration": 12,
    "start_time": "2022-12-05T08:59:25.530Z"
   },
   {
    "duration": 8,
    "start_time": "2022-12-05T08:59:25.544Z"
   },
   {
    "duration": 7,
    "start_time": "2022-12-05T08:59:25.554Z"
   },
   {
    "duration": 8,
    "start_time": "2022-12-05T08:59:25.562Z"
   },
   {
    "duration": 46,
    "start_time": "2022-12-05T08:59:25.572Z"
   },
   {
    "duration": 10,
    "start_time": "2022-12-05T08:59:25.620Z"
   },
   {
    "duration": 7,
    "start_time": "2022-12-05T08:59:25.634Z"
   },
   {
    "duration": 372,
    "start_time": "2022-12-05T08:59:25.643Z"
   },
   {
    "duration": 283,
    "start_time": "2022-12-05T08:59:26.017Z"
   },
   {
    "duration": 18,
    "start_time": "2022-12-05T08:59:26.305Z"
   },
   {
    "duration": 3,
    "start_time": "2022-12-05T08:59:26.325Z"
   },
   {
    "duration": 789,
    "start_time": "2022-12-05T08:59:26.330Z"
   },
   {
    "duration": 3,
    "start_time": "2022-12-05T08:59:27.121Z"
   },
   {
    "duration": 21,
    "start_time": "2022-12-05T08:59:27.125Z"
   },
   {
    "duration": 327,
    "start_time": "2022-12-05T08:59:27.148Z"
   },
   {
    "duration": 6,
    "start_time": "2022-12-05T08:59:27.477Z"
   },
   {
    "duration": 306,
    "start_time": "2022-12-05T08:59:27.485Z"
   },
   {
    "duration": 6,
    "start_time": "2022-12-05T08:59:27.792Z"
   },
   {
    "duration": 18,
    "start_time": "2022-12-05T08:59:27.803Z"
   },
   {
    "duration": 9,
    "start_time": "2022-12-05T08:59:27.823Z"
   },
   {
    "duration": 151,
    "start_time": "2022-12-05T08:59:27.834Z"
   },
   {
    "duration": 161,
    "start_time": "2022-12-05T08:59:27.987Z"
   },
   {
    "duration": 6,
    "start_time": "2022-12-05T08:59:28.150Z"
   },
   {
    "duration": 11,
    "start_time": "2022-12-05T08:59:28.157Z"
   },
   {
    "duration": 8,
    "start_time": "2022-12-05T08:59:28.170Z"
   },
   {
    "duration": 1273,
    "start_time": "2022-12-05T08:59:28.179Z"
   },
   {
    "duration": 15,
    "start_time": "2022-12-05T08:59:29.453Z"
   },
   {
    "duration": 184,
    "start_time": "2022-12-05T08:59:29.469Z"
   },
   {
    "duration": 273,
    "start_time": "2022-12-05T08:59:29.655Z"
   },
   {
    "duration": 370,
    "start_time": "2022-12-05T08:59:29.930Z"
   },
   {
    "duration": 17,
    "start_time": "2022-12-05T08:59:30.302Z"
   },
   {
    "duration": 18,
    "start_time": "2022-12-05T08:59:30.321Z"
   },
   {
    "duration": 15,
    "start_time": "2022-12-05T08:59:30.341Z"
   },
   {
    "duration": 318,
    "start_time": "2022-12-05T08:59:30.358Z"
   },
   {
    "duration": 26,
    "start_time": "2022-12-05T08:59:30.678Z"
   },
   {
    "duration": 21,
    "start_time": "2022-12-05T08:59:30.706Z"
   },
   {
    "duration": 39,
    "start_time": "2022-12-05T08:59:30.729Z"
   },
   {
    "duration": 314,
    "start_time": "2022-12-05T08:59:30.770Z"
   },
   {
    "duration": 24,
    "start_time": "2022-12-05T08:59:31.085Z"
   },
   {
    "duration": 28,
    "start_time": "2022-12-05T08:59:31.111Z"
   },
   {
    "duration": 35,
    "start_time": "2022-12-05T08:59:31.141Z"
   },
   {
    "duration": 309,
    "start_time": "2022-12-05T08:59:31.177Z"
   },
   {
    "duration": 26,
    "start_time": "2022-12-05T08:59:31.488Z"
   },
   {
    "duration": 14,
    "start_time": "2022-12-05T08:59:31.515Z"
   },
   {
    "duration": 18,
    "start_time": "2022-12-05T08:59:31.530Z"
   },
   {
    "duration": 301,
    "start_time": "2022-12-05T08:59:31.550Z"
   },
   {
    "duration": 21,
    "start_time": "2022-12-05T08:59:31.853Z"
   },
   {
    "duration": 35,
    "start_time": "2022-12-05T08:59:31.875Z"
   },
   {
    "duration": 19,
    "start_time": "2022-12-05T08:59:31.913Z"
   },
   {
    "duration": 442,
    "start_time": "2022-12-05T08:59:31.934Z"
   },
   {
    "duration": 16,
    "start_time": "2022-12-05T08:59:32.378Z"
   },
   {
    "duration": 15,
    "start_time": "2022-12-05T08:59:32.405Z"
   },
   {
    "duration": 15,
    "start_time": "2022-12-05T08:59:32.422Z"
   },
   {
    "duration": 312,
    "start_time": "2022-12-05T08:59:32.439Z"
   },
   {
    "duration": 5,
    "start_time": "2022-12-05T08:59:32.752Z"
   },
   {
    "duration": 10,
    "start_time": "2022-12-05T08:59:32.759Z"
   },
   {
    "duration": 8,
    "start_time": "2022-12-05T08:59:32.771Z"
   },
   {
    "duration": 27,
    "start_time": "2022-12-05T08:59:32.781Z"
   },
   {
    "duration": 6,
    "start_time": "2022-12-05T08:59:32.810Z"
   },
   {
    "duration": 10,
    "start_time": "2022-12-05T08:59:32.818Z"
   },
   {
    "duration": 8,
    "start_time": "2022-12-05T08:59:32.834Z"
   },
   {
    "duration": 7,
    "start_time": "2022-12-05T08:59:32.844Z"
   },
   {
    "duration": 11,
    "start_time": "2022-12-05T08:59:32.853Z"
   },
   {
    "duration": 38,
    "start_time": "2022-12-05T08:59:32.866Z"
   },
   {
    "duration": 52,
    "start_time": "2022-12-05T08:59:32.906Z"
   },
   {
    "duration": 3,
    "start_time": "2022-12-05T08:59:32.960Z"
   },
   {
    "duration": 16,
    "start_time": "2022-12-05T08:59:32.964Z"
   },
   {
    "duration": 23,
    "start_time": "2022-12-05T08:59:32.982Z"
   },
   {
    "duration": 8,
    "start_time": "2022-12-05T08:59:33.006Z"
   },
   {
    "duration": 9,
    "start_time": "2022-12-05T08:59:33.016Z"
   },
   {
    "duration": 7,
    "start_time": "2022-12-05T08:59:33.027Z"
   },
   {
    "duration": 638,
    "start_time": "2022-12-05T08:59:33.035Z"
   },
   {
    "duration": 571,
    "start_time": "2022-12-05T08:59:33.675Z"
   },
   {
    "duration": 1153,
    "start_time": "2022-12-05T09:06:06.434Z"
   },
   {
    "duration": 68,
    "start_time": "2022-12-05T09:06:07.589Z"
   },
   {
    "duration": 6,
    "start_time": "2022-12-05T09:06:07.658Z"
   },
   {
    "duration": 25,
    "start_time": "2022-12-05T09:06:07.665Z"
   },
   {
    "duration": 3,
    "start_time": "2022-12-05T09:06:07.692Z"
   },
   {
    "duration": 17,
    "start_time": "2022-12-05T09:06:07.697Z"
   },
   {
    "duration": 8,
    "start_time": "2022-12-05T09:06:07.715Z"
   },
   {
    "duration": 7,
    "start_time": "2022-12-05T09:06:07.724Z"
   },
   {
    "duration": 10,
    "start_time": "2022-12-05T09:06:07.732Z"
   },
   {
    "duration": 7,
    "start_time": "2022-12-05T09:06:07.743Z"
   },
   {
    "duration": 12,
    "start_time": "2022-12-05T09:06:07.751Z"
   },
   {
    "duration": 40,
    "start_time": "2022-12-05T09:06:07.764Z"
   },
   {
    "duration": 8,
    "start_time": "2022-12-05T09:06:07.806Z"
   },
   {
    "duration": 22,
    "start_time": "2022-12-05T09:06:07.817Z"
   },
   {
    "duration": 15,
    "start_time": "2022-12-05T09:06:07.841Z"
   },
   {
    "duration": 22,
    "start_time": "2022-12-05T09:06:07.857Z"
   },
   {
    "duration": 34,
    "start_time": "2022-12-05T09:06:07.880Z"
   },
   {
    "duration": 4,
    "start_time": "2022-12-05T09:06:07.915Z"
   },
   {
    "duration": 26,
    "start_time": "2022-12-05T09:06:07.920Z"
   },
   {
    "duration": 12,
    "start_time": "2022-12-05T09:06:07.948Z"
   },
   {
    "duration": 4,
    "start_time": "2022-12-05T09:06:07.962Z"
   },
   {
    "duration": 7,
    "start_time": "2022-12-05T09:06:07.968Z"
   },
   {
    "duration": 6,
    "start_time": "2022-12-05T09:06:08.004Z"
   },
   {
    "duration": 7,
    "start_time": "2022-12-05T09:06:08.011Z"
   },
   {
    "duration": 6,
    "start_time": "2022-12-05T09:06:08.020Z"
   },
   {
    "duration": 16,
    "start_time": "2022-12-05T09:06:08.028Z"
   },
   {
    "duration": 7,
    "start_time": "2022-12-05T09:06:08.046Z"
   },
   {
    "duration": 8,
    "start_time": "2022-12-05T09:06:08.055Z"
   },
   {
    "duration": 405,
    "start_time": "2022-12-05T09:06:08.064Z"
   },
   {
    "duration": 301,
    "start_time": "2022-12-05T09:06:08.471Z"
   },
   {
    "duration": 19,
    "start_time": "2022-12-05T09:06:08.773Z"
   },
   {
    "duration": 3,
    "start_time": "2022-12-05T09:06:08.804Z"
   },
   {
    "duration": 820,
    "start_time": "2022-12-05T09:06:08.809Z"
   },
   {
    "duration": 3,
    "start_time": "2022-12-05T09:06:09.630Z"
   },
   {
    "duration": 11,
    "start_time": "2022-12-05T09:06:09.634Z"
   },
   {
    "duration": 331,
    "start_time": "2022-12-05T09:06:09.647Z"
   },
   {
    "duration": 5,
    "start_time": "2022-12-05T09:06:09.980Z"
   },
   {
    "duration": 308,
    "start_time": "2022-12-05T09:06:09.987Z"
   },
   {
    "duration": 7,
    "start_time": "2022-12-05T09:06:10.297Z"
   },
   {
    "duration": 6,
    "start_time": "2022-12-05T09:06:10.306Z"
   },
   {
    "duration": 4,
    "start_time": "2022-12-05T09:06:10.316Z"
   },
   {
    "duration": 151,
    "start_time": "2022-12-05T09:06:10.322Z"
   },
   {
    "duration": 239,
    "start_time": "2022-12-05T09:06:10.474Z"
   },
   {
    "duration": 4,
    "start_time": "2022-12-05T09:06:10.715Z"
   },
   {
    "duration": 13,
    "start_time": "2022-12-05T09:06:10.721Z"
   },
   {
    "duration": 7,
    "start_time": "2022-12-05T09:06:10.735Z"
   },
   {
    "duration": 2191,
    "start_time": "2022-12-05T09:06:10.744Z"
   },
   {
    "duration": 16,
    "start_time": "2022-12-05T09:06:12.938Z"
   },
   {
    "duration": 182,
    "start_time": "2022-12-05T09:06:12.956Z"
   },
   {
    "duration": 258,
    "start_time": "2022-12-05T09:06:13.140Z"
   },
   {
    "duration": 440,
    "start_time": "2022-12-05T09:06:13.404Z"
   },
   {
    "duration": 15,
    "start_time": "2022-12-05T09:06:13.845Z"
   },
   {
    "duration": 14,
    "start_time": "2022-12-05T09:06:13.861Z"
   },
   {
    "duration": 34,
    "start_time": "2022-12-05T09:06:13.877Z"
   },
   {
    "duration": 276,
    "start_time": "2022-12-05T09:06:13.912Z"
   },
   {
    "duration": 23,
    "start_time": "2022-12-05T09:06:14.189Z"
   },
   {
    "duration": 13,
    "start_time": "2022-12-05T09:06:14.214Z"
   },
   {
    "duration": 12,
    "start_time": "2022-12-05T09:06:14.229Z"
   },
   {
    "duration": 321,
    "start_time": "2022-12-05T09:06:14.242Z"
   },
   {
    "duration": 15,
    "start_time": "2022-12-05T09:06:14.564Z"
   },
   {
    "duration": 25,
    "start_time": "2022-12-05T09:06:14.580Z"
   },
   {
    "duration": 13,
    "start_time": "2022-12-05T09:06:14.607Z"
   },
   {
    "duration": 306,
    "start_time": "2022-12-05T09:06:14.622Z"
   },
   {
    "duration": 19,
    "start_time": "2022-12-05T09:06:14.930Z"
   },
   {
    "duration": 80,
    "start_time": "2022-12-05T09:06:14.951Z"
   },
   {
    "duration": 29,
    "start_time": "2022-12-05T09:06:15.033Z"
   },
   {
    "duration": 455,
    "start_time": "2022-12-05T09:06:15.063Z"
   },
   {
    "duration": 16,
    "start_time": "2022-12-05T09:06:15.520Z"
   },
   {
    "duration": 79,
    "start_time": "2022-12-05T09:06:15.538Z"
   },
   {
    "duration": 34,
    "start_time": "2022-12-05T09:06:15.618Z"
   },
   {
    "duration": 601,
    "start_time": "2022-12-05T09:06:15.705Z"
   },
   {
    "duration": 15,
    "start_time": "2022-12-05T09:06:16.308Z"
   },
   {
    "duration": 37,
    "start_time": "2022-12-05T09:06:16.324Z"
   },
   {
    "duration": 55,
    "start_time": "2022-12-05T09:06:16.362Z"
   },
   {
    "duration": 310,
    "start_time": "2022-12-05T09:06:16.419Z"
   },
   {
    "duration": 5,
    "start_time": "2022-12-05T09:06:16.731Z"
   },
   {
    "duration": 17,
    "start_time": "2022-12-05T09:06:16.737Z"
   },
   {
    "duration": 69,
    "start_time": "2022-12-05T09:06:16.756Z"
   },
   {
    "duration": 69,
    "start_time": "2022-12-05T09:06:16.827Z"
   },
   {
    "duration": 52,
    "start_time": "2022-12-05T09:06:16.897Z"
   },
   {
    "duration": 83,
    "start_time": "2022-12-05T09:06:16.950Z"
   },
   {
    "duration": 54,
    "start_time": "2022-12-05T09:06:17.035Z"
   },
   {
    "duration": 37,
    "start_time": "2022-12-05T09:06:17.091Z"
   },
   {
    "duration": 14,
    "start_time": "2022-12-05T09:06:17.130Z"
   },
   {
    "duration": 32,
    "start_time": "2022-12-05T09:06:17.145Z"
   },
   {
    "duration": 55,
    "start_time": "2022-12-05T09:06:17.179Z"
   },
   {
    "duration": 3,
    "start_time": "2022-12-05T09:06:17.236Z"
   },
   {
    "duration": 10,
    "start_time": "2022-12-05T09:06:17.240Z"
   },
   {
    "duration": 20,
    "start_time": "2022-12-05T09:06:17.252Z"
   },
   {
    "duration": 28,
    "start_time": "2022-12-05T09:06:17.274Z"
   },
   {
    "duration": 15,
    "start_time": "2022-12-05T09:06:17.304Z"
   },
   {
    "duration": 21,
    "start_time": "2022-12-05T09:06:17.321Z"
   },
   {
    "duration": 603,
    "start_time": "2022-12-05T09:06:17.344Z"
   },
   {
    "duration": 624,
    "start_time": "2022-12-05T09:06:17.949Z"
   }
  ],
  "kernelspec": {
   "display_name": "Python 3 (ipykernel)",
   "language": "python",
   "name": "python3"
  },
  "language_info": {
   "codemirror_mode": {
    "name": "ipython",
    "version": 3
   },
   "file_extension": ".py",
   "mimetype": "text/x-python",
   "name": "python",
   "nbconvert_exporter": "python",
   "pygments_lexer": "ipython3",
   "version": "3.11.4"
  },
  "toc": {
   "base_numbering": 1,
   "nav_menu": {},
   "number_sections": true,
   "sideBar": true,
   "skip_h1_title": true,
   "title_cell": "Table of Contents",
   "title_sidebar": "Contents",
   "toc_cell": false,
   "toc_position": {
    "height": "calc(100% - 180px)",
    "left": "10px",
    "top": "150px",
    "width": "165px"
   },
   "toc_section_display": true,
   "toc_window_display": true
  }
 },
 "nbformat": 4,
 "nbformat_minor": 2
}
